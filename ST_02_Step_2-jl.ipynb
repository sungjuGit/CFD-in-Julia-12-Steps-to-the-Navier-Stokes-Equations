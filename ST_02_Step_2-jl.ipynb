{
 "cells": [
  {
   "cell_type": "markdown",
   "metadata": {},
   "source": [
    "This is a Julian fork of the 12 steps to Navier-Stokes (Python) [https://github.com/barbagroup/CFDPython] by Lorena A. Barba, Gilbert F. Forsyth . All content of that work is under Creative Commons Attribution CC-BY 4.0, and all python code is under BSD-3 clause. This work also derives from similar forks by Cysor [https://github.com/Cysor/CFDJulia] and by Wallace-dyfq [https://github.com/Wallace-dyfq/CFD-Julia-12-steps--o-Navier-Stokes-Equations]"
   ]
  },
  {
   "cell_type": "markdown",
   "metadata": {},
   "source": [
    "Step 2: Non-linear Convection\n",
    "-----\n",
    "***"
   ]
  },
  {
   "cell_type": "markdown",
   "metadata": {},
   "source": [
    "Now we're going to implement non-linear convection using the same methods as in step 1.  The 1D convection equation is:\n",
    "\n",
    "$$\\frac{\\partial u}{\\partial t} + u \\frac{\\partial u}{\\partial x} = 0$$\n",
    "\n",
    "Instead of a constant factor $c$ multiplying the second term, now we have the solution $u$ multiplying it. Thus, the second term of the equation is now *non-linear*  We're going to use the same discretization as in Step 1 — forward difference in time and backward difference in space. Here is the discretized equation.\n",
    "\n",
    "$$\\frac{u_i^{n+1}-u_i^n}{\\Delta t} + u_i^n \\frac{u_i^n-u_{i-1}^n}{\\Delta x} = 0$$\n",
    "\n",
    "Solving for the only unknown term, $u_i^{n+1}$, yields:\n",
    "\n",
    "$$u_i^{n+1} = u_i^n - u_i^n \\frac{\\Delta t}{\\Delta x} (u_i^n - u_{i-1}^n)$$"
   ]
  },
  {
   "cell_type": "markdown",
   "metadata": {},
   "source": [
    "As before, the Julia code starts by using the necessary packages. Then, we declare some variables that determine the discretization in space and time (you should experiment by changing these parameters to see what happens). Then, we create the initial condition $u_0$ by initializing the array for the solution using $u = 2\\ @\\ 0.5 \\leq x \\leq 1$  and $u = 1$ everywhere else in $(0,2)$ (i.e., a hat function)."
   ]
  },
  {
   "cell_type": "code",
   "execution_count": 1,
   "metadata": {},
   "outputs": [],
   "source": [
    "using Plots"
   ]
  },
  {
   "cell_type": "code",
   "execution_count": 16,
   "metadata": {},
   "outputs": [],
   "source": [
    "L = 2.0\n",
    "nx = 41\n",
    "Δx = L/(nx-1)\n",
    "\n",
    "Tₑ = .625\n",
    "nt = 25\n",
    "Δt = Tₑ/nt\n",
    "\n",
    "x = range(0, L; length = nx);\n",
    "t = range(0, Tₑ; length = nt);"
   ]
  },
  {
   "cell_type": "code",
   "execution_count": 17,
   "metadata": {},
   "outputs": [],
   "source": [
    "u₀ = ones(nx);\n",
    "\n",
    "u₀[0.5 .≤ x .≤ 1.0] .= 2;"
   ]
  },
  {
   "cell_type": "code",
   "execution_count": 18,
   "metadata": {},
   "outputs": [
    {
     "data": {
      "image/svg+xml": [
       "<?xml version=\"1.0\" encoding=\"utf-8\"?>\n",
       "<svg xmlns=\"http://www.w3.org/2000/svg\" xmlns:xlink=\"http://www.w3.org/1999/xlink\" width=\"600\" height=\"400\" viewBox=\"0 0 2400 1600\">\n",
       "<defs>\n",
       "  <clipPath id=\"clip7600\">\n",
       "    <rect x=\"0\" y=\"0\" width=\"2400\" height=\"1600\"/>\n",
       "  </clipPath>\n",
       "</defs>\n",
       "<path clip-path=\"url(#clip7600)\" d=\"\n",
       "M0 1600 L2400 1600 L2400 0 L0 0  Z\n",
       "  \" fill=\"#ffffff\" fill-rule=\"evenodd\" fill-opacity=\"1\"/>\n",
       "<defs>\n",
       "  <clipPath id=\"clip7601\">\n",
       "    <rect x=\"480\" y=\"0\" width=\"1681\" height=\"1600\"/>\n",
       "  </clipPath>\n",
       "</defs>\n",
       "<path clip-path=\"url(#clip7600)\" d=\"\n",
       "M145.904 1486.45 L2352.76 1486.45 L2352.76 47.2441 L145.904 47.2441  Z\n",
       "  \" fill=\"#ffffff\" fill-rule=\"evenodd\" fill-opacity=\"1\"/>\n",
       "<defs>\n",
       "  <clipPath id=\"clip7602\">\n",
       "    <rect x=\"145\" y=\"47\" width=\"2208\" height=\"1440\"/>\n",
       "  </clipPath>\n",
       "</defs>\n",
       "<polyline clip-path=\"url(#clip7602)\" style=\"stroke:#000000; stroke-width:2; stroke-opacity:0.1; fill:none\" points=\"\n",
       "  208.362,1486.45 208.362,47.2441 \n",
       "  \"/>\n",
       "<polyline clip-path=\"url(#clip7602)\" style=\"stroke:#000000; stroke-width:2; stroke-opacity:0.1; fill:none\" points=\"\n",
       "  728.846,1486.45 728.846,47.2441 \n",
       "  \"/>\n",
       "<polyline clip-path=\"url(#clip7602)\" style=\"stroke:#000000; stroke-width:2; stroke-opacity:0.1; fill:none\" points=\"\n",
       "  1249.33,1486.45 1249.33,47.2441 \n",
       "  \"/>\n",
       "<polyline clip-path=\"url(#clip7602)\" style=\"stroke:#000000; stroke-width:2; stroke-opacity:0.1; fill:none\" points=\"\n",
       "  1769.81,1486.45 1769.81,47.2441 \n",
       "  \"/>\n",
       "<polyline clip-path=\"url(#clip7602)\" style=\"stroke:#000000; stroke-width:2; stroke-opacity:0.1; fill:none\" points=\"\n",
       "  2290.3,1486.45 2290.3,47.2441 \n",
       "  \"/>\n",
       "<polyline clip-path=\"url(#clip7602)\" style=\"stroke:#000000; stroke-width:2; stroke-opacity:0.1; fill:none\" points=\"\n",
       "  145.904,1173.76 2352.76,1173.76 \n",
       "  \"/>\n",
       "<polyline clip-path=\"url(#clip7602)\" style=\"stroke:#000000; stroke-width:2; stroke-opacity:0.1; fill:none\" points=\"\n",
       "  145.904,765.821 2352.76,765.821 \n",
       "  \"/>\n",
       "<polyline clip-path=\"url(#clip7602)\" style=\"stroke:#000000; stroke-width:2; stroke-opacity:0.1; fill:none\" points=\"\n",
       "  145.904,357.884 2352.76,357.884 \n",
       "  \"/>\n",
       "<polyline clip-path=\"url(#clip7602)\" style=\"stroke:#000000; stroke-width:2; stroke-opacity:0.1; fill:none\" points=\"\n",
       "  145.904,85.9263 2352.76,85.9263 \n",
       "  \"/>\n",
       "<polyline clip-path=\"url(#clip7600)\" style=\"stroke:#000000; stroke-width:4; stroke-opacity:1; fill:none\" points=\"\n",
       "  145.904,1486.45 2352.76,1486.45 \n",
       "  \"/>\n",
       "<polyline clip-path=\"url(#clip7600)\" style=\"stroke:#000000; stroke-width:4; stroke-opacity:1; fill:none\" points=\"\n",
       "  145.904,1486.45 145.904,47.2441 \n",
       "  \"/>\n",
       "<polyline clip-path=\"url(#clip7600)\" style=\"stroke:#000000; stroke-width:4; stroke-opacity:1; fill:none\" points=\"\n",
       "  208.362,1486.45 208.362,1469.18 \n",
       "  \"/>\n",
       "<polyline clip-path=\"url(#clip7600)\" style=\"stroke:#000000; stroke-width:4; stroke-opacity:1; fill:none\" points=\"\n",
       "  728.846,1486.45 728.846,1469.18 \n",
       "  \"/>\n",
       "<polyline clip-path=\"url(#clip7600)\" style=\"stroke:#000000; stroke-width:4; stroke-opacity:1; fill:none\" points=\"\n",
       "  1249.33,1486.45 1249.33,1469.18 \n",
       "  \"/>\n",
       "<polyline clip-path=\"url(#clip7600)\" style=\"stroke:#000000; stroke-width:4; stroke-opacity:1; fill:none\" points=\"\n",
       "  1769.81,1486.45 1769.81,1469.18 \n",
       "  \"/>\n",
       "<polyline clip-path=\"url(#clip7600)\" style=\"stroke:#000000; stroke-width:4; stroke-opacity:1; fill:none\" points=\"\n",
       "  2290.3,1486.45 2290.3,1469.18 \n",
       "  \"/>\n",
       "<polyline clip-path=\"url(#clip7600)\" style=\"stroke:#000000; stroke-width:4; stroke-opacity:1; fill:none\" points=\"\n",
       "  145.904,1173.76 172.386,1173.76 \n",
       "  \"/>\n",
       "<polyline clip-path=\"url(#clip7600)\" style=\"stroke:#000000; stroke-width:4; stroke-opacity:1; fill:none\" points=\"\n",
       "  145.904,765.821 172.386,765.821 \n",
       "  \"/>\n",
       "<polyline clip-path=\"url(#clip7600)\" style=\"stroke:#000000; stroke-width:4; stroke-opacity:1; fill:none\" points=\"\n",
       "  145.904,357.884 172.386,357.884 \n",
       "  \"/>\n",
       "<polyline clip-path=\"url(#clip7600)\" style=\"stroke:#000000; stroke-width:4; stroke-opacity:1; fill:none\" points=\"\n",
       "  145.904,85.9263 172.386,85.9263 \n",
       "  \"/>\n",
       "<path clip-path=\"url(#clip7600)\" d=\"M 0 0 M189.878 1508.44 Q186.267 1508.44 184.438 1512 Q182.633 1515.55 182.633 1522.67 Q182.633 1529.78 184.438 1533.35 Q186.267 1536.89 189.878 1536.89 Q193.512 1536.89 195.318 1533.35 Q197.147 1529.78 197.147 1522.67 Q197.147 1515.55 195.318 1512 Q193.512 1508.44 189.878 1508.44 M189.878 1504.73 Q195.688 1504.73 198.744 1509.34 Q201.823 1513.92 201.823 1522.67 Q201.823 1531.4 198.744 1536.01 Q195.688 1540.59 189.878 1540.59 Q184.068 1540.59 180.989 1536.01 Q177.934 1531.4 177.934 1522.67 Q177.934 1513.92 180.989 1509.34 Q184.068 1504.73 189.878 1504.73 Z\" fill=\"#000000\" fill-rule=\"evenodd\" fill-opacity=\"1\" /><path clip-path=\"url(#clip7600)\" d=\"M 0 0 M206.892 1534.04 L211.776 1534.04 L211.776 1539.92 L206.892 1539.92 L206.892 1534.04 Z\" fill=\"#000000\" fill-rule=\"evenodd\" fill-opacity=\"1\" /><path clip-path=\"url(#clip7600)\" d=\"M 0 0 M226.846 1508.44 Q223.235 1508.44 221.406 1512 Q219.6 1515.55 219.6 1522.67 Q219.6 1529.78 221.406 1533.35 Q223.235 1536.89 226.846 1536.89 Q230.48 1536.89 232.285 1533.35 Q234.114 1529.78 234.114 1522.67 Q234.114 1515.55 232.285 1512 Q230.48 1508.44 226.846 1508.44 M226.846 1504.73 Q232.656 1504.73 235.711 1509.34 Q238.79 1513.92 238.79 1522.67 Q238.79 1531.4 235.711 1536.01 Q232.656 1540.59 226.846 1540.59 Q221.035 1540.59 217.957 1536.01 Q214.901 1531.4 214.901 1522.67 Q214.901 1513.92 217.957 1509.34 Q221.035 1504.73 226.846 1504.73 Z\" fill=\"#000000\" fill-rule=\"evenodd\" fill-opacity=\"1\" /><path clip-path=\"url(#clip7600)\" d=\"M 0 0 M710.86 1508.44 Q707.249 1508.44 705.42 1512 Q703.615 1515.55 703.615 1522.67 Q703.615 1529.78 705.42 1533.35 Q707.249 1536.89 710.86 1536.89 Q714.494 1536.89 716.3 1533.35 Q718.128 1529.78 718.128 1522.67 Q718.128 1515.55 716.3 1512 Q714.494 1508.44 710.86 1508.44 M710.86 1504.73 Q716.67 1504.73 719.726 1509.34 Q722.804 1513.92 722.804 1522.67 Q722.804 1531.4 719.726 1536.01 Q716.67 1540.59 710.86 1540.59 Q705.05 1540.59 701.971 1536.01 Q698.916 1531.4 698.916 1522.67 Q698.916 1513.92 701.971 1509.34 Q705.05 1504.73 710.86 1504.73 Z\" fill=\"#000000\" fill-rule=\"evenodd\" fill-opacity=\"1\" /><path clip-path=\"url(#clip7600)\" d=\"M 0 0 M727.874 1534.04 L732.758 1534.04 L732.758 1539.92 L727.874 1539.92 L727.874 1534.04 Z\" fill=\"#000000\" fill-rule=\"evenodd\" fill-opacity=\"1\" /><path clip-path=\"url(#clip7600)\" d=\"M 0 0 M737.874 1505.36 L756.23 1505.36 L756.23 1509.3 L742.156 1509.3 L742.156 1517.77 Q743.175 1517.42 744.193 1517.26 Q745.212 1517.07 746.23 1517.07 Q752.017 1517.07 755.397 1520.24 Q758.776 1523.42 758.776 1528.83 Q758.776 1534.41 755.304 1537.51 Q751.832 1540.59 745.512 1540.59 Q743.337 1540.59 741.068 1540.22 Q738.823 1539.85 736.415 1539.11 L736.415 1534.41 Q738.499 1535.54 740.721 1536.1 Q742.943 1536.66 745.42 1536.66 Q749.424 1536.66 751.762 1534.55 Q754.1 1532.44 754.1 1528.83 Q754.1 1525.22 751.762 1523.11 Q749.424 1521.01 745.42 1521.01 Q743.545 1521.01 741.67 1521.42 Q739.818 1521.84 737.874 1522.72 L737.874 1505.36 Z\" fill=\"#000000\" fill-rule=\"evenodd\" fill-opacity=\"1\" /><path clip-path=\"url(#clip7600)\" d=\"M 0 0 M1221.23 1535.98 L1228.87 1535.98 L1228.87 1509.62 L1220.56 1511.29 L1220.56 1507.03 L1228.82 1505.36 L1233.5 1505.36 L1233.5 1535.98 L1241.14 1535.98 L1241.14 1539.92 L1221.23 1539.92 L1221.23 1535.98 Z\" fill=\"#000000\" fill-rule=\"evenodd\" fill-opacity=\"1\" /><path clip-path=\"url(#clip7600)\" d=\"M 0 0 M1246.2 1534.04 L1251.09 1534.04 L1251.09 1539.92 L1246.2 1539.92 L1246.2 1534.04 Z\" fill=\"#000000\" fill-rule=\"evenodd\" fill-opacity=\"1\" /><path clip-path=\"url(#clip7600)\" d=\"M 0 0 M1266.16 1508.44 Q1262.55 1508.44 1260.72 1512 Q1258.91 1515.55 1258.91 1522.67 Q1258.91 1529.78 1260.72 1533.35 Q1262.55 1536.89 1266.16 1536.89 Q1269.79 1536.89 1271.6 1533.35 Q1273.43 1529.78 1273.43 1522.67 Q1273.43 1515.55 1271.6 1512 Q1269.79 1508.44 1266.16 1508.44 M1266.16 1504.73 Q1271.97 1504.73 1275.02 1509.34 Q1278.1 1513.92 1278.1 1522.67 Q1278.1 1531.4 1275.02 1536.01 Q1271.97 1540.59 1266.16 1540.59 Q1260.35 1540.59 1257.27 1536.01 Q1254.21 1531.4 1254.21 1522.67 Q1254.21 1513.92 1257.27 1509.34 Q1260.35 1504.73 1266.16 1504.73 Z\" fill=\"#000000\" fill-rule=\"evenodd\" fill-opacity=\"1\" /><path clip-path=\"url(#clip7600)\" d=\"M 0 0 M1742.21 1535.98 L1749.85 1535.98 L1749.85 1509.62 L1741.54 1511.29 L1741.54 1507.03 L1749.8 1505.36 L1754.48 1505.36 L1754.48 1535.98 L1762.12 1535.98 L1762.12 1539.92 L1742.21 1539.92 L1742.21 1535.98 Z\" fill=\"#000000\" fill-rule=\"evenodd\" fill-opacity=\"1\" /><path clip-path=\"url(#clip7600)\" d=\"M 0 0 M1767.19 1534.04 L1772.07 1534.04 L1772.07 1539.92 L1767.19 1539.92 L1767.19 1534.04 Z\" fill=\"#000000\" fill-rule=\"evenodd\" fill-opacity=\"1\" /><path clip-path=\"url(#clip7600)\" d=\"M 0 0 M1777.19 1505.36 L1795.54 1505.36 L1795.54 1509.3 L1781.47 1509.3 L1781.47 1517.77 Q1782.49 1517.42 1783.51 1517.26 Q1784.52 1517.07 1785.54 1517.07 Q1791.33 1517.07 1794.71 1520.24 Q1798.09 1523.42 1798.09 1528.83 Q1798.09 1534.41 1794.62 1537.51 Q1791.14 1540.59 1784.83 1540.59 Q1782.65 1540.59 1780.38 1540.22 Q1778.14 1539.85 1775.73 1539.11 L1775.73 1534.41 Q1777.81 1535.54 1780.03 1536.1 Q1782.26 1536.66 1784.73 1536.66 Q1788.74 1536.66 1791.08 1534.55 Q1793.41 1532.44 1793.41 1528.83 Q1793.41 1525.22 1791.08 1523.11 Q1788.74 1521.01 1784.73 1521.01 Q1782.86 1521.01 1780.98 1521.42 Q1779.13 1521.84 1777.19 1522.72 L1777.19 1505.36 Z\" fill=\"#000000\" fill-rule=\"evenodd\" fill-opacity=\"1\" /><path clip-path=\"url(#clip7600)\" d=\"M 0 0 M2266.47 1535.98 L2282.79 1535.98 L2282.79 1539.92 L2260.84 1539.92 L2260.84 1535.98 Q2263.5 1533.23 2268.09 1528.6 Q2272.69 1523.95 2273.87 1522.61 Q2276.12 1520.08 2277 1518.35 Q2277.9 1516.59 2277.9 1514.9 Q2277.9 1512.14 2275.96 1510.41 Q2274.04 1508.67 2270.93 1508.67 Q2268.74 1508.67 2266.28 1509.43 Q2263.85 1510.2 2261.07 1511.75 L2261.07 1507.03 Q2263.9 1505.89 2266.35 1505.31 Q2268.8 1504.73 2270.84 1504.73 Q2276.21 1504.73 2279.41 1507.42 Q2282.6 1510.11 2282.6 1514.6 Q2282.6 1516.73 2281.79 1518.65 Q2281 1520.54 2278.9 1523.14 Q2278.32 1523.81 2275.22 1527.03 Q2272.12 1530.22 2266.47 1535.98 Z\" fill=\"#000000\" fill-rule=\"evenodd\" fill-opacity=\"1\" /><path clip-path=\"url(#clip7600)\" d=\"M 0 0 M2287.86 1534.04 L2292.74 1534.04 L2292.74 1539.92 L2287.86 1539.92 L2287.86 1534.04 Z\" fill=\"#000000\" fill-rule=\"evenodd\" fill-opacity=\"1\" /><path clip-path=\"url(#clip7600)\" d=\"M 0 0 M2307.81 1508.44 Q2304.2 1508.44 2302.37 1512 Q2300.56 1515.55 2300.56 1522.67 Q2300.56 1529.78 2302.37 1533.35 Q2304.2 1536.89 2307.81 1536.89 Q2311.44 1536.89 2313.25 1533.35 Q2315.08 1529.78 2315.08 1522.67 Q2315.08 1515.55 2313.25 1512 Q2311.44 1508.44 2307.81 1508.44 M2307.81 1504.73 Q2313.62 1504.73 2316.68 1509.34 Q2319.75 1513.92 2319.75 1522.67 Q2319.75 1531.4 2316.68 1536.01 Q2313.62 1540.59 2307.81 1540.59 Q2302 1540.59 2298.92 1536.01 Q2295.86 1531.4 2295.86 1522.67 Q2295.86 1513.92 2298.92 1509.34 Q2302 1504.73 2307.81 1504.73 Z\" fill=\"#000000\" fill-rule=\"evenodd\" fill-opacity=\"1\" /><path clip-path=\"url(#clip7600)\" d=\"M 0 0 M66.6264 1187.1 L74.2652 1187.1 L74.2652 1160.74 L65.9551 1162.4 L65.9551 1158.14 L74.2189 1156.48 L78.8948 1156.48 L78.8948 1187.1 L86.5337 1187.1 L86.5337 1191.04 L66.6264 1191.04 L66.6264 1187.1 Z\" fill=\"#000000\" fill-rule=\"evenodd\" fill-opacity=\"1\" /><path clip-path=\"url(#clip7600)\" d=\"M 0 0 M91.6031 1185.16 L96.4873 1185.16 L96.4873 1191.04 L91.6031 1191.04 L91.6031 1185.16 Z\" fill=\"#000000\" fill-rule=\"evenodd\" fill-opacity=\"1\" /><path clip-path=\"url(#clip7600)\" d=\"M 0 0 M105.584 1187.1 L121.904 1187.1 L121.904 1191.04 L99.9595 1191.04 L99.9595 1187.1 Q102.622 1184.35 107.205 1179.72 Q111.811 1175.07 112.992 1173.72 Q115.237 1171.2 116.117 1169.46 Q117.02 1167.7 117.02 1166.01 Q117.02 1163.26 115.075 1161.52 Q113.154 1159.79 110.052 1159.79 Q107.853 1159.79 105.399 1160.55 Q102.969 1161.32 100.191 1162.87 L100.191 1158.14 Q103.015 1157.01 105.469 1156.43 Q107.922 1155.85 109.959 1155.85 Q115.33 1155.85 118.524 1158.54 Q121.719 1161.22 121.719 1165.71 Q121.719 1167.84 120.908 1169.76 Q120.121 1171.66 118.015 1174.26 Q117.436 1174.93 114.334 1178.14 Q111.233 1181.34 105.584 1187.1 Z\" fill=\"#000000\" fill-rule=\"evenodd\" fill-opacity=\"1\" /><path clip-path=\"url(#clip7600)\" d=\"M 0 0 M66.0245 779.166 L73.6634 779.166 L73.6634 752.8 L65.3532 754.467 L65.3532 750.208 L73.6171 748.541 L78.293 748.541 L78.293 779.166 L85.9318 779.166 L85.9318 783.101 L66.0245 783.101 L66.0245 779.166 Z\" fill=\"#000000\" fill-rule=\"evenodd\" fill-opacity=\"1\" /><path clip-path=\"url(#clip7600)\" d=\"M 0 0 M91.0012 777.221 L95.8855 777.221 L95.8855 783.101 L91.0012 783.101 L91.0012 777.221 Z\" fill=\"#000000\" fill-rule=\"evenodd\" fill-opacity=\"1\" /><path clip-path=\"url(#clip7600)\" d=\"M 0 0 M101.001 748.541 L119.358 748.541 L119.358 752.476 L105.284 752.476 L105.284 760.948 Q106.302 760.601 107.321 760.439 Q108.339 760.254 109.358 760.254 Q115.145 760.254 118.524 763.425 Q121.904 766.596 121.904 772.013 Q121.904 777.592 118.432 780.694 Q114.959 783.772 108.64 783.772 Q106.464 783.772 104.196 783.402 Q101.95 783.032 99.5429 782.291 L99.5429 777.592 Q101.626 778.726 103.848 779.282 Q106.071 779.837 108.547 779.837 Q112.552 779.837 114.89 777.731 Q117.228 775.624 117.228 772.013 Q117.228 768.402 114.89 766.296 Q112.552 764.189 108.547 764.189 Q106.672 764.189 104.797 764.606 Q102.946 765.022 101.001 765.902 L101.001 748.541 Z\" fill=\"#000000\" fill-rule=\"evenodd\" fill-opacity=\"1\" /><path clip-path=\"url(#clip7600)\" d=\"M 0 0 M65.1217 371.229 L72.7606 371.229 L72.7606 344.863 L64.4505 346.53 L64.4505 342.271 L72.7143 340.604 L77.3902 340.604 L77.3902 371.229 L85.029 371.229 L85.029 375.164 L65.1217 375.164 L65.1217 371.229 Z\" fill=\"#000000\" fill-rule=\"evenodd\" fill-opacity=\"1\" /><path clip-path=\"url(#clip7600)\" d=\"M 0 0 M90.0985 369.285 L94.9827 369.285 L94.9827 375.164 L90.0985 375.164 L90.0985 369.285 Z\" fill=\"#000000\" fill-rule=\"evenodd\" fill-opacity=\"1\" /><path clip-path=\"url(#clip7600)\" d=\"M 0 0 M110.052 358.752 Q106.719 358.752 104.797 360.535 Q102.899 362.317 102.899 365.442 Q102.899 368.567 104.797 370.349 Q106.719 372.132 110.052 372.132 Q113.385 372.132 115.307 370.349 Q117.228 368.544 117.228 365.442 Q117.228 362.317 115.307 360.535 Q113.409 358.752 110.052 358.752 M105.376 356.762 Q102.367 356.021 100.677 353.961 Q99.0105 351.9 99.0105 348.937 Q99.0105 344.794 101.95 342.387 Q104.913 339.979 110.052 339.979 Q115.214 339.979 118.154 342.387 Q121.094 344.794 121.094 348.937 Q121.094 351.9 119.404 353.961 Q117.737 356.021 114.751 356.762 Q118.131 357.549 120.006 359.84 Q121.904 362.132 121.904 365.442 Q121.904 370.465 118.825 373.15 Q115.77 375.835 110.052 375.835 Q104.334 375.835 101.256 373.15 Q98.2003 370.465 98.2003 365.442 Q98.2003 362.132 100.098 359.84 Q101.997 357.549 105.376 356.762 M103.663 349.377 Q103.663 352.062 105.33 353.567 Q107.02 355.072 110.052 355.072 Q113.061 355.072 114.751 353.567 Q116.464 352.062 116.464 349.377 Q116.464 346.692 114.751 345.188 Q113.061 343.683 110.052 343.683 Q107.02 343.683 105.33 345.188 Q103.663 346.692 103.663 349.377 Z\" fill=\"#000000\" fill-rule=\"evenodd\" fill-opacity=\"1\" /><path clip-path=\"url(#clip7600)\" d=\"M 0 0 M68.6171 99.2712 L84.9365 99.2712 L84.9365 103.206 L62.9921 103.206 L62.9921 99.2712 Q65.6541 96.5166 70.2375 91.8869 Q74.8439 87.2342 76.0245 85.8916 Q78.2698 83.3685 79.1494 81.6324 Q80.0522 79.8731 80.0522 78.1833 Q80.0522 75.4287 78.1078 73.6926 Q76.1865 71.9565 73.0847 71.9565 Q70.8856 71.9565 68.4319 72.7204 Q66.0014 73.4843 63.2236 75.0352 L63.2236 70.313 Q66.0477 69.1787 68.5014 68.6 Q70.955 68.0213 72.9921 68.0213 Q78.3624 68.0213 81.5568 70.7065 Q84.7513 73.3917 84.7513 77.8824 Q84.7513 80.012 83.9411 81.9333 Q83.1541 83.8314 81.0476 86.424 Q80.4689 87.0953 77.367 90.3129 Q74.2652 93.5073 68.6171 99.2712 Z\" fill=\"#000000\" fill-rule=\"evenodd\" fill-opacity=\"1\" /><path clip-path=\"url(#clip7600)\" d=\"M 0 0 M90.0059 97.3267 L94.8901 97.3267 L94.8901 103.206 L90.0059 103.206 L90.0059 97.3267 Z\" fill=\"#000000\" fill-rule=\"evenodd\" fill-opacity=\"1\" /><path clip-path=\"url(#clip7600)\" d=\"M 0 0 M109.959 71.725 Q106.348 71.725 104.52 75.2898 Q102.714 78.8315 102.714 85.9611 Q102.714 93.0675 104.52 96.6323 Q106.348 100.174 109.959 100.174 Q113.594 100.174 115.399 96.6323 Q117.228 93.0675 117.228 85.9611 Q117.228 78.8315 115.399 75.2898 Q113.594 71.725 109.959 71.725 M109.959 68.0213 Q115.77 68.0213 118.825 72.6278 Q121.904 77.2111 121.904 85.9611 Q121.904 94.6879 118.825 99.2943 Q115.77 103.878 109.959 103.878 Q104.149 103.878 101.071 99.2943 Q98.0151 94.6879 98.0151 85.9611 Q98.0151 77.2111 101.071 72.6278 Q104.149 68.0213 109.959 68.0213 Z\" fill=\"#000000\" fill-rule=\"evenodd\" fill-opacity=\"1\" /><polyline clip-path=\"url(#clip7602)\" style=\"stroke:#009af9; stroke-width:4; stroke-opacity:1; fill:none\" points=\"\n",
       "  208.362,1445.72 260.41,1445.72 312.459,1445.72 364.507,1445.72 416.556,1445.72 468.604,1445.72 520.652,1445.72 572.701,1445.72 624.749,1445.72 676.798,1445.72 \n",
       "  728.846,1445.72 780.894,1445.72 832.943,1445.72 884.991,1445.72 937.039,1445.72 989.088,1445.72 1041.14,1445.72 1093.18,1445.72 1145.23,1445.72 1197.28,1445.72 \n",
       "  1249.33,1445.72 1301.38,1445.72 1353.43,1445.72 1405.48,1445.72 1457.52,1445.72 1509.57,1445.72 1561.62,1445.72 1613.67,1445.72 1665.72,1445.72 1717.77,1445.72 \n",
       "  1769.81,1445.72 1821.86,1445.72 1873.91,1445.72 1925.96,1445.72 1978.01,1445.66 2030.06,87.9763 2082.1,286.041 2134.15,923.353 2186.2,1302.68 2238.25,1413.73 \n",
       "  2290.3,1439.39 \n",
       "  \"/>\n",
       "<path clip-path=\"url(#clip7600)\" d=\"\n",
       "M1989.74 251.724 L2280.76 251.724 L2280.76 130.764 L1989.74 130.764  Z\n",
       "  \" fill=\"#ffffff\" fill-rule=\"evenodd\" fill-opacity=\"1\"/>\n",
       "<polyline clip-path=\"url(#clip7600)\" style=\"stroke:#000000; stroke-width:4; stroke-opacity:1; fill:none\" points=\"\n",
       "  1989.74,251.724 2280.76,251.724 2280.76,130.764 1989.74,130.764 1989.74,251.724 \n",
       "  \"/>\n",
       "<polyline clip-path=\"url(#clip7600)\" style=\"stroke:#009af9; stroke-width:4; stroke-opacity:1; fill:none\" points=\"\n",
       "  2013.74,191.244 2157.74,191.244 \n",
       "  \"/>\n",
       "<path clip-path=\"url(#clip7600)\" d=\"M 0 0 M2195.58 210.931 Q2193.77 215.561 2192.06 216.973 Q2190.35 218.385 2187.48 218.385 L2184.08 218.385 L2184.08 214.82 L2186.58 214.82 Q2188.33 214.82 2189.31 213.987 Q2190.28 213.154 2191.46 210.052 L2192.22 208.107 L2181.74 182.598 L2186.25 182.598 L2194.35 202.876 L2202.46 182.598 L2206.97 182.598 L2195.58 210.931 Z\" fill=\"#000000\" fill-rule=\"evenodd\" fill-opacity=\"1\" /><path clip-path=\"url(#clip7600)\" d=\"M 0 0 M2212.85 204.589 L2220.49 204.589 L2220.49 178.223 L2212.18 179.89 L2212.18 175.631 L2220.44 173.964 L2225.12 173.964 L2225.12 204.589 L2232.76 204.589 L2232.76 208.524 L2212.85 208.524 L2212.85 204.589 Z\" fill=\"#000000\" fill-rule=\"evenodd\" fill-opacity=\"1\" /></svg>\n"
      ]
     },
     "execution_count": 18,
     "metadata": {},
     "output_type": "execute_result"
    }
   ],
   "source": [
    "uⁿ⁺¹ = similar(u₀)\n",
    "uⁿ⁺¹ .= u₀\n",
    "\n",
    "uⁿ = similar(u₀)\n",
    "\n",
    "for n in 1:nt\n",
    "    uⁿ .= uⁿ⁺¹\n",
    "    for i in 2:nx\n",
    "        uⁿ⁺¹[i] = uⁿ[i] - uⁿ[i] * Δt/Δx * (uⁿ[i] - uⁿ[i-1])\n",
    "    end\n",
    "end\n",
    "\n",
    "plot(x, uⁿ⁺¹)"
   ]
  },
  {
   "cell_type": "markdown",
   "metadata": {},
   "source": [
    "What do you observe about the evolution of the hat function under the nonlinear convection equation? What happens when you change the numerical parameters (e.g., nx = 81) and run again?"
   ]
  },
  {
   "cell_type": "code",
   "execution_count": null,
   "metadata": {},
   "outputs": [],
   "source": []
  }
 ],
 "metadata": {
  "kernelspec": {
   "display_name": "Julia 1.4.0",
   "language": "julia",
   "name": "julia-1.4"
  },
  "language_info": {
   "file_extension": ".jl",
   "mimetype": "application/julia",
   "name": "julia",
   "version": "1.4.0"
  }
 },
 "nbformat": 4,
 "nbformat_minor": 1
}

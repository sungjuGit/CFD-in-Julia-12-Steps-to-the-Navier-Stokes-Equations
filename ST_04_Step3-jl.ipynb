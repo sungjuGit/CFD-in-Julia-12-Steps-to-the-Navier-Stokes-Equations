{
 "cells": [
  {
   "cell_type": "markdown",
   "metadata": {},
   "source": [
    "This is a Julian fork of the 12 steps to Navier-Stokes (Python) [https://github.com/barbagroup/CFDPython] by Lorena A. Barba, Gilbert F. Forsyth . All content of that work is under Creative Commons Attribution CC-BY 4.0, and all python code is under BSD-3 clause. This work also derives from similar forks by Cysor [https://github.com/Cysor/CFDJulia] and by Wallace-dyfq [https://github.com/Wallace-dyfq/CFD-Julia-12-steps--o-Navier-Stokes-Equations]"
   ]
  },
  {
   "cell_type": "markdown",
   "metadata": {},
   "source": [
    "Step 3: Diffusion Equation in 1-D\n",
    "-----\n",
    "***"
   ]
  },
  {
   "cell_type": "markdown",
   "metadata": {},
   "source": [
    "The one-dimensional diffusion equation is:\n",
    "\n",
    "$$\\frac{\\partial u}{\\partial t}= \\nu \\frac{\\partial^2 u}{\\partial x^2}$$\n",
    "\n",
    "The first thing you should notice is that —unlike the previous two simple equations we have studied— this equation has a second-order derivative. We first need to learn what to do with it!"
   ]
  },
  {
   "cell_type": "markdown",
   "metadata": {},
   "source": [
    "### Discretizing $\\frac{\\partial ^2 u}{\\partial x^2}$"
   ]
  },
  {
   "cell_type": "markdown",
   "metadata": {},
   "source": [
    "The second-order derivative can be represented geometrically as the line tangent to the curve given by the first derivative.  We will discretize the second-order derivative with a Central Difference scheme: a combination of Forward Difference and Backward Difference of the first derivative.  Consider the Taylor expansion of $u_{i+1}$ and $u_{i-1}$ around $u_i$:\n",
    "\n",
    "$u_{i+1} = u_i + \\Delta x \\frac{\\partial u}{\\partial x}\\bigg|_i + \\frac{\\Delta x^2}{2} \\frac{\\partial ^2 u}{\\partial x^2}\\bigg|_i + \\frac{\\Delta x^3}{3} \\frac{\\partial ^3 u}{\\partial x^3}\\bigg|_i + O(\\Delta x^4)$\n",
    "\n",
    "$u_{i-1} = u_i - \\Delta x \\frac{\\partial u}{\\partial x}\\bigg|_i + \\frac{\\Delta x^2}{2} \\frac{\\partial ^2 u}{\\partial x^2}\\bigg|_i - \\frac{\\Delta x^3}{3} \\frac{\\partial ^3 u}{\\partial x^3}\\bigg|_i + O(\\Delta x^4)$\n",
    "\n",
    "If we add these two expansions, you can see that the odd-numbered derivative terms will cancel each other out.  If we neglect any terms of $O(\\Delta x^4)$ or higher (and really, those are very small), then we can rearrange the sum of these two expansions to solve for our second-derivative.  \n"
   ]
  },
  {
   "cell_type": "markdown",
   "metadata": {},
   "source": [
    "$u_{i+1} + u_{i-1} = 2u_i+\\Delta x^2 \\frac{\\partial ^2 u}{\\partial x^2}\\bigg|_i + O(\\Delta x^4)$\n",
    "\n",
    "Then rearrange to solve for $\\frac{\\partial ^2 u}{\\partial x^2}\\bigg|_i$ and the result is:\n",
    "\n",
    "$$\\frac{\\partial ^2 u}{\\partial x^2}=\\frac{u_{i+1}-2u_{i}+u_{i-1}}{\\Delta x^2} + O(\\Delta x^2)$$\n"
   ]
  },
  {
   "cell_type": "markdown",
   "metadata": {},
   "source": [
    "### Back to Step 3"
   ]
  },
  {
   "cell_type": "markdown",
   "metadata": {},
   "source": [
    "We can now write the discretized version of the diffusion equation in 1D:\n",
    "\n",
    "$$\\frac{u_{i}^{n+1}-u_{i}^{n}}{\\Delta t}=\\nu\\frac{u_{i+1}^{n}-2u_{i}^{n}+u_{i-1}^{n}}{\\Delta x^2}$$\n",
    "\n",
    "As before, we notice that once we have an initial condition, the only unknown is $u_{i}^{n+1}$, so we re-arrange the equation solving for our unknown:\n",
    "\n",
    "$$u_{i}^{n+1}=u_{i}^{n}+\\frac{\\nu\\Delta t}{\\Delta x^2}(u_{i+1}^{n}-2u_{i}^{n}+u_{i-1}^{n})$$\n",
    "\n",
    "The above discrete equation allows us to write a program to advance a solution in time. But we need an initial condition. Let's continue using our favorite: the hat function. So, at $t=0$, $u=2$ in the interval $0.5\\le x\\le 1$ and $u=1$ everywhere else. We are ready to number-crunch!"
   ]
  },
  {
   "cell_type": "code",
   "execution_count": 2,
   "metadata": {},
   "outputs": [
    {
     "data": {
      "image/svg+xml": [
       "<?xml version=\"1.0\" encoding=\"utf-8\"?>\n",
       "<svg xmlns=\"http://www.w3.org/2000/svg\" xmlns:xlink=\"http://www.w3.org/1999/xlink\" width=\"600\" height=\"400\" viewBox=\"0 0 2400 1600\">\n",
       "<defs>\n",
       "  <clipPath id=\"clip7700\">\n",
       "    <rect x=\"0\" y=\"0\" width=\"2400\" height=\"1600\"/>\n",
       "  </clipPath>\n",
       "</defs>\n",
       "<path clip-path=\"url(#clip7700)\" d=\"\n",
       "M0 1600 L2400 1600 L2400 0 L0 0  Z\n",
       "  \" fill=\"#ffffff\" fill-rule=\"evenodd\" fill-opacity=\"1\"/>\n",
       "<defs>\n",
       "  <clipPath id=\"clip7701\">\n",
       "    <rect x=\"480\" y=\"0\" width=\"1681\" height=\"1600\"/>\n",
       "  </clipPath>\n",
       "</defs>\n",
       "<path clip-path=\"url(#clip7700)\" d=\"\n",
       "M145.024 1486.45 L2352.76 1486.45 L2352.76 47.2441 L145.024 47.2441  Z\n",
       "  \" fill=\"#ffffff\" fill-rule=\"evenodd\" fill-opacity=\"1\"/>\n",
       "<defs>\n",
       "  <clipPath id=\"clip7702\">\n",
       "    <rect x=\"145\" y=\"47\" width=\"2209\" height=\"1440\"/>\n",
       "  </clipPath>\n",
       "</defs>\n",
       "<polyline clip-path=\"url(#clip7702)\" style=\"stroke:#000000; stroke-width:2; stroke-opacity:0.1; fill:none\" points=\"\n",
       "  207.507,1486.45 207.507,47.2441 \n",
       "  \"/>\n",
       "<polyline clip-path=\"url(#clip7702)\" style=\"stroke:#000000; stroke-width:2; stroke-opacity:0.1; fill:none\" points=\"\n",
       "  728.199,1486.45 728.199,47.2441 \n",
       "  \"/>\n",
       "<polyline clip-path=\"url(#clip7702)\" style=\"stroke:#000000; stroke-width:2; stroke-opacity:0.1; fill:none\" points=\"\n",
       "  1248.89,1486.45 1248.89,47.2441 \n",
       "  \"/>\n",
       "<polyline clip-path=\"url(#clip7702)\" style=\"stroke:#000000; stroke-width:2; stroke-opacity:0.1; fill:none\" points=\"\n",
       "  1769.58,1486.45 1769.58,47.2441 \n",
       "  \"/>\n",
       "<polyline clip-path=\"url(#clip7702)\" style=\"stroke:#000000; stroke-width:2; stroke-opacity:0.1; fill:none\" points=\"\n",
       "  2290.27,1486.45 2290.27,47.2441 \n",
       "  \"/>\n",
       "<polyline clip-path=\"url(#clip7702)\" style=\"stroke:#000000; stroke-width:2; stroke-opacity:0.1; fill:none\" points=\"\n",
       "  145.024,1445.72 2352.76,1445.72 \n",
       "  \"/>\n",
       "<polyline clip-path=\"url(#clip7702)\" style=\"stroke:#000000; stroke-width:2; stroke-opacity:0.1; fill:none\" points=\"\n",
       "  145.024,1159.75 2352.76,1159.75 \n",
       "  \"/>\n",
       "<polyline clip-path=\"url(#clip7702)\" style=\"stroke:#000000; stroke-width:2; stroke-opacity:0.1; fill:none\" points=\"\n",
       "  145.024,873.778 2352.76,873.778 \n",
       "  \"/>\n",
       "<polyline clip-path=\"url(#clip7702)\" style=\"stroke:#000000; stroke-width:2; stroke-opacity:0.1; fill:none\" points=\"\n",
       "  145.024,587.81 2352.76,587.81 \n",
       "  \"/>\n",
       "<polyline clip-path=\"url(#clip7702)\" style=\"stroke:#000000; stroke-width:2; stroke-opacity:0.1; fill:none\" points=\"\n",
       "  145.024,301.841 2352.76,301.841 \n",
       "  \"/>\n",
       "<polyline clip-path=\"url(#clip7700)\" style=\"stroke:#000000; stroke-width:4; stroke-opacity:1; fill:none\" points=\"\n",
       "  145.024,1486.45 2352.76,1486.45 \n",
       "  \"/>\n",
       "<polyline clip-path=\"url(#clip7700)\" style=\"stroke:#000000; stroke-width:4; stroke-opacity:1; fill:none\" points=\"\n",
       "  145.024,1486.45 145.024,47.2441 \n",
       "  \"/>\n",
       "<polyline clip-path=\"url(#clip7700)\" style=\"stroke:#000000; stroke-width:4; stroke-opacity:1; fill:none\" points=\"\n",
       "  207.507,1486.45 207.507,1469.18 \n",
       "  \"/>\n",
       "<polyline clip-path=\"url(#clip7700)\" style=\"stroke:#000000; stroke-width:4; stroke-opacity:1; fill:none\" points=\"\n",
       "  728.199,1486.45 728.199,1469.18 \n",
       "  \"/>\n",
       "<polyline clip-path=\"url(#clip7700)\" style=\"stroke:#000000; stroke-width:4; stroke-opacity:1; fill:none\" points=\"\n",
       "  1248.89,1486.45 1248.89,1469.18 \n",
       "  \"/>\n",
       "<polyline clip-path=\"url(#clip7700)\" style=\"stroke:#000000; stroke-width:4; stroke-opacity:1; fill:none\" points=\"\n",
       "  1769.58,1486.45 1769.58,1469.18 \n",
       "  \"/>\n",
       "<polyline clip-path=\"url(#clip7700)\" style=\"stroke:#000000; stroke-width:4; stroke-opacity:1; fill:none\" points=\"\n",
       "  2290.27,1486.45 2290.27,1469.18 \n",
       "  \"/>\n",
       "<polyline clip-path=\"url(#clip7700)\" style=\"stroke:#000000; stroke-width:4; stroke-opacity:1; fill:none\" points=\"\n",
       "  145.024,1445.72 171.517,1445.72 \n",
       "  \"/>\n",
       "<polyline clip-path=\"url(#clip7700)\" style=\"stroke:#000000; stroke-width:4; stroke-opacity:1; fill:none\" points=\"\n",
       "  145.024,1159.75 171.517,1159.75 \n",
       "  \"/>\n",
       "<polyline clip-path=\"url(#clip7700)\" style=\"stroke:#000000; stroke-width:4; stroke-opacity:1; fill:none\" points=\"\n",
       "  145.024,873.778 171.517,873.778 \n",
       "  \"/>\n",
       "<polyline clip-path=\"url(#clip7700)\" style=\"stroke:#000000; stroke-width:4; stroke-opacity:1; fill:none\" points=\"\n",
       "  145.024,587.81 171.517,587.81 \n",
       "  \"/>\n",
       "<polyline clip-path=\"url(#clip7700)\" style=\"stroke:#000000; stroke-width:4; stroke-opacity:1; fill:none\" points=\"\n",
       "  145.024,301.841 171.517,301.841 \n",
       "  \"/>\n",
       "<path clip-path=\"url(#clip7700)\" d=\"M 0 0 M189.023 1508.44 Q185.412 1508.44 183.584 1512 Q181.778 1515.55 181.778 1522.67 Q181.778 1529.78 183.584 1533.35 Q185.412 1536.89 189.023 1536.89 Q192.658 1536.89 194.463 1533.35 Q196.292 1529.78 196.292 1522.67 Q196.292 1515.55 194.463 1512 Q192.658 1508.44 189.023 1508.44 M189.023 1504.73 Q194.834 1504.73 197.889 1509.34 Q200.968 1513.92 200.968 1522.67 Q200.968 1531.4 197.889 1536.01 Q194.834 1540.59 189.023 1540.59 Q183.213 1540.59 180.135 1536.01 Q177.079 1531.4 177.079 1522.67 Q177.079 1513.92 180.135 1509.34 Q183.213 1504.73 189.023 1504.73 Z\" fill=\"#000000\" fill-rule=\"evenodd\" fill-opacity=\"1\" /><path clip-path=\"url(#clip7700)\" d=\"M 0 0 M206.037 1534.04 L210.922 1534.04 L210.922 1539.92 L206.037 1539.92 L206.037 1534.04 Z\" fill=\"#000000\" fill-rule=\"evenodd\" fill-opacity=\"1\" /><path clip-path=\"url(#clip7700)\" d=\"M 0 0 M225.991 1508.44 Q222.38 1508.44 220.551 1512 Q218.746 1515.55 218.746 1522.67 Q218.746 1529.78 220.551 1533.35 Q222.38 1536.89 225.991 1536.89 Q229.625 1536.89 231.431 1533.35 Q233.259 1529.78 233.259 1522.67 Q233.259 1515.55 231.431 1512 Q229.625 1508.44 225.991 1508.44 M225.991 1504.73 Q231.801 1504.73 234.857 1509.34 Q237.935 1513.92 237.935 1522.67 Q237.935 1531.4 234.857 1536.01 Q231.801 1540.59 225.991 1540.59 Q220.181 1540.59 217.102 1536.01 Q214.047 1531.4 214.047 1522.67 Q214.047 1513.92 217.102 1509.34 Q220.181 1504.73 225.991 1504.73 Z\" fill=\"#000000\" fill-rule=\"evenodd\" fill-opacity=\"1\" /><path clip-path=\"url(#clip7700)\" d=\"M 0 0 M710.213 1508.44 Q706.602 1508.44 704.773 1512 Q702.967 1515.55 702.967 1522.67 Q702.967 1529.78 704.773 1533.35 Q706.602 1536.89 710.213 1536.89 Q713.847 1536.89 715.652 1533.35 Q717.481 1529.78 717.481 1522.67 Q717.481 1515.55 715.652 1512 Q713.847 1508.44 710.213 1508.44 M710.213 1504.73 Q716.023 1504.73 719.078 1509.34 Q722.157 1513.92 722.157 1522.67 Q722.157 1531.4 719.078 1536.01 Q716.023 1540.59 710.213 1540.59 Q704.402 1540.59 701.324 1536.01 Q698.268 1531.4 698.268 1522.67 Q698.268 1513.92 701.324 1509.34 Q704.402 1504.73 710.213 1504.73 Z\" fill=\"#000000\" fill-rule=\"evenodd\" fill-opacity=\"1\" /><path clip-path=\"url(#clip7700)\" d=\"M 0 0 M727.226 1534.04 L732.111 1534.04 L732.111 1539.92 L727.226 1539.92 L727.226 1534.04 Z\" fill=\"#000000\" fill-rule=\"evenodd\" fill-opacity=\"1\" /><path clip-path=\"url(#clip7700)\" d=\"M 0 0 M737.226 1505.36 L755.583 1505.36 L755.583 1509.3 L741.509 1509.3 L741.509 1517.77 Q742.527 1517.42 743.546 1517.26 Q744.564 1517.07 745.583 1517.07 Q751.37 1517.07 754.749 1520.24 Q758.129 1523.42 758.129 1528.83 Q758.129 1534.41 754.657 1537.51 Q751.185 1540.59 744.865 1540.59 Q742.689 1540.59 740.421 1540.22 Q738.175 1539.85 735.768 1539.11 L735.768 1534.41 Q737.851 1535.54 740.074 1536.1 Q742.296 1536.66 744.773 1536.66 Q748.777 1536.66 751.115 1534.55 Q753.453 1532.44 753.453 1528.83 Q753.453 1525.22 751.115 1523.11 Q748.777 1521.01 744.773 1521.01 Q742.898 1521.01 741.023 1521.42 Q739.171 1521.84 737.226 1522.72 L737.226 1505.36 Z\" fill=\"#000000\" fill-rule=\"evenodd\" fill-opacity=\"1\" /><path clip-path=\"url(#clip7700)\" d=\"M 0 0 M1220.79 1535.98 L1228.43 1535.98 L1228.43 1509.62 L1220.12 1511.29 L1220.12 1507.03 L1228.38 1505.36 L1233.06 1505.36 L1233.06 1535.98 L1240.7 1535.98 L1240.7 1539.92 L1220.79 1539.92 L1220.79 1535.98 Z\" fill=\"#000000\" fill-rule=\"evenodd\" fill-opacity=\"1\" /><path clip-path=\"url(#clip7700)\" d=\"M 0 0 M1245.77 1534.04 L1250.65 1534.04 L1250.65 1539.92 L1245.77 1539.92 L1245.77 1534.04 Z\" fill=\"#000000\" fill-rule=\"evenodd\" fill-opacity=\"1\" /><path clip-path=\"url(#clip7700)\" d=\"M 0 0 M1265.72 1508.44 Q1262.11 1508.44 1260.28 1512 Q1258.47 1515.55 1258.47 1522.67 Q1258.47 1529.78 1260.28 1533.35 Q1262.11 1536.89 1265.72 1536.89 Q1269.35 1536.89 1271.16 1533.35 Q1272.99 1529.78 1272.99 1522.67 Q1272.99 1515.55 1271.16 1512 Q1269.35 1508.44 1265.72 1508.44 M1265.72 1504.73 Q1271.53 1504.73 1274.58 1509.34 Q1277.66 1513.92 1277.66 1522.67 Q1277.66 1531.4 1274.58 1536.01 Q1271.53 1540.59 1265.72 1540.59 Q1259.91 1540.59 1256.83 1536.01 Q1253.77 1531.4 1253.77 1522.67 Q1253.77 1513.92 1256.83 1509.34 Q1259.91 1504.73 1265.72 1504.73 Z\" fill=\"#000000\" fill-rule=\"evenodd\" fill-opacity=\"1\" /><path clip-path=\"url(#clip7700)\" d=\"M 0 0 M1741.98 1535.98 L1749.62 1535.98 L1749.62 1509.62 L1741.31 1511.29 L1741.31 1507.03 L1749.57 1505.36 L1754.25 1505.36 L1754.25 1535.98 L1761.88 1535.98 L1761.88 1539.92 L1741.98 1539.92 L1741.98 1535.98 Z\" fill=\"#000000\" fill-rule=\"evenodd\" fill-opacity=\"1\" /><path clip-path=\"url(#clip7700)\" d=\"M 0 0 M1766.95 1534.04 L1771.84 1534.04 L1771.84 1539.92 L1766.95 1539.92 L1766.95 1534.04 Z\" fill=\"#000000\" fill-rule=\"evenodd\" fill-opacity=\"1\" /><path clip-path=\"url(#clip7700)\" d=\"M 0 0 M1776.95 1505.36 L1795.31 1505.36 L1795.31 1509.3 L1781.24 1509.3 L1781.24 1517.77 Q1782.26 1517.42 1783.27 1517.26 Q1784.29 1517.07 1785.31 1517.07 Q1791.1 1517.07 1794.48 1520.24 Q1797.86 1523.42 1797.86 1528.83 Q1797.86 1534.41 1794.38 1537.51 Q1790.91 1540.59 1784.59 1540.59 Q1782.42 1540.59 1780.15 1540.22 Q1777.9 1539.85 1775.5 1539.11 L1775.5 1534.41 Q1777.58 1535.54 1779.8 1536.1 Q1782.02 1536.66 1784.5 1536.66 Q1788.51 1536.66 1790.84 1534.55 Q1793.18 1532.44 1793.18 1528.83 Q1793.18 1525.22 1790.84 1523.11 Q1788.51 1521.01 1784.5 1521.01 Q1782.63 1521.01 1780.75 1521.42 Q1778.9 1521.84 1776.95 1522.72 L1776.95 1505.36 Z\" fill=\"#000000\" fill-rule=\"evenodd\" fill-opacity=\"1\" /><path clip-path=\"url(#clip7700)\" d=\"M 0 0 M2266.44 1535.98 L2282.76 1535.98 L2282.76 1539.92 L2260.82 1539.92 L2260.82 1535.98 Q2263.48 1533.23 2268.06 1528.6 Q2272.67 1523.95 2273.85 1522.61 Q2276.09 1520.08 2276.97 1518.35 Q2277.88 1516.59 2277.88 1514.9 Q2277.88 1512.14 2275.93 1510.41 Q2274.01 1508.67 2270.91 1508.67 Q2268.71 1508.67 2266.26 1509.43 Q2263.83 1510.2 2261.05 1511.75 L2261.05 1507.03 Q2263.87 1505.89 2266.33 1505.31 Q2268.78 1504.73 2270.82 1504.73 Q2276.19 1504.73 2279.38 1507.42 Q2282.58 1510.11 2282.58 1514.6 Q2282.58 1516.73 2281.77 1518.65 Q2280.98 1520.54 2278.87 1523.14 Q2278.29 1523.81 2275.19 1527.03 Q2272.09 1530.22 2266.44 1535.98 Z\" fill=\"#000000\" fill-rule=\"evenodd\" fill-opacity=\"1\" /><path clip-path=\"url(#clip7700)\" d=\"M 0 0 M2287.83 1534.04 L2292.72 1534.04 L2292.72 1539.92 L2287.83 1539.92 L2287.83 1534.04 Z\" fill=\"#000000\" fill-rule=\"evenodd\" fill-opacity=\"1\" /><path clip-path=\"url(#clip7700)\" d=\"M 0 0 M2307.78 1508.44 Q2304.17 1508.44 2302.34 1512 Q2300.54 1515.55 2300.54 1522.67 Q2300.54 1529.78 2302.34 1533.35 Q2304.17 1536.89 2307.78 1536.89 Q2311.42 1536.89 2313.22 1533.35 Q2315.05 1529.78 2315.05 1522.67 Q2315.05 1515.55 2313.22 1512 Q2311.42 1508.44 2307.78 1508.44 M2307.78 1504.73 Q2313.59 1504.73 2316.65 1509.34 Q2319.73 1513.92 2319.73 1522.67 Q2319.73 1531.4 2316.65 1536.01 Q2313.59 1540.59 2307.78 1540.59 Q2301.97 1540.59 2298.9 1536.01 Q2295.84 1531.4 2295.84 1522.67 Q2295.84 1513.92 2298.9 1509.34 Q2301.97 1504.73 2307.78 1504.73 Z\" fill=\"#000000\" fill-rule=\"evenodd\" fill-opacity=\"1\" /><path clip-path=\"url(#clip7700)\" d=\"M 0 0 M64.1495 1459.06 L71.7884 1459.06 L71.7884 1432.69 L63.4782 1434.36 L63.4782 1430.1 L71.7421 1428.44 L76.418 1428.44 L76.418 1459.06 L84.0568 1459.06 L84.0568 1463 L64.1495 1463 L64.1495 1459.06 Z\" fill=\"#000000\" fill-rule=\"evenodd\" fill-opacity=\"1\" /><path clip-path=\"url(#clip7700)\" d=\"M 0 0 M89.1262 1457.12 L94.0105 1457.12 L94.0105 1463 L89.1262 1463 L89.1262 1457.12 Z\" fill=\"#000000\" fill-rule=\"evenodd\" fill-opacity=\"1\" /><path clip-path=\"url(#clip7700)\" d=\"M 0 0 M109.08 1431.51 Q105.469 1431.51 103.64 1435.08 Q101.835 1438.62 101.835 1445.75 Q101.835 1452.86 103.64 1456.42 Q105.469 1459.96 109.08 1459.96 Q112.714 1459.96 114.52 1456.42 Q116.348 1452.86 116.348 1445.75 Q116.348 1438.62 114.52 1435.08 Q112.714 1431.51 109.08 1431.51 M109.08 1427.81 Q114.89 1427.81 117.946 1432.42 Q121.024 1437 121.024 1445.75 Q121.024 1454.48 117.946 1459.08 Q114.89 1463.67 109.08 1463.67 Q103.27 1463.67 100.191 1459.08 Q97.1355 1454.48 97.1355 1445.75 Q97.1355 1437 100.191 1432.42 Q103.27 1427.81 109.08 1427.81 Z\" fill=\"#000000\" fill-rule=\"evenodd\" fill-opacity=\"1\" /><path clip-path=\"url(#clip7700)\" d=\"M 0 0 M65.7467 1173.09 L73.3856 1173.09 L73.3856 1146.73 L65.0754 1148.39 L65.0754 1144.13 L73.3393 1142.47 L78.0152 1142.47 L78.0152 1173.09 L85.654 1173.09 L85.654 1177.03 L65.7467 1177.03 L65.7467 1173.09 Z\" fill=\"#000000\" fill-rule=\"evenodd\" fill-opacity=\"1\" /><path clip-path=\"url(#clip7700)\" d=\"M 0 0 M90.7235 1171.15 L95.6077 1171.15 L95.6077 1177.03 L90.7235 1177.03 L90.7235 1171.15 Z\" fill=\"#000000\" fill-rule=\"evenodd\" fill-opacity=\"1\" /><path clip-path=\"url(#clip7700)\" d=\"M 0 0 M104.705 1173.09 L121.024 1173.09 L121.024 1177.03 L99.0799 1177.03 L99.0799 1173.09 Q101.742 1170.34 106.325 1165.71 Q110.932 1161.05 112.112 1159.71 Q114.358 1157.19 115.237 1155.45 Q116.14 1153.69 116.14 1152 Q116.14 1149.25 114.196 1147.51 Q112.274 1145.78 109.172 1145.78 Q106.973 1145.78 104.52 1146.54 Q102.089 1147.3 99.3114 1148.86 L99.3114 1144.13 Q102.135 1143 104.589 1142.42 Q107.043 1141.84 109.08 1141.84 Q114.45 1141.84 117.645 1144.53 Q120.839 1147.21 120.839 1151.7 Q120.839 1153.83 120.029 1155.75 Q119.242 1157.65 117.135 1160.24 Q116.557 1160.92 113.455 1164.13 Q110.353 1167.33 104.705 1173.09 Z\" fill=\"#000000\" fill-rule=\"evenodd\" fill-opacity=\"1\" /><path clip-path=\"url(#clip7700)\" d=\"M 0 0 M63.6634 887.123 L71.3023 887.123 L71.3023 860.757 L62.9921 862.424 L62.9921 858.165 L71.256 856.498 L75.9319 856.498 L75.9319 887.123 L83.5707 887.123 L83.5707 891.058 L63.6634 891.058 L63.6634 887.123 Z\" fill=\"#000000\" fill-rule=\"evenodd\" fill-opacity=\"1\" /><path clip-path=\"url(#clip7700)\" d=\"M 0 0 M88.6401 885.179 L93.5244 885.179 L93.5244 891.058 L88.6401 891.058 L88.6401 885.179 Z\" fill=\"#000000\" fill-rule=\"evenodd\" fill-opacity=\"1\" /><path clip-path=\"url(#clip7700)\" d=\"M 0 0 M111.441 860.572 L99.6354 879.021 L111.441 879.021 L111.441 860.572 M110.214 856.498 L116.094 856.498 L116.094 879.021 L121.024 879.021 L121.024 882.91 L116.094 882.91 L116.094 891.058 L111.441 891.058 L111.441 882.91 L95.8392 882.91 L95.8392 878.396 L110.214 856.498 Z\" fill=\"#000000\" fill-rule=\"evenodd\" fill-opacity=\"1\" /><path clip-path=\"url(#clip7700)\" d=\"M 0 0 M63.9875 601.154 L71.6263 601.154 L71.6263 574.789 L63.3162 576.455 L63.3162 572.196 L71.58 570.53 L76.2559 570.53 L76.2559 601.154 L83.8948 601.154 L83.8948 605.09 L63.9875 605.09 L63.9875 601.154 Z\" fill=\"#000000\" fill-rule=\"evenodd\" fill-opacity=\"1\" /><path clip-path=\"url(#clip7700)\" d=\"M 0 0 M88.9642 599.21 L93.8484 599.21 L93.8484 605.09 L88.9642 605.09 L88.9642 599.21 Z\" fill=\"#000000\" fill-rule=\"evenodd\" fill-opacity=\"1\" /><path clip-path=\"url(#clip7700)\" d=\"M 0 0 M109.497 585.946 Q106.348 585.946 104.497 588.099 Q102.668 590.252 102.668 594.002 Q102.668 597.728 104.497 599.904 Q106.348 602.057 109.497 602.057 Q112.645 602.057 114.473 599.904 Q116.325 597.728 116.325 594.002 Q116.325 590.252 114.473 588.099 Q112.645 585.946 109.497 585.946 M118.779 571.293 L118.779 575.553 Q117.02 574.719 115.214 574.279 Q113.432 573.84 111.672 573.84 Q107.043 573.84 104.589 576.965 Q102.159 580.09 101.811 586.409 Q103.177 584.395 105.237 583.33 Q107.297 582.242 109.774 582.242 Q114.983 582.242 117.992 585.414 Q121.024 588.562 121.024 594.002 Q121.024 599.326 117.876 602.543 Q114.728 605.761 109.497 605.761 Q103.501 605.761 100.33 601.178 Q97.1586 596.571 97.1586 587.844 Q97.1586 579.65 101.047 574.789 Q104.936 569.905 111.487 569.905 Q113.246 569.905 115.029 570.252 Q116.834 570.599 118.779 571.293 Z\" fill=\"#000000\" fill-rule=\"evenodd\" fill-opacity=\"1\" /><path clip-path=\"url(#clip7700)\" d=\"M 0 0 M64.2421 315.186 L71.881 315.186 L71.881 288.82 L63.5708 290.487 L63.5708 286.227 L71.8347 284.561 L76.5106 284.561 L76.5106 315.186 L84.1494 315.186 L84.1494 319.121 L64.2421 319.121 L64.2421 315.186 Z\" fill=\"#000000\" fill-rule=\"evenodd\" fill-opacity=\"1\" /><path clip-path=\"url(#clip7700)\" d=\"M 0 0 M89.2188 313.241 L94.1031 313.241 L94.1031 319.121 L89.2188 319.121 L89.2188 313.241 Z\" fill=\"#000000\" fill-rule=\"evenodd\" fill-opacity=\"1\" /><path clip-path=\"url(#clip7700)\" d=\"M 0 0 M109.172 302.709 Q105.839 302.709 103.918 304.491 Q102.02 306.274 102.02 309.399 Q102.02 312.524 103.918 314.306 Q105.839 316.088 109.172 316.088 Q112.506 316.088 114.427 314.306 Q116.348 312.5 116.348 309.399 Q116.348 306.274 114.427 304.491 Q112.529 302.709 109.172 302.709 M104.497 300.718 Q101.487 299.977 99.7975 297.917 Q98.1308 295.857 98.1308 292.894 Q98.1308 288.751 101.071 286.343 Q104.034 283.936 109.172 283.936 Q114.334 283.936 117.274 286.343 Q120.214 288.751 120.214 292.894 Q120.214 295.857 118.524 297.917 Q116.858 299.977 113.871 300.718 Q117.251 301.505 119.126 303.797 Q121.024 306.088 121.024 309.399 Q121.024 314.422 117.946 317.107 Q114.89 319.792 109.172 319.792 Q103.455 319.792 100.376 317.107 Q97.3206 314.422 97.3206 309.399 Q97.3206 306.088 99.2188 303.797 Q101.117 301.505 104.497 300.718 M102.784 293.334 Q102.784 296.019 104.45 297.524 Q106.14 299.028 109.172 299.028 Q112.182 299.028 113.871 297.524 Q115.584 296.019 115.584 293.334 Q115.584 290.649 113.871 289.144 Q112.182 287.639 109.172 287.639 Q106.14 287.639 104.45 289.144 Q102.784 290.649 102.784 293.334 Z\" fill=\"#000000\" fill-rule=\"evenodd\" fill-opacity=\"1\" /><polyline clip-path=\"url(#clip7702)\" style=\"stroke:#009af9; stroke-width:4; stroke-opacity:1; fill:none\" points=\"\n",
       "  207.507,1445.72 259.576,1444.15 311.645,1440.43 363.715,1431.01 415.784,1409.66 467.853,1367.13 519.922,1292.56 571.991,1177.37 624.06,1020.36 676.129,831.353 \n",
       "  728.199,630.37 780.268,441.7 832.337,285.9 884.406,174.333 936.475,109.167 988.544,87.9763 1040.61,109.167 1092.68,174.333 1144.75,285.9 1196.82,441.7 \n",
       "  1248.89,630.37 1300.96,831.353 1353.03,1020.36 1405.1,1177.37 1457.17,1292.56 1509.24,1367.13 1561.3,1409.66 1613.37,1431.01 1665.44,1440.41 1717.51,1444.03 \n",
       "  1769.58,1445.25 1821.65,1445.6 1873.72,1445.69 1925.79,1445.71 1977.86,1445.72 2029.93,1445.72 2082,1445.72 2134.07,1445.72 2186.13,1445.72 2238.2,1445.72 \n",
       "  2290.27,1445.72 \n",
       "  \"/>\n",
       "<path clip-path=\"url(#clip7700)\" d=\"\n",
       "M1989.74 251.724 L2280.76 251.724 L2280.76 130.764 L1989.74 130.764  Z\n",
       "  \" fill=\"#ffffff\" fill-rule=\"evenodd\" fill-opacity=\"1\"/>\n",
       "<polyline clip-path=\"url(#clip7700)\" style=\"stroke:#000000; stroke-width:4; stroke-opacity:1; fill:none\" points=\"\n",
       "  1989.74,251.724 2280.76,251.724 2280.76,130.764 1989.74,130.764 1989.74,251.724 \n",
       "  \"/>\n",
       "<polyline clip-path=\"url(#clip7700)\" style=\"stroke:#009af9; stroke-width:4; stroke-opacity:1; fill:none\" points=\"\n",
       "  2013.74,191.244 2157.74,191.244 \n",
       "  \"/>\n",
       "<path clip-path=\"url(#clip7700)\" d=\"M 0 0 M2195.58 210.931 Q2193.77 215.561 2192.06 216.973 Q2190.35 218.385 2187.48 218.385 L2184.08 218.385 L2184.08 214.82 L2186.58 214.82 Q2188.33 214.82 2189.31 213.987 Q2190.28 213.154 2191.46 210.052 L2192.22 208.107 L2181.74 182.598 L2186.25 182.598 L2194.35 202.876 L2202.46 182.598 L2206.97 182.598 L2195.58 210.931 Z\" fill=\"#000000\" fill-rule=\"evenodd\" fill-opacity=\"1\" /><path clip-path=\"url(#clip7700)\" d=\"M 0 0 M2212.85 204.589 L2220.49 204.589 L2220.49 178.223 L2212.18 179.89 L2212.18 175.631 L2220.44 173.964 L2225.12 173.964 L2225.12 204.589 L2232.76 204.589 L2232.76 208.524 L2212.85 208.524 L2212.85 204.589 Z\" fill=\"#000000\" fill-rule=\"evenodd\" fill-opacity=\"1\" /></svg>\n"
      ]
     },
     "execution_count": 2,
     "metadata": {},
     "output_type": "execute_result"
    }
   ],
   "source": [
    "using Plots\n",
    "\n",
    "nx = 41\n",
    "Δx = 2.0 / (nx - 1)\n",
    "x  = range(0, stop=Δx*(nx-1), length=nx)\n",
    "\n",
    "nt = 20\n",
    "ν = 0.3       # the value of viscosity\n",
    "σ  = .2\n",
    "\n",
    "Δt = σ * Δx^2 / ν\n",
    "\n",
    "t  = range(0, stop=Δt*nt, length=nt)\n",
    "\n",
    "u₀ = ones(nx)\n",
    "\n",
    "u₀[0.5 .≤ x .≤ 1] .= 2.0\n",
    "\n",
    "uⁿ⁺¹ = similar(u₀)\n",
    "uⁿ⁺¹ .= u₀\n",
    "\n",
    "uⁿ = similar(u₀)\n",
    "\n",
    "for n in 1:nt\n",
    "    uⁿ .= uⁿ⁺¹\n",
    "    for i in 2:nx-1\n",
    "        uⁿ⁺¹[i] = uⁿ[i] + ν*Δt/Δx^2 * (uⁿ[i+1] - 2*uⁿ[i] + uⁿ[i-1])\n",
    "    end\n",
    "end\n",
    "\n",
    "plot(x, uⁿ⁺¹)\n"
   ]
  },
  {
   "cell_type": "markdown",
   "metadata": {},
   "source": [
    "Learn More\n",
    "For a careful walk-through of the discretization of the diffusion equation with finite differences (and all steps from 1 to 4), watch Video Lesson 4 by Prof. Barba on YouTube https://youtube.com/watch?v=y2WaK7_iMRI."
   ]
  },
  {
   "cell_type": "code",
   "execution_count": null,
   "metadata": {},
   "outputs": [],
   "source": []
  }
 ],
 "metadata": {
  "kernelspec": {
   "display_name": "Julia 1.4.0",
   "language": "julia",
   "name": "julia-1.4"
  },
  "language_info": {
   "file_extension": ".jl",
   "mimetype": "application/julia",
   "name": "julia",
   "version": "1.4.0"
  }
 },
 "nbformat": 4,
 "nbformat_minor": 1
}

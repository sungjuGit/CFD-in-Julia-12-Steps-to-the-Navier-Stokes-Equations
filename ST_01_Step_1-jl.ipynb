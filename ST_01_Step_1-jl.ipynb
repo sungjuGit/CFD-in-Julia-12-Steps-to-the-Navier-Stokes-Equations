{
 "cells": [
  {
   "cell_type": "markdown",
   "metadata": {},
   "source": [
    "This is a Julian fork of the 12 steps to Navier-Stokes (Python) [https://github.com/barbagroup/CFDPython] by Lorena A. Barba, Gilbert F. Forsyth . All content of that work is under Creative Commons Attribution CC-BY 4.0, and all python code is under BSD-3 clause.  This work also derives from similar forks by Cysor [https://github.com/Cysor/CFDJulia] and by Wallace-dyfq [https://github.com/Wallace-dyfq/CFD-Julia-12-steps--o-Navier-Stokes-Equations]\n",
    "\n",
    "\n"
   ]
  },
  {
   "cell_type": "markdown",
   "metadata": {},
   "source": [
    "Step 1: 1-D Linear Convection\n",
    "-----\n",
    "***"
   ]
  },
  {
   "cell_type": "markdown",
   "metadata": {},
   "source": [
    "The 1-D Linear Convection equation is the simplest, most basic model that can be used to learn something about CFD. It is surprising that this little equation can teach us so much! Here it is:\n",
    "\n",
    "$$\\frac{\\partial u}{\\partial t} + c \\frac{\\partial u}{\\partial x} = 0$$\n",
    "\n",
    "With given initial conditions (understood as a *wave*), the equation represents the propagation of that initial *wave* with speed $c$, without change of shape. Let the initial condition be $u(x,0)=u_0(x)$. Then the exact solution of the equation is $u(x,t)=u_0(x-ct)$.\n",
    "\n",
    "We discretize this equation in both space and time, using the Forward Difference scheme for the time derivative and the Backward Difference scheme for the space derivative. Consider discretizing the spatial coordinate $x$ into points that we index from $i=0$ to $N$, and stepping in discrete time intervals of size $\\Delta t$.\n",
    "\n",
    "From the definition of a derivative (and simply removing the limit), we know that:\n",
    "\n",
    "$$\\frac{\\partial u}{\\partial x}\\approx \\frac{u(x+\\Delta x)-u(x)}{\\Delta x}$$\n",
    "\n",
    "Our discrete equation, then, is:\n",
    "\n",
    "$$\\frac{u_i^{n+1}-u_i^n}{\\Delta t} + c \\frac{u_i^n - u_{i-1}^n}{\\Delta x} = 0 $$\n",
    "\n",
    "Where $n$ and $n+1$ are two consecutive steps in time, while $i-1$ and $i$ are two neighboring points of the discretized $x$ coordinate. If there are given initial conditions, then the only unknown in this discretization is $u_i^{n+1}$.  We can solve for our unknown to get an equation that allows us to advance in time, as follows:\n",
    "\n",
    "$$u_i^{n+1} = u_i^n - c \\frac{\\Delta t}{\\Delta x}(u_i^n-u_{i-1}^n)$$\n",
    "\n",
    "Now let's try implementing this in Julia.  "
   ]
  },
  {
   "cell_type": "code",
   "execution_count": 1,
   "metadata": {},
   "outputs": [],
   "source": [
    "using Plots"
   ]
  },
  {
   "cell_type": "code",
   "execution_count": 2,
   "metadata": {},
   "outputs": [],
   "source": [
    "L = 2.0\n",
    "nx = 41 ; # try changing this number from 41 to 81 and Run All ... what happens?\n",
    "Δx = L/(nx-1);\n",
    "\n",
    "Tₑ = .625\n",
    "nt = 25 ;   #nt is the number of time steps we want to calculate\n",
    "Δt = Tₑ/nt ; #Δt is the size of each time step\n",
    "\n",
    "c = 1; "
   ]
  },
  {
   "cell_type": "code",
   "execution_count": 3,
   "metadata": {},
   "outputs": [
    {
     "name": "stdout",
     "output_type": "stream",
     "text": [
      "[0.0, 0.05, 0.1, 0.15, 0.2, 0.25, 0.3, 0.35, 0.4, 0.45, 0.5, 0.55, 0.6, 0.65, 0.7, 0.75, 0.8, 0.85, 0.9, 0.95, 1.0, 1.05, 1.1, 1.15, 1.2, 1.25, 1.3, 1.35, 1.4, 1.45, 1.5, 1.55, 1.6, 1.65, 1.7, 1.75, 1.8, 1.85, 1.9, 1.95, 2.0]"
     ]
    }
   ],
   "source": [
    "x = range(0, L; length = nx)\n",
    "t = range(0, Tₑ; length = nt)\n",
    "\n",
    "print(collect(x))"
   ]
  },
  {
   "cell_type": "code",
   "execution_count": 4,
   "metadata": {},
   "outputs": [
    {
     "data": {
      "text/plain": [
       "11-element view(::Array{Float64,1}, [11, 12, 13, 14, 15, 16, 17, 18, 19, 20, 21]) with eltype Float64:\n",
       " 2.0\n",
       " 2.0\n",
       " 2.0\n",
       " 2.0\n",
       " 2.0\n",
       " 2.0\n",
       " 2.0\n",
       " 2.0\n",
       " 2.0\n",
       " 2.0\n",
       " 2.0"
      ]
     },
     "execution_count": 4,
     "metadata": {},
     "output_type": "execute_result"
    }
   ],
   "source": [
    "u₀ = ones(nx);\n",
    "\n",
    "u₀[0.5 .≤ x .≤ 1.0] .= 2   # boolean indexing!"
   ]
  },
  {
   "cell_type": "code",
   "execution_count": 5,
   "metadata": {},
   "outputs": [
    {
     "data": {
      "image/svg+xml": [
       "<?xml version=\"1.0\" encoding=\"utf-8\"?>\n",
       "<svg xmlns=\"http://www.w3.org/2000/svg\" xmlns:xlink=\"http://www.w3.org/1999/xlink\" width=\"600\" height=\"400\" viewBox=\"0 0 2400 1600\">\n",
       "<defs>\n",
       "  <clipPath id=\"clip7900\">\n",
       "    <rect x=\"0\" y=\"0\" width=\"2400\" height=\"1600\"/>\n",
       "  </clipPath>\n",
       "</defs>\n",
       "<path clip-path=\"url(#clip7900)\" d=\"\n",
       "M0 1600 L2400 1600 L2400 0 L0 0  Z\n",
       "  \" fill=\"#ffffff\" fill-rule=\"evenodd\" fill-opacity=\"1\"/>\n",
       "<defs>\n",
       "  <clipPath id=\"clip7901\">\n",
       "    <rect x=\"480\" y=\"0\" width=\"1681\" height=\"1600\"/>\n",
       "  </clipPath>\n",
       "</defs>\n",
       "<path clip-path=\"url(#clip7900)\" d=\"\n",
       "M145.904 1486.45 L2352.76 1486.45 L2352.76 47.2441 L145.904 47.2441  Z\n",
       "  \" fill=\"#ffffff\" fill-rule=\"evenodd\" fill-opacity=\"1\"/>\n",
       "<defs>\n",
       "  <clipPath id=\"clip7902\">\n",
       "    <rect x=\"145\" y=\"47\" width=\"2208\" height=\"1440\"/>\n",
       "  </clipPath>\n",
       "</defs>\n",
       "<polyline clip-path=\"url(#clip7902)\" style=\"stroke:#000000; stroke-width:2; stroke-opacity:0.1; fill:none\" points=\"\n",
       "  208.362,1486.45 208.362,47.2441 \n",
       "  \"/>\n",
       "<polyline clip-path=\"url(#clip7902)\" style=\"stroke:#000000; stroke-width:2; stroke-opacity:0.1; fill:none\" points=\"\n",
       "  728.846,1486.45 728.846,47.2441 \n",
       "  \"/>\n",
       "<polyline clip-path=\"url(#clip7902)\" style=\"stroke:#000000; stroke-width:2; stroke-opacity:0.1; fill:none\" points=\"\n",
       "  1249.33,1486.45 1249.33,47.2441 \n",
       "  \"/>\n",
       "<polyline clip-path=\"url(#clip7902)\" style=\"stroke:#000000; stroke-width:2; stroke-opacity:0.1; fill:none\" points=\"\n",
       "  1769.81,1486.45 1769.81,47.2441 \n",
       "  \"/>\n",
       "<polyline clip-path=\"url(#clip7902)\" style=\"stroke:#000000; stroke-width:2; stroke-opacity:0.1; fill:none\" points=\"\n",
       "  2290.3,1486.45 2290.3,47.2441 \n",
       "  \"/>\n",
       "<polyline clip-path=\"url(#clip7902)\" style=\"stroke:#000000; stroke-width:2; stroke-opacity:0.1; fill:none\" points=\"\n",
       "  145.904,1174.17 2352.76,1174.17 \n",
       "  \"/>\n",
       "<polyline clip-path=\"url(#clip7902)\" style=\"stroke:#000000; stroke-width:2; stroke-opacity:0.1; fill:none\" points=\"\n",
       "  145.904,766.846 2352.76,766.846 \n",
       "  \"/>\n",
       "<polyline clip-path=\"url(#clip7902)\" style=\"stroke:#000000; stroke-width:2; stroke-opacity:0.1; fill:none\" points=\"\n",
       "  145.904,359.524 2352.76,359.524 \n",
       "  \"/>\n",
       "<polyline clip-path=\"url(#clip7902)\" style=\"stroke:#000000; stroke-width:2; stroke-opacity:0.1; fill:none\" points=\"\n",
       "  145.904,87.9763 2352.76,87.9763 \n",
       "  \"/>\n",
       "<polyline clip-path=\"url(#clip7900)\" style=\"stroke:#000000; stroke-width:4; stroke-opacity:1; fill:none\" points=\"\n",
       "  145.904,1486.45 2352.76,1486.45 \n",
       "  \"/>\n",
       "<polyline clip-path=\"url(#clip7900)\" style=\"stroke:#000000; stroke-width:4; stroke-opacity:1; fill:none\" points=\"\n",
       "  145.904,1486.45 145.904,47.2441 \n",
       "  \"/>\n",
       "<polyline clip-path=\"url(#clip7900)\" style=\"stroke:#000000; stroke-width:4; stroke-opacity:1; fill:none\" points=\"\n",
       "  208.362,1486.45 208.362,1469.18 \n",
       "  \"/>\n",
       "<polyline clip-path=\"url(#clip7900)\" style=\"stroke:#000000; stroke-width:4; stroke-opacity:1; fill:none\" points=\"\n",
       "  728.846,1486.45 728.846,1469.18 \n",
       "  \"/>\n",
       "<polyline clip-path=\"url(#clip7900)\" style=\"stroke:#000000; stroke-width:4; stroke-opacity:1; fill:none\" points=\"\n",
       "  1249.33,1486.45 1249.33,1469.18 \n",
       "  \"/>\n",
       "<polyline clip-path=\"url(#clip7900)\" style=\"stroke:#000000; stroke-width:4; stroke-opacity:1; fill:none\" points=\"\n",
       "  1769.81,1486.45 1769.81,1469.18 \n",
       "  \"/>\n",
       "<polyline clip-path=\"url(#clip7900)\" style=\"stroke:#000000; stroke-width:4; stroke-opacity:1; fill:none\" points=\"\n",
       "  2290.3,1486.45 2290.3,1469.18 \n",
       "  \"/>\n",
       "<polyline clip-path=\"url(#clip7900)\" style=\"stroke:#000000; stroke-width:4; stroke-opacity:1; fill:none\" points=\"\n",
       "  145.904,1174.17 172.386,1174.17 \n",
       "  \"/>\n",
       "<polyline clip-path=\"url(#clip7900)\" style=\"stroke:#000000; stroke-width:4; stroke-opacity:1; fill:none\" points=\"\n",
       "  145.904,766.846 172.386,766.846 \n",
       "  \"/>\n",
       "<polyline clip-path=\"url(#clip7900)\" style=\"stroke:#000000; stroke-width:4; stroke-opacity:1; fill:none\" points=\"\n",
       "  145.904,359.524 172.386,359.524 \n",
       "  \"/>\n",
       "<polyline clip-path=\"url(#clip7900)\" style=\"stroke:#000000; stroke-width:4; stroke-opacity:1; fill:none\" points=\"\n",
       "  145.904,87.9763 172.386,87.9763 \n",
       "  \"/>\n",
       "<path clip-path=\"url(#clip7900)\" d=\"M 0 0 M189.878 1508.44 Q186.267 1508.44 184.438 1512 Q182.633 1515.55 182.633 1522.67 Q182.633 1529.78 184.438 1533.35 Q186.267 1536.89 189.878 1536.89 Q193.512 1536.89 195.318 1533.35 Q197.147 1529.78 197.147 1522.67 Q197.147 1515.55 195.318 1512 Q193.512 1508.44 189.878 1508.44 M189.878 1504.73 Q195.688 1504.73 198.744 1509.34 Q201.823 1513.92 201.823 1522.67 Q201.823 1531.4 198.744 1536.01 Q195.688 1540.59 189.878 1540.59 Q184.068 1540.59 180.989 1536.01 Q177.934 1531.4 177.934 1522.67 Q177.934 1513.92 180.989 1509.34 Q184.068 1504.73 189.878 1504.73 Z\" fill=\"#000000\" fill-rule=\"evenodd\" fill-opacity=\"1\" /><path clip-path=\"url(#clip7900)\" d=\"M 0 0 M206.892 1534.04 L211.776 1534.04 L211.776 1539.92 L206.892 1539.92 L206.892 1534.04 Z\" fill=\"#000000\" fill-rule=\"evenodd\" fill-opacity=\"1\" /><path clip-path=\"url(#clip7900)\" d=\"M 0 0 M226.846 1508.44 Q223.235 1508.44 221.406 1512 Q219.6 1515.55 219.6 1522.67 Q219.6 1529.78 221.406 1533.35 Q223.235 1536.89 226.846 1536.89 Q230.48 1536.89 232.285 1533.35 Q234.114 1529.78 234.114 1522.67 Q234.114 1515.55 232.285 1512 Q230.48 1508.44 226.846 1508.44 M226.846 1504.73 Q232.656 1504.73 235.711 1509.34 Q238.79 1513.92 238.79 1522.67 Q238.79 1531.4 235.711 1536.01 Q232.656 1540.59 226.846 1540.59 Q221.035 1540.59 217.957 1536.01 Q214.901 1531.4 214.901 1522.67 Q214.901 1513.92 217.957 1509.34 Q221.035 1504.73 226.846 1504.73 Z\" fill=\"#000000\" fill-rule=\"evenodd\" fill-opacity=\"1\" /><path clip-path=\"url(#clip7900)\" d=\"M 0 0 M710.86 1508.44 Q707.249 1508.44 705.42 1512 Q703.615 1515.55 703.615 1522.67 Q703.615 1529.78 705.42 1533.35 Q707.249 1536.89 710.86 1536.89 Q714.494 1536.89 716.3 1533.35 Q718.128 1529.78 718.128 1522.67 Q718.128 1515.55 716.3 1512 Q714.494 1508.44 710.86 1508.44 M710.86 1504.73 Q716.67 1504.73 719.726 1509.34 Q722.804 1513.92 722.804 1522.67 Q722.804 1531.4 719.726 1536.01 Q716.67 1540.59 710.86 1540.59 Q705.05 1540.59 701.971 1536.01 Q698.916 1531.4 698.916 1522.67 Q698.916 1513.92 701.971 1509.34 Q705.05 1504.73 710.86 1504.73 Z\" fill=\"#000000\" fill-rule=\"evenodd\" fill-opacity=\"1\" /><path clip-path=\"url(#clip7900)\" d=\"M 0 0 M727.874 1534.04 L732.758 1534.04 L732.758 1539.92 L727.874 1539.92 L727.874 1534.04 Z\" fill=\"#000000\" fill-rule=\"evenodd\" fill-opacity=\"1\" /><path clip-path=\"url(#clip7900)\" d=\"M 0 0 M737.874 1505.36 L756.23 1505.36 L756.23 1509.3 L742.156 1509.3 L742.156 1517.77 Q743.175 1517.42 744.193 1517.26 Q745.212 1517.07 746.23 1517.07 Q752.017 1517.07 755.397 1520.24 Q758.776 1523.42 758.776 1528.83 Q758.776 1534.41 755.304 1537.51 Q751.832 1540.59 745.512 1540.59 Q743.337 1540.59 741.068 1540.22 Q738.823 1539.85 736.415 1539.11 L736.415 1534.41 Q738.499 1535.54 740.721 1536.1 Q742.943 1536.66 745.42 1536.66 Q749.424 1536.66 751.762 1534.55 Q754.1 1532.44 754.1 1528.83 Q754.1 1525.22 751.762 1523.11 Q749.424 1521.01 745.42 1521.01 Q743.545 1521.01 741.67 1521.42 Q739.818 1521.84 737.874 1522.72 L737.874 1505.36 Z\" fill=\"#000000\" fill-rule=\"evenodd\" fill-opacity=\"1\" /><path clip-path=\"url(#clip7900)\" d=\"M 0 0 M1221.23 1535.98 L1228.87 1535.98 L1228.87 1509.62 L1220.56 1511.29 L1220.56 1507.03 L1228.82 1505.36 L1233.5 1505.36 L1233.5 1535.98 L1241.14 1535.98 L1241.14 1539.92 L1221.23 1539.92 L1221.23 1535.98 Z\" fill=\"#000000\" fill-rule=\"evenodd\" fill-opacity=\"1\" /><path clip-path=\"url(#clip7900)\" d=\"M 0 0 M1246.2 1534.04 L1251.09 1534.04 L1251.09 1539.92 L1246.2 1539.92 L1246.2 1534.04 Z\" fill=\"#000000\" fill-rule=\"evenodd\" fill-opacity=\"1\" /><path clip-path=\"url(#clip7900)\" d=\"M 0 0 M1266.16 1508.44 Q1262.55 1508.44 1260.72 1512 Q1258.91 1515.55 1258.91 1522.67 Q1258.91 1529.78 1260.72 1533.35 Q1262.55 1536.89 1266.16 1536.89 Q1269.79 1536.89 1271.6 1533.35 Q1273.43 1529.78 1273.43 1522.67 Q1273.43 1515.55 1271.6 1512 Q1269.79 1508.44 1266.16 1508.44 M1266.16 1504.73 Q1271.97 1504.73 1275.02 1509.34 Q1278.1 1513.92 1278.1 1522.67 Q1278.1 1531.4 1275.02 1536.01 Q1271.97 1540.59 1266.16 1540.59 Q1260.35 1540.59 1257.27 1536.01 Q1254.21 1531.4 1254.21 1522.67 Q1254.21 1513.92 1257.27 1509.34 Q1260.35 1504.73 1266.16 1504.73 Z\" fill=\"#000000\" fill-rule=\"evenodd\" fill-opacity=\"1\" /><path clip-path=\"url(#clip7900)\" d=\"M 0 0 M1742.21 1535.98 L1749.85 1535.98 L1749.85 1509.62 L1741.54 1511.29 L1741.54 1507.03 L1749.8 1505.36 L1754.48 1505.36 L1754.48 1535.98 L1762.12 1535.98 L1762.12 1539.92 L1742.21 1539.92 L1742.21 1535.98 Z\" fill=\"#000000\" fill-rule=\"evenodd\" fill-opacity=\"1\" /><path clip-path=\"url(#clip7900)\" d=\"M 0 0 M1767.19 1534.04 L1772.07 1534.04 L1772.07 1539.92 L1767.19 1539.92 L1767.19 1534.04 Z\" fill=\"#000000\" fill-rule=\"evenodd\" fill-opacity=\"1\" /><path clip-path=\"url(#clip7900)\" d=\"M 0 0 M1777.19 1505.36 L1795.54 1505.36 L1795.54 1509.3 L1781.47 1509.3 L1781.47 1517.77 Q1782.49 1517.42 1783.51 1517.26 Q1784.52 1517.07 1785.54 1517.07 Q1791.33 1517.07 1794.71 1520.24 Q1798.09 1523.42 1798.09 1528.83 Q1798.09 1534.41 1794.62 1537.51 Q1791.14 1540.59 1784.83 1540.59 Q1782.65 1540.59 1780.38 1540.22 Q1778.14 1539.85 1775.73 1539.11 L1775.73 1534.41 Q1777.81 1535.54 1780.03 1536.1 Q1782.26 1536.66 1784.73 1536.66 Q1788.74 1536.66 1791.08 1534.55 Q1793.41 1532.44 1793.41 1528.83 Q1793.41 1525.22 1791.08 1523.11 Q1788.74 1521.01 1784.73 1521.01 Q1782.86 1521.01 1780.98 1521.42 Q1779.13 1521.84 1777.19 1522.72 L1777.19 1505.36 Z\" fill=\"#000000\" fill-rule=\"evenodd\" fill-opacity=\"1\" /><path clip-path=\"url(#clip7900)\" d=\"M 0 0 M2266.47 1535.98 L2282.79 1535.98 L2282.79 1539.92 L2260.84 1539.92 L2260.84 1535.98 Q2263.5 1533.23 2268.09 1528.6 Q2272.69 1523.95 2273.87 1522.61 Q2276.12 1520.08 2277 1518.35 Q2277.9 1516.59 2277.9 1514.9 Q2277.9 1512.14 2275.96 1510.41 Q2274.04 1508.67 2270.93 1508.67 Q2268.74 1508.67 2266.28 1509.43 Q2263.85 1510.2 2261.07 1511.75 L2261.07 1507.03 Q2263.9 1505.89 2266.35 1505.31 Q2268.8 1504.73 2270.84 1504.73 Q2276.21 1504.73 2279.41 1507.42 Q2282.6 1510.11 2282.6 1514.6 Q2282.6 1516.73 2281.79 1518.65 Q2281 1520.54 2278.9 1523.14 Q2278.32 1523.81 2275.22 1527.03 Q2272.12 1530.22 2266.47 1535.98 Z\" fill=\"#000000\" fill-rule=\"evenodd\" fill-opacity=\"1\" /><path clip-path=\"url(#clip7900)\" d=\"M 0 0 M2287.86 1534.04 L2292.74 1534.04 L2292.74 1539.92 L2287.86 1539.92 L2287.86 1534.04 Z\" fill=\"#000000\" fill-rule=\"evenodd\" fill-opacity=\"1\" /><path clip-path=\"url(#clip7900)\" d=\"M 0 0 M2307.81 1508.44 Q2304.2 1508.44 2302.37 1512 Q2300.56 1515.55 2300.56 1522.67 Q2300.56 1529.78 2302.37 1533.35 Q2304.2 1536.89 2307.81 1536.89 Q2311.44 1536.89 2313.25 1533.35 Q2315.08 1529.78 2315.08 1522.67 Q2315.08 1515.55 2313.25 1512 Q2311.44 1508.44 2307.81 1508.44 M2307.81 1504.73 Q2313.62 1504.73 2316.68 1509.34 Q2319.75 1513.92 2319.75 1522.67 Q2319.75 1531.4 2316.68 1536.01 Q2313.62 1540.59 2307.81 1540.59 Q2302 1540.59 2298.92 1536.01 Q2295.86 1531.4 2295.86 1522.67 Q2295.86 1513.92 2298.92 1509.34 Q2302 1504.73 2307.81 1504.73 Z\" fill=\"#000000\" fill-rule=\"evenodd\" fill-opacity=\"1\" /><path clip-path=\"url(#clip7900)\" d=\"M 0 0 M66.6264 1187.51 L74.2652 1187.51 L74.2652 1161.15 L65.9551 1162.81 L65.9551 1158.55 L74.2189 1156.89 L78.8948 1156.89 L78.8948 1187.51 L86.5337 1187.51 L86.5337 1191.45 L66.6264 1191.45 L66.6264 1187.51 Z\" fill=\"#000000\" fill-rule=\"evenodd\" fill-opacity=\"1\" /><path clip-path=\"url(#clip7900)\" d=\"M 0 0 M91.6031 1185.57 L96.4873 1185.57 L96.4873 1191.45 L91.6031 1191.45 L91.6031 1185.57 Z\" fill=\"#000000\" fill-rule=\"evenodd\" fill-opacity=\"1\" /><path clip-path=\"url(#clip7900)\" d=\"M 0 0 M105.584 1187.51 L121.904 1187.51 L121.904 1191.45 L99.9595 1191.45 L99.9595 1187.51 Q102.622 1184.76 107.205 1180.13 Q111.811 1175.48 112.992 1174.13 Q115.237 1171.61 116.117 1169.87 Q117.02 1168.11 117.02 1166.42 Q117.02 1163.67 115.075 1161.93 Q113.154 1160.2 110.052 1160.2 Q107.853 1160.2 105.399 1160.96 Q102.969 1161.73 100.191 1163.28 L100.191 1158.55 Q103.015 1157.42 105.469 1156.84 Q107.922 1156.26 109.959 1156.26 Q115.33 1156.26 118.524 1158.95 Q121.719 1161.63 121.719 1166.12 Q121.719 1168.25 120.908 1170.17 Q120.121 1172.07 118.015 1174.67 Q117.436 1175.34 114.334 1178.55 Q111.233 1181.75 105.584 1187.51 Z\" fill=\"#000000\" fill-rule=\"evenodd\" fill-opacity=\"1\" /><path clip-path=\"url(#clip7900)\" d=\"M 0 0 M66.0245 780.191 L73.6634 780.191 L73.6634 753.825 L65.3532 755.492 L65.3532 751.233 L73.6171 749.566 L78.293 749.566 L78.293 780.191 L85.9318 780.191 L85.9318 784.126 L66.0245 784.126 L66.0245 780.191 Z\" fill=\"#000000\" fill-rule=\"evenodd\" fill-opacity=\"1\" /><path clip-path=\"url(#clip7900)\" d=\"M 0 0 M91.0012 778.246 L95.8855 778.246 L95.8855 784.126 L91.0012 784.126 L91.0012 778.246 Z\" fill=\"#000000\" fill-rule=\"evenodd\" fill-opacity=\"1\" /><path clip-path=\"url(#clip7900)\" d=\"M 0 0 M101.001 749.566 L119.358 749.566 L119.358 753.501 L105.284 753.501 L105.284 761.973 Q106.302 761.626 107.321 761.464 Q108.339 761.279 109.358 761.279 Q115.145 761.279 118.524 764.45 Q121.904 767.621 121.904 773.038 Q121.904 778.617 118.432 781.719 Q114.959 784.797 108.64 784.797 Q106.464 784.797 104.196 784.427 Q101.95 784.057 99.5429 783.316 L99.5429 778.617 Q101.626 779.751 103.848 780.307 Q106.071 780.862 108.547 780.862 Q112.552 780.862 114.89 778.756 Q117.228 776.649 117.228 773.038 Q117.228 769.427 114.89 767.321 Q112.552 765.214 108.547 765.214 Q106.672 765.214 104.797 765.631 Q102.946 766.047 101.001 766.927 L101.001 749.566 Z\" fill=\"#000000\" fill-rule=\"evenodd\" fill-opacity=\"1\" /><path clip-path=\"url(#clip7900)\" d=\"M 0 0 M65.1217 372.869 L72.7606 372.869 L72.7606 346.503 L64.4505 348.17 L64.4505 343.911 L72.7143 342.244 L77.3902 342.244 L77.3902 372.869 L85.029 372.869 L85.029 376.804 L65.1217 376.804 L65.1217 372.869 Z\" fill=\"#000000\" fill-rule=\"evenodd\" fill-opacity=\"1\" /><path clip-path=\"url(#clip7900)\" d=\"M 0 0 M90.0985 370.925 L94.9827 370.925 L94.9827 376.804 L90.0985 376.804 L90.0985 370.925 Z\" fill=\"#000000\" fill-rule=\"evenodd\" fill-opacity=\"1\" /><path clip-path=\"url(#clip7900)\" d=\"M 0 0 M110.052 360.392 Q106.719 360.392 104.797 362.175 Q102.899 363.957 102.899 367.082 Q102.899 370.207 104.797 371.989 Q106.719 373.772 110.052 373.772 Q113.385 373.772 115.307 371.989 Q117.228 370.184 117.228 367.082 Q117.228 363.957 115.307 362.175 Q113.409 360.392 110.052 360.392 M105.376 358.401 Q102.367 357.661 100.677 355.601 Q99.0105 353.54 99.0105 350.577 Q99.0105 346.434 101.95 344.027 Q104.913 341.619 110.052 341.619 Q115.214 341.619 118.154 344.027 Q121.094 346.434 121.094 350.577 Q121.094 353.54 119.404 355.601 Q117.737 357.661 114.751 358.401 Q118.131 359.189 120.006 361.48 Q121.904 363.772 121.904 367.082 Q121.904 372.105 118.825 374.79 Q115.77 377.475 110.052 377.475 Q104.334 377.475 101.256 374.79 Q98.2003 372.105 98.2003 367.082 Q98.2003 363.772 100.098 361.48 Q101.997 359.189 105.376 358.401 M103.663 351.017 Q103.663 353.702 105.33 355.207 Q107.02 356.712 110.052 356.712 Q113.061 356.712 114.751 355.207 Q116.464 353.702 116.464 351.017 Q116.464 348.332 114.751 346.827 Q113.061 345.323 110.052 345.323 Q107.02 345.323 105.33 346.827 Q103.663 348.332 103.663 351.017 Z\" fill=\"#000000\" fill-rule=\"evenodd\" fill-opacity=\"1\" /><path clip-path=\"url(#clip7900)\" d=\"M 0 0 M68.6171 101.321 L84.9365 101.321 L84.9365 105.256 L62.9921 105.256 L62.9921 101.321 Q65.6541 98.5665 70.2375 93.9369 Q74.8439 89.2841 76.0245 87.9416 Q78.2698 85.4184 79.1494 83.6823 Q80.0522 81.9231 80.0522 80.2333 Q80.0522 77.4786 78.1078 75.7425 Q76.1865 74.0064 73.0847 74.0064 Q70.8856 74.0064 68.4319 74.7703 Q66.0014 75.5342 63.2236 77.0851 L63.2236 72.3629 Q66.0477 71.2287 68.5014 70.65 Q70.955 70.0713 72.9921 70.0713 Q78.3624 70.0713 81.5568 72.7565 Q84.7513 75.4416 84.7513 79.9323 Q84.7513 82.062 83.9411 83.9832 Q83.1541 85.8814 81.0476 88.474 Q80.4689 89.1453 77.367 92.3628 Q74.2652 95.5573 68.6171 101.321 Z\" fill=\"#000000\" fill-rule=\"evenodd\" fill-opacity=\"1\" /><path clip-path=\"url(#clip7900)\" d=\"M 0 0 M90.0059 99.3767 L94.8901 99.3767 L94.8901 105.256 L90.0059 105.256 L90.0059 99.3767 Z\" fill=\"#000000\" fill-rule=\"evenodd\" fill-opacity=\"1\" /><path clip-path=\"url(#clip7900)\" d=\"M 0 0 M109.959 73.775 Q106.348 73.775 104.52 77.3398 Q102.714 80.8814 102.714 88.011 Q102.714 95.1174 104.52 98.6822 Q106.348 102.224 109.959 102.224 Q113.594 102.224 115.399 98.6822 Q117.228 95.1174 117.228 88.011 Q117.228 80.8814 115.399 77.3398 Q113.594 73.775 109.959 73.775 M109.959 70.0713 Q115.77 70.0713 118.825 74.6777 Q121.904 79.261 121.904 88.011 Q121.904 96.7378 118.825 101.344 Q115.77 105.928 109.959 105.928 Q104.149 105.928 101.071 101.344 Q98.0151 96.7378 98.0151 88.011 Q98.0151 79.261 101.071 74.6777 Q104.149 70.0713 109.959 70.0713 Z\" fill=\"#000000\" fill-rule=\"evenodd\" fill-opacity=\"1\" /><polyline clip-path=\"url(#clip7902)\" style=\"stroke:#009af9; stroke-width:4; stroke-opacity:1; fill:none\" points=\"\n",
       "  208.362,1445.72 260.41,1445.72 312.459,1445.72 364.507,1445.72 416.556,1445.72 468.604,1445.72 520.652,1445.72 572.701,1445.72 624.749,1445.72 676.798,1445.72 \n",
       "  728.846,87.9763 780.894,87.9763 832.943,87.9763 884.991,87.9763 937.039,87.9763 989.088,87.9763 1041.14,87.9763 1093.18,87.9763 1145.23,87.9763 1197.28,87.9763 \n",
       "  1249.33,87.9763 1301.38,1445.72 1353.43,1445.72 1405.48,1445.72 1457.52,1445.72 1509.57,1445.72 1561.62,1445.72 1613.67,1445.72 1665.72,1445.72 1717.77,1445.72 \n",
       "  1769.81,1445.72 1821.86,1445.72 1873.91,1445.72 1925.96,1445.72 1978.01,1445.72 2030.06,1445.72 2082.1,1445.72 2134.15,1445.72 2186.2,1445.72 2238.25,1445.72 \n",
       "  2290.3,1445.72 \n",
       "  \"/>\n",
       "<path clip-path=\"url(#clip7900)\" d=\"\n",
       "M1989.74 251.724 L2280.76 251.724 L2280.76 130.764 L1989.74 130.764  Z\n",
       "  \" fill=\"#ffffff\" fill-rule=\"evenodd\" fill-opacity=\"1\"/>\n",
       "<polyline clip-path=\"url(#clip7900)\" style=\"stroke:#000000; stroke-width:4; stroke-opacity:1; fill:none\" points=\"\n",
       "  1989.74,251.724 2280.76,251.724 2280.76,130.764 1989.74,130.764 1989.74,251.724 \n",
       "  \"/>\n",
       "<polyline clip-path=\"url(#clip7900)\" style=\"stroke:#009af9; stroke-width:4; stroke-opacity:1; fill:none\" points=\"\n",
       "  2013.74,191.244 2157.74,191.244 \n",
       "  \"/>\n",
       "<path clip-path=\"url(#clip7900)\" d=\"M 0 0 M2195.58 210.931 Q2193.77 215.561 2192.06 216.973 Q2190.35 218.385 2187.48 218.385 L2184.08 218.385 L2184.08 214.82 L2186.58 214.82 Q2188.33 214.82 2189.31 213.987 Q2190.28 213.154 2191.46 210.052 L2192.22 208.107 L2181.74 182.598 L2186.25 182.598 L2194.35 202.876 L2202.46 182.598 L2206.97 182.598 L2195.58 210.931 Z\" fill=\"#000000\" fill-rule=\"evenodd\" fill-opacity=\"1\" /><path clip-path=\"url(#clip7900)\" d=\"M 0 0 M2212.85 204.589 L2220.49 204.589 L2220.49 178.223 L2212.18 179.89 L2212.18 175.631 L2220.44 173.964 L2225.12 173.964 L2225.12 204.589 L2232.76 204.589 L2232.76 208.524 L2212.85 208.524 L2212.85 204.589 Z\" fill=\"#000000\" fill-rule=\"evenodd\" fill-opacity=\"1\" /></svg>\n"
      ]
     },
     "execution_count": 5,
     "metadata": {},
     "output_type": "execute_result"
    }
   ],
   "source": [
    "plot(x, u₀)"
   ]
  },
  {
   "cell_type": "markdown",
   "metadata": {},
   "source": [
    "Why doesn't the hat function have perfectly straight sides? Think for a bit."
   ]
  },
  {
   "cell_type": "markdown",
   "metadata": {},
   "source": [
    "Now it's time to implement the discretization of the convection equation using a finite-difference scheme.  \n",
    "\n",
    "For every element of our array `u`, we need to perform the operation $u_i^{n+1} = u_i^n - c \\frac{\\Delta t}{\\Delta x}(u_i^n-u_{i-1}^n)$\n",
    "\n",
    "We'll store the result in a new (temporary) array `un`, which will be the solution $u$ for the next time-step.  We will repeat this operation for as many time-steps as we specify and then we can see how far the wave has convected.  \n",
    "\n",
    "We first initialize our placeholder array `un` to hold the values we calculate for the $n+1$ timestep, using once again the NumPy function `ones()`.\n",
    "\n",
    "Then, we may think we have two iterative operations: one in space and one in time (we'll learn differently later), so we'll start by nesting one loop inside the other. Note the use of the nifty `range()` function. When we write: `for i in range(1,nx)` we will iterate through the `u` array, but we'll be skipping the first element (the zero-th element).  *Why?*"
   ]
  },
  {
   "cell_type": "code",
   "execution_count": 6,
   "metadata": {},
   "outputs": [],
   "source": [
    "uⁿ⁺¹ = similar(u₀)    #preallocate\n",
    "uⁿ⁺¹ .= u₀    #in place operation\n",
    "\n",
    "uⁿ = similar(u₀)\n",
    "\n",
    "for n in 1:nt     #loop for values of n from 0 to nt, so it will run nt times\n",
    "    uⁿ .= uⁿ⁺¹     #in place operation\n",
    "    for i in 2:nx \n",
    "        uⁿ⁺¹[i] = uⁿ[i] - c * Δt/Δx *(uⁿ[i]-uⁿ[i-1]);\n",
    "    end\n",
    "end\n",
    "        \n",
    "        "
   ]
  },
  {
   "cell_type": "markdown",
   "metadata": {},
   "source": [
    "**Note**—We will learn later that the code as written above is quite inefficient, and there are better ways to write this in Julia. But let's carry on.\n",
    "\n",
    "Now let's try plotting our `u` array after advancing in time."
   ]
  },
  {
   "cell_type": "code",
   "execution_count": 7,
   "metadata": {},
   "outputs": [
    {
     "data": {
      "image/svg+xml": [
       "<?xml version=\"1.0\" encoding=\"utf-8\"?>\n",
       "<svg xmlns=\"http://www.w3.org/2000/svg\" xmlns:xlink=\"http://www.w3.org/1999/xlink\" width=\"600\" height=\"400\" viewBox=\"0 0 2400 1600\">\n",
       "<defs>\n",
       "  <clipPath id=\"clip8300\">\n",
       "    <rect x=\"0\" y=\"0\" width=\"2400\" height=\"1600\"/>\n",
       "  </clipPath>\n",
       "</defs>\n",
       "<path clip-path=\"url(#clip8300)\" d=\"\n",
       "M0 1600 L2400 1600 L2400 0 L0 0  Z\n",
       "  \" fill=\"#ffffff\" fill-rule=\"evenodd\" fill-opacity=\"1\"/>\n",
       "<defs>\n",
       "  <clipPath id=\"clip8301\">\n",
       "    <rect x=\"480\" y=\"0\" width=\"1681\" height=\"1600\"/>\n",
       "  </clipPath>\n",
       "</defs>\n",
       "<path clip-path=\"url(#clip8300)\" d=\"\n",
       "M172.918 1486.45 L2352.76 1486.45 L2352.76 47.2441 L172.918 47.2441  Z\n",
       "  \" fill=\"#ffffff\" fill-rule=\"evenodd\" fill-opacity=\"1\"/>\n",
       "<defs>\n",
       "  <clipPath id=\"clip8302\">\n",
       "    <rect x=\"172\" y=\"47\" width=\"2181\" height=\"1440\"/>\n",
       "  </clipPath>\n",
       "</defs>\n",
       "<polyline clip-path=\"url(#clip8302)\" style=\"stroke:#000000; stroke-width:2; stroke-opacity:0.1; fill:none\" points=\"\n",
       "  234.611,1486.45 234.611,47.2441 \n",
       "  \"/>\n",
       "<polyline clip-path=\"url(#clip8302)\" style=\"stroke:#000000; stroke-width:2; stroke-opacity:0.1; fill:none\" points=\"\n",
       "  748.724,1486.45 748.724,47.2441 \n",
       "  \"/>\n",
       "<polyline clip-path=\"url(#clip8302)\" style=\"stroke:#000000; stroke-width:2; stroke-opacity:0.1; fill:none\" points=\"\n",
       "  1262.84,1486.45 1262.84,47.2441 \n",
       "  \"/>\n",
       "<polyline clip-path=\"url(#clip8302)\" style=\"stroke:#000000; stroke-width:2; stroke-opacity:0.1; fill:none\" points=\"\n",
       "  1776.95,1486.45 1776.95,47.2441 \n",
       "  \"/>\n",
       "<polyline clip-path=\"url(#clip8302)\" style=\"stroke:#000000; stroke-width:2; stroke-opacity:0.1; fill:none\" points=\"\n",
       "  2291.06,1486.45 2291.06,47.2441 \n",
       "  \"/>\n",
       "<polyline clip-path=\"url(#clip8302)\" style=\"stroke:#000000; stroke-width:2; stroke-opacity:0.1; fill:none\" points=\"\n",
       "  172.918,1445.72 2352.76,1445.72 \n",
       "  \"/>\n",
       "<polyline clip-path=\"url(#clip8302)\" style=\"stroke:#000000; stroke-width:2; stroke-opacity:0.1; fill:none\" points=\"\n",
       "  172.918,1096.16 2352.76,1096.16 \n",
       "  \"/>\n",
       "<polyline clip-path=\"url(#clip8302)\" style=\"stroke:#000000; stroke-width:2; stroke-opacity:0.1; fill:none\" points=\"\n",
       "  172.918,746.6 2352.76,746.6 \n",
       "  \"/>\n",
       "<polyline clip-path=\"url(#clip8302)\" style=\"stroke:#000000; stroke-width:2; stroke-opacity:0.1; fill:none\" points=\"\n",
       "  172.918,397.042 2352.76,397.042 \n",
       "  \"/>\n",
       "<polyline clip-path=\"url(#clip8302)\" style=\"stroke:#000000; stroke-width:2; stroke-opacity:0.1; fill:none\" points=\"\n",
       "  172.918,47.4845 2352.76,47.4845 \n",
       "  \"/>\n",
       "<polyline clip-path=\"url(#clip8300)\" style=\"stroke:#000000; stroke-width:4; stroke-opacity:1; fill:none\" points=\"\n",
       "  172.918,1486.45 2352.76,1486.45 \n",
       "  \"/>\n",
       "<polyline clip-path=\"url(#clip8300)\" style=\"stroke:#000000; stroke-width:4; stroke-opacity:1; fill:none\" points=\"\n",
       "  172.918,1486.45 172.918,47.2441 \n",
       "  \"/>\n",
       "<polyline clip-path=\"url(#clip8300)\" style=\"stroke:#000000; stroke-width:4; stroke-opacity:1; fill:none\" points=\"\n",
       "  234.611,1486.45 234.611,1469.18 \n",
       "  \"/>\n",
       "<polyline clip-path=\"url(#clip8300)\" style=\"stroke:#000000; stroke-width:4; stroke-opacity:1; fill:none\" points=\"\n",
       "  748.724,1486.45 748.724,1469.18 \n",
       "  \"/>\n",
       "<polyline clip-path=\"url(#clip8300)\" style=\"stroke:#000000; stroke-width:4; stroke-opacity:1; fill:none\" points=\"\n",
       "  1262.84,1486.45 1262.84,1469.18 \n",
       "  \"/>\n",
       "<polyline clip-path=\"url(#clip8300)\" style=\"stroke:#000000; stroke-width:4; stroke-opacity:1; fill:none\" points=\"\n",
       "  1776.95,1486.45 1776.95,1469.18 \n",
       "  \"/>\n",
       "<polyline clip-path=\"url(#clip8300)\" style=\"stroke:#000000; stroke-width:4; stroke-opacity:1; fill:none\" points=\"\n",
       "  2291.06,1486.45 2291.06,1469.18 \n",
       "  \"/>\n",
       "<polyline clip-path=\"url(#clip8300)\" style=\"stroke:#000000; stroke-width:4; stroke-opacity:1; fill:none\" points=\"\n",
       "  172.918,1445.72 199.076,1445.72 \n",
       "  \"/>\n",
       "<polyline clip-path=\"url(#clip8300)\" style=\"stroke:#000000; stroke-width:4; stroke-opacity:1; fill:none\" points=\"\n",
       "  172.918,1096.16 199.076,1096.16 \n",
       "  \"/>\n",
       "<polyline clip-path=\"url(#clip8300)\" style=\"stroke:#000000; stroke-width:4; stroke-opacity:1; fill:none\" points=\"\n",
       "  172.918,746.6 199.076,746.6 \n",
       "  \"/>\n",
       "<polyline clip-path=\"url(#clip8300)\" style=\"stroke:#000000; stroke-width:4; stroke-opacity:1; fill:none\" points=\"\n",
       "  172.918,397.042 199.076,397.042 \n",
       "  \"/>\n",
       "<polyline clip-path=\"url(#clip8300)\" style=\"stroke:#000000; stroke-width:4; stroke-opacity:1; fill:none\" points=\"\n",
       "  172.918,47.4845 199.076,47.4845 \n",
       "  \"/>\n",
       "<path clip-path=\"url(#clip8300)\" d=\"M 0 0 M216.127 1508.44 Q212.516 1508.44 210.688 1512 Q208.882 1515.55 208.882 1522.67 Q208.882 1529.78 210.688 1533.35 Q212.516 1536.89 216.127 1536.89 Q219.762 1536.89 221.567 1533.35 Q223.396 1529.78 223.396 1522.67 Q223.396 1515.55 221.567 1512 Q219.762 1508.44 216.127 1508.44 M216.127 1504.73 Q221.938 1504.73 224.993 1509.34 Q228.072 1513.92 228.072 1522.67 Q228.072 1531.4 224.993 1536.01 Q221.938 1540.59 216.127 1540.59 Q210.317 1540.59 207.239 1536.01 Q204.183 1531.4 204.183 1522.67 Q204.183 1513.92 207.239 1509.34 Q210.317 1504.73 216.127 1504.73 Z\" fill=\"#000000\" fill-rule=\"evenodd\" fill-opacity=\"1\" /><path clip-path=\"url(#clip8300)\" d=\"M 0 0 M233.141 1534.04 L238.025 1534.04 L238.025 1539.92 L233.141 1539.92 L233.141 1534.04 Z\" fill=\"#000000\" fill-rule=\"evenodd\" fill-opacity=\"1\" /><path clip-path=\"url(#clip8300)\" d=\"M 0 0 M253.095 1508.44 Q249.484 1508.44 247.655 1512 Q245.849 1515.55 245.849 1522.67 Q245.849 1529.78 247.655 1533.35 Q249.484 1536.89 253.095 1536.89 Q256.729 1536.89 258.535 1533.35 Q260.363 1529.78 260.363 1522.67 Q260.363 1515.55 258.535 1512 Q256.729 1508.44 253.095 1508.44 M253.095 1504.73 Q258.905 1504.73 261.961 1509.34 Q265.039 1513.92 265.039 1522.67 Q265.039 1531.4 261.961 1536.01 Q258.905 1540.59 253.095 1540.59 Q247.285 1540.59 244.206 1536.01 Q241.15 1531.4 241.15 1522.67 Q241.15 1513.92 244.206 1509.34 Q247.285 1504.73 253.095 1504.73 Z\" fill=\"#000000\" fill-rule=\"evenodd\" fill-opacity=\"1\" /><path clip-path=\"url(#clip8300)\" d=\"M 0 0 M730.738 1508.44 Q727.127 1508.44 725.298 1512 Q723.493 1515.55 723.493 1522.67 Q723.493 1529.78 725.298 1533.35 Q727.127 1536.89 730.738 1536.89 Q734.372 1536.89 736.178 1533.35 Q738.006 1529.78 738.006 1522.67 Q738.006 1515.55 736.178 1512 Q734.372 1508.44 730.738 1508.44 M730.738 1504.73 Q736.548 1504.73 739.604 1509.34 Q742.682 1513.92 742.682 1522.67 Q742.682 1531.4 739.604 1536.01 Q736.548 1540.59 730.738 1540.59 Q724.928 1540.59 721.849 1536.01 Q718.794 1531.4 718.794 1522.67 Q718.794 1513.92 721.849 1509.34 Q724.928 1504.73 730.738 1504.73 Z\" fill=\"#000000\" fill-rule=\"evenodd\" fill-opacity=\"1\" /><path clip-path=\"url(#clip8300)\" d=\"M 0 0 M747.752 1534.04 L752.636 1534.04 L752.636 1539.92 L747.752 1539.92 L747.752 1534.04 Z\" fill=\"#000000\" fill-rule=\"evenodd\" fill-opacity=\"1\" /><path clip-path=\"url(#clip8300)\" d=\"M 0 0 M757.752 1505.36 L776.108 1505.36 L776.108 1509.3 L762.034 1509.3 L762.034 1517.77 Q763.053 1517.42 764.071 1517.26 Q765.09 1517.07 766.108 1517.07 Q771.895 1517.07 775.275 1520.24 Q778.654 1523.42 778.654 1528.83 Q778.654 1534.41 775.182 1537.51 Q771.71 1540.59 765.391 1540.59 Q763.215 1540.59 760.946 1540.22 Q758.701 1539.85 756.293 1539.11 L756.293 1534.41 Q758.377 1535.54 760.599 1536.1 Q762.821 1536.66 765.298 1536.66 Q769.303 1536.66 771.64 1534.55 Q773.978 1532.44 773.978 1528.83 Q773.978 1525.22 771.64 1523.11 Q769.303 1521.01 765.298 1521.01 Q763.423 1521.01 761.548 1521.42 Q759.696 1521.84 757.752 1522.72 L757.752 1505.36 Z\" fill=\"#000000\" fill-rule=\"evenodd\" fill-opacity=\"1\" /><path clip-path=\"url(#clip8300)\" d=\"M 0 0 M1234.74 1535.98 L1242.37 1535.98 L1242.37 1509.62 L1234.06 1511.29 L1234.06 1507.03 L1242.33 1505.36 L1247 1505.36 L1247 1535.98 L1254.64 1535.98 L1254.64 1539.92 L1234.74 1539.92 L1234.74 1535.98 Z\" fill=\"#000000\" fill-rule=\"evenodd\" fill-opacity=\"1\" /><path clip-path=\"url(#clip8300)\" d=\"M 0 0 M1259.71 1534.04 L1264.6 1534.04 L1264.6 1539.92 L1259.71 1539.92 L1259.71 1534.04 Z\" fill=\"#000000\" fill-rule=\"evenodd\" fill-opacity=\"1\" /><path clip-path=\"url(#clip8300)\" d=\"M 0 0 M1279.67 1508.44 Q1276.05 1508.44 1274.23 1512 Q1272.42 1515.55 1272.42 1522.67 Q1272.42 1529.78 1274.23 1533.35 Q1276.05 1536.89 1279.67 1536.89 Q1283.3 1536.89 1285.11 1533.35 Q1286.93 1529.78 1286.93 1522.67 Q1286.93 1515.55 1285.11 1512 Q1283.3 1508.44 1279.67 1508.44 M1279.67 1504.73 Q1285.48 1504.73 1288.53 1509.34 Q1291.61 1513.92 1291.61 1522.67 Q1291.61 1531.4 1288.53 1536.01 Q1285.48 1540.59 1279.67 1540.59 Q1273.86 1540.59 1270.78 1536.01 Q1267.72 1531.4 1267.72 1522.67 Q1267.72 1513.92 1270.78 1509.34 Q1273.86 1504.73 1279.67 1504.73 Z\" fill=\"#000000\" fill-rule=\"evenodd\" fill-opacity=\"1\" /><path clip-path=\"url(#clip8300)\" d=\"M 0 0 M1749.35 1535.98 L1756.98 1535.98 L1756.98 1509.62 L1748.67 1511.29 L1748.67 1507.03 L1756.94 1505.36 L1761.61 1505.36 L1761.61 1535.98 L1769.25 1535.98 L1769.25 1539.92 L1749.35 1539.92 L1749.35 1535.98 Z\" fill=\"#000000\" fill-rule=\"evenodd\" fill-opacity=\"1\" /><path clip-path=\"url(#clip8300)\" d=\"M 0 0 M1774.32 1534.04 L1779.21 1534.04 L1779.21 1539.92 L1774.32 1539.92 L1774.32 1534.04 Z\" fill=\"#000000\" fill-rule=\"evenodd\" fill-opacity=\"1\" /><path clip-path=\"url(#clip8300)\" d=\"M 0 0 M1784.32 1505.36 L1802.68 1505.36 L1802.68 1509.3 L1788.6 1509.3 L1788.6 1517.77 Q1789.62 1517.42 1790.64 1517.26 Q1791.66 1517.07 1792.68 1517.07 Q1798.47 1517.07 1801.85 1520.24 Q1805.22 1523.42 1805.22 1528.83 Q1805.22 1534.41 1801.75 1537.51 Q1798.28 1540.59 1791.96 1540.59 Q1789.79 1540.59 1787.52 1540.22 Q1785.27 1539.85 1782.86 1539.11 L1782.86 1534.41 Q1784.95 1535.54 1787.17 1536.1 Q1789.39 1536.66 1791.87 1536.66 Q1795.87 1536.66 1798.21 1534.55 Q1800.55 1532.44 1800.55 1528.83 Q1800.55 1525.22 1798.21 1523.11 Q1795.87 1521.01 1791.87 1521.01 Q1789.99 1521.01 1788.12 1521.42 Q1786.27 1521.84 1784.32 1522.72 L1784.32 1505.36 Z\" fill=\"#000000\" fill-rule=\"evenodd\" fill-opacity=\"1\" /><path clip-path=\"url(#clip8300)\" d=\"M 0 0 M2267.23 1535.98 L2283.55 1535.98 L2283.55 1539.92 L2261.61 1539.92 L2261.61 1535.98 Q2264.27 1533.23 2268.85 1528.6 Q2273.46 1523.95 2274.64 1522.61 Q2276.88 1520.08 2277.76 1518.35 Q2278.67 1516.59 2278.67 1514.9 Q2278.67 1512.14 2276.72 1510.41 Q2274.8 1508.67 2271.7 1508.67 Q2269.5 1508.67 2267.05 1509.43 Q2264.62 1510.2 2261.84 1511.75 L2261.84 1507.03 Q2264.66 1505.89 2267.12 1505.31 Q2269.57 1504.73 2271.61 1504.73 Q2276.98 1504.73 2280.17 1507.42 Q2283.37 1510.11 2283.37 1514.6 Q2283.37 1516.73 2282.56 1518.65 Q2281.77 1520.54 2279.66 1523.14 Q2279.08 1523.81 2275.98 1527.03 Q2272.88 1530.22 2267.23 1535.98 Z\" fill=\"#000000\" fill-rule=\"evenodd\" fill-opacity=\"1\" /><path clip-path=\"url(#clip8300)\" d=\"M 0 0 M2288.62 1534.04 L2293.5 1534.04 L2293.5 1539.92 L2288.62 1539.92 L2288.62 1534.04 Z\" fill=\"#000000\" fill-rule=\"evenodd\" fill-opacity=\"1\" /><path clip-path=\"url(#clip8300)\" d=\"M 0 0 M2308.57 1508.44 Q2304.96 1508.44 2303.13 1512 Q2301.33 1515.55 2301.33 1522.67 Q2301.33 1529.78 2303.13 1533.35 Q2304.96 1536.89 2308.57 1536.89 Q2312.21 1536.89 2314.01 1533.35 Q2315.84 1529.78 2315.84 1522.67 Q2315.84 1515.55 2314.01 1512 Q2312.21 1508.44 2308.57 1508.44 M2308.57 1504.73 Q2314.38 1504.73 2317.44 1509.34 Q2320.52 1513.92 2320.52 1522.67 Q2320.52 1531.4 2317.44 1536.01 Q2314.38 1540.59 2308.57 1540.59 Q2302.76 1540.59 2299.69 1536.01 Q2296.63 1531.4 2296.63 1522.67 Q2296.63 1513.92 2299.69 1509.34 Q2302.76 1504.73 2308.57 1504.73 Z\" fill=\"#000000\" fill-rule=\"evenodd\" fill-opacity=\"1\" /><path clip-path=\"url(#clip8300)\" d=\"M 0 0 M65.0292 1459.06 L72.668 1459.06 L72.668 1432.69 L64.3579 1434.36 L64.3579 1430.1 L72.6217 1428.44 L77.2976 1428.44 L77.2976 1459.06 L84.9365 1459.06 L84.9365 1463 L65.0292 1463 L65.0292 1459.06 Z\" fill=\"#000000\" fill-rule=\"evenodd\" fill-opacity=\"1\" /><path clip-path=\"url(#clip8300)\" d=\"M 0 0 M90.0059 1457.12 L94.8901 1457.12 L94.8901 1463 L90.0059 1463 L90.0059 1457.12 Z\" fill=\"#000000\" fill-rule=\"evenodd\" fill-opacity=\"1\" /><path clip-path=\"url(#clip8300)\" d=\"M 0 0 M109.959 1431.51 Q106.348 1431.51 104.52 1435.08 Q102.714 1438.62 102.714 1445.75 Q102.714 1452.86 104.52 1456.42 Q106.348 1459.96 109.959 1459.96 Q113.594 1459.96 115.399 1456.42 Q117.228 1452.86 117.228 1445.75 Q117.228 1438.62 115.399 1435.08 Q113.594 1431.51 109.959 1431.51 M109.959 1427.81 Q115.77 1427.81 118.825 1432.42 Q121.904 1437 121.904 1445.75 Q121.904 1454.48 118.825 1459.08 Q115.77 1463.67 109.959 1463.67 Q104.149 1463.67 101.071 1459.08 Q98.0151 1454.48 98.0151 1445.75 Q98.0151 1437 101.071 1432.42 Q104.149 1427.81 109.959 1427.81 Z\" fill=\"#000000\" fill-rule=\"evenodd\" fill-opacity=\"1\" /><path clip-path=\"url(#clip8300)\" d=\"M 0 0 M136.973 1431.51 Q133.362 1431.51 131.533 1435.08 Q129.728 1438.62 129.728 1445.75 Q129.728 1452.86 131.533 1456.42 Q133.362 1459.96 136.973 1459.96 Q140.607 1459.96 142.413 1456.42 Q144.242 1452.86 144.242 1445.75 Q144.242 1438.62 142.413 1435.08 Q140.607 1431.51 136.973 1431.51 M136.973 1427.81 Q142.783 1427.81 145.839 1432.42 Q148.918 1437 148.918 1445.75 Q148.918 1454.48 145.839 1459.08 Q142.783 1463.67 136.973 1463.67 Q131.163 1463.67 128.084 1459.08 Q125.029 1454.48 125.029 1445.75 Q125.029 1437 128.084 1432.42 Q131.163 1427.81 136.973 1427.81 Z\" fill=\"#000000\" fill-rule=\"evenodd\" fill-opacity=\"1\" /><path clip-path=\"url(#clip8300)\" d=\"M 0 0 M67.6217 1109.5 L75.2606 1109.5 L75.2606 1083.14 L66.9504 1084.8 L66.9504 1080.54 L75.2143 1078.88 L79.8902 1078.88 L79.8902 1109.5 L87.529 1109.5 L87.529 1113.44 L67.6217 1113.44 L67.6217 1109.5 Z\" fill=\"#000000\" fill-rule=\"evenodd\" fill-opacity=\"1\" /><path clip-path=\"url(#clip8300)\" d=\"M 0 0 M92.5984 1107.56 L97.4827 1107.56 L97.4827 1113.44 L92.5984 1113.44 L92.5984 1107.56 Z\" fill=\"#000000\" fill-rule=\"evenodd\" fill-opacity=\"1\" /><path clip-path=\"url(#clip8300)\" d=\"M 0 0 M106.58 1109.5 L122.899 1109.5 L122.899 1113.44 L100.955 1113.44 L100.955 1109.5 Q103.617 1106.75 108.2 1102.12 Q112.807 1097.47 113.987 1096.12 Q116.233 1093.6 117.112 1091.86 Q118.015 1090.1 118.015 1088.41 Q118.015 1085.66 116.071 1083.92 Q114.149 1082.19 111.047 1082.19 Q108.848 1082.19 106.395 1082.95 Q103.964 1083.72 101.186 1085.27 L101.186 1080.54 Q104.01 1079.41 106.464 1078.83 Q108.918 1078.25 110.955 1078.25 Q116.325 1078.25 119.52 1080.94 Q122.714 1083.62 122.714 1088.11 Q122.714 1090.24 121.904 1092.16 Q121.117 1094.06 119.01 1096.66 Q118.432 1097.33 115.33 1100.54 Q112.228 1103.74 106.58 1109.5 Z\" fill=\"#000000\" fill-rule=\"evenodd\" fill-opacity=\"1\" /><path clip-path=\"url(#clip8300)\" d=\"M 0 0 M128.015 1078.88 L146.371 1078.88 L146.371 1082.81 L132.297 1082.81 L132.297 1091.29 Q133.316 1090.94 134.334 1090.78 Q135.353 1090.59 136.371 1090.59 Q142.158 1090.59 145.538 1093.76 Q148.918 1096.93 148.918 1102.35 Q148.918 1107.93 145.445 1111.03 Q141.973 1114.11 135.654 1114.11 Q133.478 1114.11 131.209 1113.74 Q128.964 1113.37 126.557 1112.63 L126.557 1107.93 Q128.64 1109.06 130.862 1109.62 Q133.084 1110.17 135.561 1110.17 Q139.566 1110.17 141.904 1108.07 Q144.242 1105.96 144.242 1102.35 Q144.242 1098.74 141.904 1096.63 Q139.566 1094.53 135.561 1094.53 Q133.686 1094.53 131.811 1094.94 Q129.959 1095.36 128.015 1096.24 L128.015 1078.88 Z\" fill=\"#000000\" fill-rule=\"evenodd\" fill-opacity=\"1\" /><path clip-path=\"url(#clip8300)\" d=\"M 0 0 M66.0245 759.945 L73.6634 759.945 L73.6634 733.579 L65.3532 735.246 L65.3532 730.987 L73.6171 729.32 L78.293 729.32 L78.293 759.945 L85.9318 759.945 L85.9318 763.88 L66.0245 763.88 L66.0245 759.945 Z\" fill=\"#000000\" fill-rule=\"evenodd\" fill-opacity=\"1\" /><path clip-path=\"url(#clip8300)\" d=\"M 0 0 M91.0012 758.001 L95.8855 758.001 L95.8855 763.88 L91.0012 763.88 L91.0012 758.001 Z\" fill=\"#000000\" fill-rule=\"evenodd\" fill-opacity=\"1\" /><path clip-path=\"url(#clip8300)\" d=\"M 0 0 M101.001 729.32 L119.358 729.32 L119.358 733.255 L105.284 733.255 L105.284 741.727 Q106.302 741.38 107.321 741.218 Q108.339 741.033 109.358 741.033 Q115.145 741.033 118.524 744.204 Q121.904 747.376 121.904 752.792 Q121.904 758.371 118.432 761.473 Q114.959 764.551 108.64 764.551 Q106.464 764.551 104.196 764.181 Q101.95 763.811 99.5429 763.07 L99.5429 758.371 Q101.626 759.505 103.848 760.061 Q106.071 760.616 108.547 760.616 Q112.552 760.616 114.89 758.51 Q117.228 756.403 117.228 752.792 Q117.228 749.181 114.89 747.075 Q112.552 744.968 108.547 744.968 Q106.672 744.968 104.797 745.385 Q102.946 745.801 101.001 746.681 L101.001 729.32 Z\" fill=\"#000000\" fill-rule=\"evenodd\" fill-opacity=\"1\" /><path clip-path=\"url(#clip8300)\" d=\"M 0 0 M136.973 732.399 Q133.362 732.399 131.533 735.964 Q129.728 739.505 129.728 746.635 Q129.728 753.741 131.533 757.306 Q133.362 760.848 136.973 760.848 Q140.607 760.848 142.413 757.306 Q144.242 753.741 144.242 746.635 Q144.242 739.505 142.413 735.964 Q140.607 732.399 136.973 732.399 M136.973 728.695 Q142.783 728.695 145.839 733.302 Q148.918 737.885 148.918 746.635 Q148.918 755.362 145.839 759.968 Q142.783 764.551 136.973 764.551 Q131.163 764.551 128.084 759.968 Q125.029 755.362 125.029 746.635 Q125.029 737.885 128.084 733.302 Q131.163 728.695 136.973 728.695 Z\" fill=\"#000000\" fill-rule=\"evenodd\" fill-opacity=\"1\" /><path clip-path=\"url(#clip8300)\" d=\"M 0 0 M66.9273 410.387 L74.5661 410.387 L74.5661 384.022 L66.256 385.688 L66.256 381.429 L74.5198 379.762 L79.1957 379.762 L79.1957 410.387 L86.8346 410.387 L86.8346 414.322 L66.9273 414.322 L66.9273 410.387 Z\" fill=\"#000000\" fill-rule=\"evenodd\" fill-opacity=\"1\" /><path clip-path=\"url(#clip8300)\" d=\"M 0 0 M91.904 408.443 L96.7882 408.443 L96.7882 414.322 L91.904 414.322 L91.904 408.443 Z\" fill=\"#000000\" fill-rule=\"evenodd\" fill-opacity=\"1\" /><path clip-path=\"url(#clip8300)\" d=\"M 0 0 M100.677 379.762 L122.899 379.762 L122.899 381.753 L110.353 414.322 L105.469 414.322 L117.274 383.697 L100.677 383.697 L100.677 379.762 Z\" fill=\"#000000\" fill-rule=\"evenodd\" fill-opacity=\"1\" /><path clip-path=\"url(#clip8300)\" d=\"M 0 0 M128.015 379.762 L146.371 379.762 L146.371 383.697 L132.297 383.697 L132.297 392.17 Q133.316 391.822 134.334 391.66 Q135.353 391.475 136.371 391.475 Q142.158 391.475 145.538 394.646 Q148.918 397.818 148.918 403.234 Q148.918 408.813 145.445 411.915 Q141.973 414.994 135.654 414.994 Q133.478 414.994 131.209 414.623 Q128.964 414.253 126.557 413.512 L126.557 408.813 Q128.64 409.947 130.862 410.503 Q133.084 411.058 135.561 411.058 Q139.566 411.058 141.904 408.952 Q144.242 406.845 144.242 403.234 Q144.242 399.623 141.904 397.517 Q139.566 395.41 135.561 395.41 Q133.686 395.41 131.811 395.827 Q129.959 396.244 128.015 397.123 L128.015 379.762 Z\" fill=\"#000000\" fill-rule=\"evenodd\" fill-opacity=\"1\" /><path clip-path=\"url(#clip8300)\" d=\"M 0 0 M68.6171 60.8294 L84.9365 60.8294 L84.9365 64.7645 L62.9921 64.7645 L62.9921 60.8294 Q65.6541 58.0747 70.2375 53.4451 Q74.8439 48.7924 76.0245 47.4498 Q78.2698 44.9267 79.1494 43.1906 Q80.0522 41.4313 80.0522 39.7415 Q80.0522 36.9869 78.1078 35.2508 Q76.1865 33.5147 73.0847 33.5147 Q70.8856 33.5147 68.4319 34.2786 Q66.0014 35.0425 63.2236 36.5934 L63.2236 31.8712 Q66.0477 30.7369 68.5014 30.1582 Q70.955 29.5795 72.9921 29.5795 Q78.3624 29.5795 81.5568 32.2647 Q84.7513 34.9499 84.7513 39.4406 Q84.7513 41.5702 83.9411 43.4915 Q83.1541 45.3896 81.0476 47.9822 Q80.4689 48.6535 77.367 51.8711 Q74.2652 55.0655 68.6171 60.8294 Z\" fill=\"#000000\" fill-rule=\"evenodd\" fill-opacity=\"1\" /><path clip-path=\"url(#clip8300)\" d=\"M 0 0 M90.0059 58.8849 L94.8901 58.8849 L94.8901 64.7645 L90.0059 64.7645 L90.0059 58.8849 Z\" fill=\"#000000\" fill-rule=\"evenodd\" fill-opacity=\"1\" /><path clip-path=\"url(#clip8300)\" d=\"M 0 0 M109.959 33.2832 Q106.348 33.2832 104.52 36.848 Q102.714 40.3896 102.714 47.5192 Q102.714 54.6257 104.52 58.1905 Q106.348 61.7321 109.959 61.7321 Q113.594 61.7321 115.399 58.1905 Q117.228 54.6257 117.228 47.5192 Q117.228 40.3896 115.399 36.848 Q113.594 33.2832 109.959 33.2832 M109.959 29.5795 Q115.77 29.5795 118.825 34.186 Q121.904 38.7693 121.904 47.5192 Q121.904 56.246 118.825 60.8525 Q115.77 65.4358 109.959 65.4358 Q104.149 65.4358 101.071 60.8525 Q98.0151 56.246 98.0151 47.5192 Q98.0151 38.7693 101.071 34.186 Q104.149 29.5795 109.959 29.5795 Z\" fill=\"#000000\" fill-rule=\"evenodd\" fill-opacity=\"1\" /><path clip-path=\"url(#clip8300)\" d=\"M 0 0 M136.973 33.2832 Q133.362 33.2832 131.533 36.848 Q129.728 40.3896 129.728 47.5192 Q129.728 54.6257 131.533 58.1905 Q133.362 61.7321 136.973 61.7321 Q140.607 61.7321 142.413 58.1905 Q144.242 54.6257 144.242 47.5192 Q144.242 40.3896 142.413 36.848 Q140.607 33.2832 136.973 33.2832 M136.973 29.5795 Q142.783 29.5795 145.839 34.186 Q148.918 38.7693 148.918 47.5192 Q148.918 56.246 145.839 60.8525 Q142.783 65.4358 136.973 65.4358 Q131.163 65.4358 128.084 60.8525 Q125.029 56.246 125.029 47.5192 Q125.029 38.7693 128.084 34.186 Q131.163 29.5795 136.973 29.5795 Z\" fill=\"#000000\" fill-rule=\"evenodd\" fill-opacity=\"1\" /><polyline clip-path=\"url(#clip8302)\" style=\"stroke:#009af9; stroke-width:4; stroke-opacity:1; fill:none\" points=\"\n",
       "  234.611,1445.72 286.022,1445.72 337.434,1445.72 388.845,1445.72 440.256,1445.72 491.668,1445.72 543.079,1445.72 594.49,1445.72 645.901,1445.72 697.313,1445.72 \n",
       "  748.724,1445.72 800.135,1445.71 851.547,1445.7 902.958,1445.61 954.369,1445.08 1005.78,1442.87 1057.19,1435.49 1108.6,1415.45 1160.01,1370.38 1211.43,1285.25 \n",
       "  1262.84,1149.04 1314.25,963.299 1365.66,746.601 1417.07,529.914 1468.48,344.268 1519.89,208.584 1571.3,125.666 1622.72,87.9763 1674.13,87.9763 1725.54,125.666 \n",
       "  1776.95,208.584 1828.36,344.268 1879.77,529.914 1931.18,746.601 1982.59,963.299 2034.01,1149.04 2085.42,1285.25 2136.83,1370.38 2188.24,1415.45 2239.65,1435.49 \n",
       "  2291.06,1442.87 \n",
       "  \"/>\n",
       "<path clip-path=\"url(#clip8300)\" d=\"\n",
       "M1989.74 251.724 L2280.76 251.724 L2280.76 130.764 L1989.74 130.764  Z\n",
       "  \" fill=\"#ffffff\" fill-rule=\"evenodd\" fill-opacity=\"1\"/>\n",
       "<polyline clip-path=\"url(#clip8300)\" style=\"stroke:#000000; stroke-width:4; stroke-opacity:1; fill:none\" points=\"\n",
       "  1989.74,251.724 2280.76,251.724 2280.76,130.764 1989.74,130.764 1989.74,251.724 \n",
       "  \"/>\n",
       "<polyline clip-path=\"url(#clip8300)\" style=\"stroke:#009af9; stroke-width:4; stroke-opacity:1; fill:none\" points=\"\n",
       "  2013.74,191.244 2157.74,191.244 \n",
       "  \"/>\n",
       "<path clip-path=\"url(#clip8300)\" d=\"M 0 0 M2195.58 210.931 Q2193.77 215.561 2192.06 216.973 Q2190.35 218.385 2187.48 218.385 L2184.08 218.385 L2184.08 214.82 L2186.58 214.82 Q2188.33 214.82 2189.31 213.987 Q2190.28 213.154 2191.46 210.052 L2192.22 208.107 L2181.74 182.598 L2186.25 182.598 L2194.35 202.876 L2202.46 182.598 L2206.97 182.598 L2195.58 210.931 Z\" fill=\"#000000\" fill-rule=\"evenodd\" fill-opacity=\"1\" /><path clip-path=\"url(#clip8300)\" d=\"M 0 0 M2212.85 204.589 L2220.49 204.589 L2220.49 178.223 L2212.18 179.89 L2212.18 175.631 L2220.44 173.964 L2225.12 173.964 L2225.12 204.589 L2232.76 204.589 L2232.76 208.524 L2212.85 208.524 L2212.85 204.589 Z\" fill=\"#000000\" fill-rule=\"evenodd\" fill-opacity=\"1\" /></svg>\n"
      ]
     },
     "execution_count": 7,
     "metadata": {},
     "output_type": "execute_result"
    }
   ],
   "source": [
    "plot(x, uⁿ⁺¹)"
   ]
  },
  {
   "cell_type": "markdown",
   "metadata": {},
   "source": [
    "OK! So our hat function has definitely moved to the right, but it's no longer a hat.  **What's going on?**"
   ]
  },
  {
   "cell_type": "code",
   "execution_count": null,
   "metadata": {
    "collapsed": true
   },
   "outputs": [],
   "source": []
  }
 ],
 "metadata": {
  "anaconda-cloud": {},
  "kernelspec": {
   "display_name": "Julia 1.4.0",
   "language": "julia",
   "name": "julia-1.4"
  },
  "language_info": {
   "file_extension": ".jl",
   "mimetype": "application/julia",
   "name": "julia",
   "version": "1.4.0"
  }
 },
 "nbformat": 4,
 "nbformat_minor": 1
}

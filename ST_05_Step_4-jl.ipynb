{
 "cells": [
  {
   "cell_type": "markdown",
   "metadata": {},
   "source": [
    "This is a Julian fork of the 12 steps to Navier-Stokes (Python) [https://github.com/barbagroup/CFDPython] by Lorena A. Barba, Gilbert F. Forsyth . All content of that work is under Creative Commons Attribution CC-BY 4.0, and all python code is under BSD-3 clause. This work also derives from similar forks by Cysor [https://github.com/Cysor/CFDJulia] and by Wallace-dyfq [https://github.com/Wallace-dyfq/CFD-Julia-12-steps--o-Navier-Stokes-Equations]"
   ]
  },
  {
   "cell_type": "markdown",
   "metadata": {},
   "source": [
    "We continue our journey to solve the Navier-Stokes equation with Step 4. But don't continue unless you have completed the previous steps! In fact, this next step will be a combination of the two previous ones. The wonders of *code reuse*!"
   ]
  },
  {
   "cell_type": "markdown",
   "metadata": {},
   "source": [
    "Step 4: Burgers' Equation\n",
    "----\n",
    "***"
   ]
  },
  {
   "cell_type": "markdown",
   "metadata": {},
   "source": [
    "You can read about Burgers' Equation on its [wikipedia page](http://en.wikipedia.org/wiki/Burgers'_equation).\n",
    "\n",
    "Burgers' equation in one spatial dimension looks like this:\n",
    "\n",
    "$$\\frac{\\partial u}{\\partial t} + u \\frac{\\partial u}{\\partial x} = \\nu \\frac{\\partial ^2u}{\\partial x^2}$$\n",
    "\n",
    "As you can see, it is a combination of non-linear convection and diffusion. It is surprising how much you learn from this neat little equation! \n",
    "\n",
    "We can discretize it using the methods we've already detailed in Steps [1](http://nbviewer.ipython.org/urls/github.com/barbagroup/aCFDPython/blob/master/lessons/01_Step_1.ipynb) to [3](http://nbviewer.ipython.org/urls/github.com/barbagroup/CFDPython/blob/master/lessons/04_Step_3.ipynb).  Using forward difference for time, backward difference for space and our 2nd-order method for the second derivatives yields:\n",
    "\n",
    "$$\\frac{u_i^{n+1}-u_i^n}{\\Delta t} + u_i^n \\frac{u_i^n - u_{i-1}^n}{\\Delta x} = \\nu \\frac{u_{i+1}^n - 2u_i^n + u_{i-1}^n}{\\Delta x^2}$$\n",
    "\n",
    "As before, once we have an initial condition, the only unknown is $u_i^{n+1}$. We will step in time as follows:\n",
    "\n",
    "$$u_i^{n+1} = u_i^n - u_i^n \\frac{\\Delta t}{\\Delta x} (u_i^n - u_{i-1}^n) + \\nu \\frac{\\Delta t}{\\Delta x^2}(u_{i+1}^n - 2u_i^n + u_{i-1}^n)$$"
   ]
  },
  {
   "cell_type": "markdown",
   "metadata": {},
   "source": [
    "### Initial and Boundary Conditions\n",
    "\n",
    "To examine some interesting properties of Burgers' equation, it is helpful to use different initial and boundary conditions than we've been using for previous steps.  \n",
    "\n",
    "Our initial condition for this problem is going to be:\n",
    "\n",
    "\\begin{eqnarray}\n",
    "u &=& -\\frac{2 \\nu}{\\phi} \\frac{\\partial \\phi}{\\partial x} + 4 \\\\\\\n",
    "\\phi &=& \\exp \\bigg(\\frac{-x^2}{4 \\nu} \\bigg) + \\exp \\bigg(\\frac{-(x-2 \\pi)^2}{4 \\nu} \\bigg)\n",
    "\\end{eqnarray}\n",
    "\n",
    "This has an analytical solution, given by:\n",
    "\n",
    "\\begin{eqnarray}\n",
    "u &=& -\\frac{2 \\nu}{\\phi} \\frac{\\partial \\phi}{\\partial x} + 4 \\\\\\\n",
    "\\phi &=& \\exp \\bigg(\\frac{-(x-4t)^2}{4 \\nu (t+1)} \\bigg) + \\exp \\bigg(\\frac{-(x-4t -2 \\pi)^2}{4 \\nu(t+1)} \\bigg)\n",
    "\\end{eqnarray}\n",
    "\n",
    "Our boundary condition will be:\n",
    "\n",
    "$$u(0) = u(2\\pi)$$\n",
    "\n",
    "This is called a *periodic* boundary condition. Pay attention! This will cause you a bit of headache if you don't tread carefully."
   ]
  },
  {
   "cell_type": "markdown",
   "metadata": {},
   "source": [
    "### Saving Time with Reduce.jl\n",
    "\n",
    "REDUCE is a system for general algebraic computations of interest to mathematicians, scientists and engineers.\n",
    "\n",
    "It has a lot of the same symbolic math functionality as Mathematica with the added benefit that we can easily translate its results back into our Python calculations (it is also free and open source)."
   ]
  },
  {
   "cell_type": "code",
   "execution_count": 1,
   "metadata": {},
   "outputs": [
    {
     "name": "stderr",
     "output_type": "stream",
     "text": [
      "\u001b[32m\u001b[1m   Updating\u001b[22m\u001b[39m registry at `C:\\Users\\ST\\.julia\\registries\\General`"
     ]
    },
    {
     "name": "stdout",
     "output_type": "stream",
     "text": [
      "\u001b[?25l"
     ]
    },
    {
     "name": "stderr",
     "output_type": "stream",
     "text": [
      "\n",
      "\u001b[32m\u001b[1m   Updating\u001b[22m\u001b[39m git-repo `https://github.com/JuliaRegistries/General.git`\n"
     ]
    },
    {
     "name": "stdout",
     "output_type": "stream",
     "text": [
      "\u001b[2K\u001b[?25h"
     ]
    },
    {
     "name": "stderr",
     "output_type": "stream",
     "text": [
      "\u001b[32m\u001b[1m  Resolving\u001b[22m\u001b[39m package versions...\n",
      "\u001b[32m\u001b[1m   Updating\u001b[22m\u001b[39m `C:\\Users\\ST\\.julia\\environments\\v1.4\\Project.toml`\n",
      "\u001b[90m [no changes]\u001b[39m\n",
      "\u001b[32m\u001b[1m   Updating\u001b[22m\u001b[39m `C:\\Users\\ST\\.julia\\environments\\v1.4\\Manifest.toml`\n",
      "\u001b[90m [no changes]\u001b[39m\n"
     ]
    },
    {
     "name": "stdout",
     "output_type": "stream",
     "text": [
      "Reduce (Free CSL version, revision 5286), 01-Mar-20 ...\n"
     ]
    }
   ],
   "source": [
    "using Pkg\n",
    "Pkg.add(\"Reduce\")\n",
    "using Reduce"
   ]
  },
  {
   "cell_type": "markdown",
   "metadata": {},
   "source": [
    "Start by setting up symbolic variables for the three variables in our initial condition and then type out the full equation for $\\phi$. We should get a nicely rendered version of our $\\phi$ equation. It's maybe a little small, but that looks right. Now to evaluate our partial derivative $\\frac{\\partial \\phi}{\\partial x}$ is a trivial task."
   ]
  },
  {
   "cell_type": "code",
   "execution_count": 2,
   "metadata": {},
   "outputs": [
    {
     "data": {
      "text/plain": [
       ":(df(exp(-((x - 4t) ^ 2) / ((4ν) * (t + 1))) + exp(-(((x - 4t) - 2PI) ^ 2) / ((4ν) * (t + 1))), x))"
      ]
     },
     "execution_count": 2,
     "metadata": {},
     "output_type": "execute_result"
    }
   ],
   "source": [
    "ϕ  = :(exp( -(x-4t)^2 / (4ν*(t+1)) ) + exp( -(x-4t-2*PI)^2 / (4ν*(t+1)) ))\n",
    "ϕ′ = :(df($ϕ, x))"
   ]
  },
  {
   "cell_type": "markdown",
   "metadata": {},
   "source": [
    "If you want to see the result, simply pass the Julia expression to REDUCE via rcall and print the result."
   ]
  },
  {
   "cell_type": "code",
   "execution_count": 3,
   "metadata": {},
   "outputs": [
    {
     "name": "stdout",
     "output_type": "stream",
     "text": [
      "(((4 * ℯ ^ (((4t - x) + 2π) ^ 2 / (4 * (t + 1) * ν)) * t - ℯ ^ (((4t - x) + 2π) ^ 2 / (4 * (t + 1) * ν)) * x) + 2 * ℯ ^ ((4t - x) ^ 2 / (4 * (t + 1) * ν)) * π + 4 * ℯ ^ ((4t - x) ^ 2 / (4 * (t + 1) * ν)) * t) - ℯ ^ ((4t - x) ^ 2 / (4 * (t + 1) * ν)) * x) / (2 * ℯ ^ ((((4t - x) + 2π) ^ 2 + (4t - x) ^ 2) / (4 * (t + 1) * ν)) * (t + 1) * ν)"
     ]
    }
   ],
   "source": [
    "print(rcall(ϕ′))"
   ]
  },
  {
   "cell_type": "markdown",
   "metadata": {},
   "source": [
    "### Now what?\n",
    "\n",
    "Now that we have our derivative, we can finish writing out the full initial condition equation and then translate it into a usable Julia function."
   ]
  },
  {
   "cell_type": "code",
   "execution_count": 4,
   "metadata": {},
   "outputs": [
    {
     "data": {
      "text/plain": [
       ":(-2 * ν * (df(exp(-((x - 4t) ^ 2) / ((4ν) * (t + 1))) + exp(-(((x - 4t) - 2PI) ^ 2) / ((4ν) * (t + 1))), x) / (exp(-((x - 4t) ^ 2) / ((4ν) * (t + 1))) + exp(-(((x - 4t) - 2PI) ^ 2) / ((4ν) * (t + 1))))) + 4)"
      ]
     },
     "execution_count": 4,
     "metadata": {},
     "output_type": "execute_result"
    }
   ],
   "source": [
    "u  = :(-2 * ν * ($ϕ′/$ϕ) + 4)"
   ]
  },
  {
   "cell_type": "markdown",
   "metadata": {},
   "source": [
    "### Lambdify\n",
    "\n",
    "To lambdify this expression into a useable function it must first be passed to, and evaluated by REDUCE via rcall. An anonymous/lambda function can then be created to map the unknowns in the expression of u, to the value of u when evaluated with those unknowns."
   ]
  },
  {
   "cell_type": "code",
   "execution_count": 5,
   "metadata": {},
   "outputs": [
    {
     "data": {
      "text/plain": [
       "3.49170664206445"
      ]
     },
     "execution_count": 5,
     "metadata": {},
     "output_type": "execute_result"
    }
   ],
   "source": [
    "u = rcall(u)\n",
    "ufunc = @eval (t,x,ν) -> $u\n",
    "ufunc(1, 4, 3)"
   ]
  },
  {
   "cell_type": "markdown",
   "metadata": {},
   "source": [
    "### Back to Burgers' Equation\n",
    "\n",
    "Now that we have the initial conditions set up, we can proceed and finish setting up the problem.  We can generate the plot of the initial condition using our lambdify-ed function."
   ]
  },
  {
   "cell_type": "code",
   "execution_count": 6,
   "metadata": {},
   "outputs": [
    {
     "data": {
      "image/svg+xml": [
       "<?xml version=\"1.0\" encoding=\"utf-8\"?>\n",
       "<svg xmlns=\"http://www.w3.org/2000/svg\" xmlns:xlink=\"http://www.w3.org/1999/xlink\" width=\"600\" height=\"400\" viewBox=\"0 0 2400 1600\">\n",
       "<defs>\n",
       "  <clipPath id=\"clip1900\">\n",
       "    <rect x=\"0\" y=\"0\" width=\"2400\" height=\"1600\"/>\n",
       "  </clipPath>\n",
       "</defs>\n",
       "<path clip-path=\"url(#clip1900)\" d=\"\n",
       "M0 1600 L2400 1600 L2400 0 L0 0  Z\n",
       "  \" fill=\"#ffffff\" fill-rule=\"evenodd\" fill-opacity=\"1\"/>\n",
       "<defs>\n",
       "  <clipPath id=\"clip1901\">\n",
       "    <rect x=\"480\" y=\"0\" width=\"1681\" height=\"1600\"/>\n",
       "  </clipPath>\n",
       "</defs>\n",
       "<path clip-path=\"url(#clip1900)\" d=\"\n",
       "M112.177 1486.45 L2352.76 1486.45 L2352.76 47.2441 L112.177 47.2441  Z\n",
       "  \" fill=\"#ffffff\" fill-rule=\"evenodd\" fill-opacity=\"1\"/>\n",
       "<defs>\n",
       "  <clipPath id=\"clip1902\">\n",
       "    <rect x=\"112\" y=\"47\" width=\"2242\" height=\"1440\"/>\n",
       "  </clipPath>\n",
       "</defs>\n",
       "<polyline clip-path=\"url(#clip1902)\" style=\"stroke:#000000; stroke-width:2; stroke-opacity:0.1; fill:none\" points=\"\n",
       "  175.59,1486.45 175.59,47.2441 \n",
       "  \"/>\n",
       "<polyline clip-path=\"url(#clip1902)\" style=\"stroke:#000000; stroke-width:2; stroke-opacity:0.1; fill:none\" points=\"\n",
       "  512.004,1486.45 512.004,47.2441 \n",
       "  \"/>\n",
       "<polyline clip-path=\"url(#clip1902)\" style=\"stroke:#000000; stroke-width:2; stroke-opacity:0.1; fill:none\" points=\"\n",
       "  848.418,1486.45 848.418,47.2441 \n",
       "  \"/>\n",
       "<polyline clip-path=\"url(#clip1902)\" style=\"stroke:#000000; stroke-width:2; stroke-opacity:0.1; fill:none\" points=\"\n",
       "  1184.83,1486.45 1184.83,47.2441 \n",
       "  \"/>\n",
       "<polyline clip-path=\"url(#clip1902)\" style=\"stroke:#000000; stroke-width:2; stroke-opacity:0.1; fill:none\" points=\"\n",
       "  1521.25,1486.45 1521.25,47.2441 \n",
       "  \"/>\n",
       "<polyline clip-path=\"url(#clip1902)\" style=\"stroke:#000000; stroke-width:2; stroke-opacity:0.1; fill:none\" points=\"\n",
       "  1857.66,1486.45 1857.66,47.2441 \n",
       "  \"/>\n",
       "<polyline clip-path=\"url(#clip1902)\" style=\"stroke:#000000; stroke-width:2; stroke-opacity:0.1; fill:none\" points=\"\n",
       "  2194.08,1486.45 2194.08,47.2441 \n",
       "  \"/>\n",
       "<polyline clip-path=\"url(#clip1902)\" style=\"stroke:#000000; stroke-width:2; stroke-opacity:0.1; fill:none\" points=\"\n",
       "  112.177,1447.15 2352.76,1447.15 \n",
       "  \"/>\n",
       "<polyline clip-path=\"url(#clip1902)\" style=\"stroke:#000000; stroke-width:2; stroke-opacity:0.1; fill:none\" points=\"\n",
       "  112.177,1220.38 2352.76,1220.38 \n",
       "  \"/>\n",
       "<polyline clip-path=\"url(#clip1902)\" style=\"stroke:#000000; stroke-width:2; stroke-opacity:0.1; fill:none\" points=\"\n",
       "  112.177,993.614 2352.76,993.614 \n",
       "  \"/>\n",
       "<polyline clip-path=\"url(#clip1902)\" style=\"stroke:#000000; stroke-width:2; stroke-opacity:0.1; fill:none\" points=\"\n",
       "  112.177,766.846 2352.76,766.846 \n",
       "  \"/>\n",
       "<polyline clip-path=\"url(#clip1902)\" style=\"stroke:#000000; stroke-width:2; stroke-opacity:0.1; fill:none\" points=\"\n",
       "  112.177,540.078 2352.76,540.078 \n",
       "  \"/>\n",
       "<polyline clip-path=\"url(#clip1902)\" style=\"stroke:#000000; stroke-width:2; stroke-opacity:0.1; fill:none\" points=\"\n",
       "  112.177,313.311 2352.76,313.311 \n",
       "  \"/>\n",
       "<polyline clip-path=\"url(#clip1902)\" style=\"stroke:#000000; stroke-width:2; stroke-opacity:0.1; fill:none\" points=\"\n",
       "  112.177,86.543 2352.76,86.543 \n",
       "  \"/>\n",
       "<polyline clip-path=\"url(#clip1900)\" style=\"stroke:#000000; stroke-width:4; stroke-opacity:1; fill:none\" points=\"\n",
       "  112.177,1486.45 2352.76,1486.45 \n",
       "  \"/>\n",
       "<polyline clip-path=\"url(#clip1900)\" style=\"stroke:#000000; stroke-width:4; stroke-opacity:1; fill:none\" points=\"\n",
       "  112.177,1486.45 112.177,47.2441 \n",
       "  \"/>\n",
       "<polyline clip-path=\"url(#clip1900)\" style=\"stroke:#000000; stroke-width:4; stroke-opacity:1; fill:none\" points=\"\n",
       "  175.59,1486.45 175.59,1469.18 \n",
       "  \"/>\n",
       "<polyline clip-path=\"url(#clip1900)\" style=\"stroke:#000000; stroke-width:4; stroke-opacity:1; fill:none\" points=\"\n",
       "  512.004,1486.45 512.004,1469.18 \n",
       "  \"/>\n",
       "<polyline clip-path=\"url(#clip1900)\" style=\"stroke:#000000; stroke-width:4; stroke-opacity:1; fill:none\" points=\"\n",
       "  848.418,1486.45 848.418,1469.18 \n",
       "  \"/>\n",
       "<polyline clip-path=\"url(#clip1900)\" style=\"stroke:#000000; stroke-width:4; stroke-opacity:1; fill:none\" points=\"\n",
       "  1184.83,1486.45 1184.83,1469.18 \n",
       "  \"/>\n",
       "<polyline clip-path=\"url(#clip1900)\" style=\"stroke:#000000; stroke-width:4; stroke-opacity:1; fill:none\" points=\"\n",
       "  1521.25,1486.45 1521.25,1469.18 \n",
       "  \"/>\n",
       "<polyline clip-path=\"url(#clip1900)\" style=\"stroke:#000000; stroke-width:4; stroke-opacity:1; fill:none\" points=\"\n",
       "  1857.66,1486.45 1857.66,1469.18 \n",
       "  \"/>\n",
       "<polyline clip-path=\"url(#clip1900)\" style=\"stroke:#000000; stroke-width:4; stroke-opacity:1; fill:none\" points=\"\n",
       "  2194.08,1486.45 2194.08,1469.18 \n",
       "  \"/>\n",
       "<polyline clip-path=\"url(#clip1900)\" style=\"stroke:#000000; stroke-width:4; stroke-opacity:1; fill:none\" points=\"\n",
       "  112.177,1447.15 139.064,1447.15 \n",
       "  \"/>\n",
       "<polyline clip-path=\"url(#clip1900)\" style=\"stroke:#000000; stroke-width:4; stroke-opacity:1; fill:none\" points=\"\n",
       "  112.177,1220.38 139.064,1220.38 \n",
       "  \"/>\n",
       "<polyline clip-path=\"url(#clip1900)\" style=\"stroke:#000000; stroke-width:4; stroke-opacity:1; fill:none\" points=\"\n",
       "  112.177,993.614 139.064,993.614 \n",
       "  \"/>\n",
       "<polyline clip-path=\"url(#clip1900)\" style=\"stroke:#000000; stroke-width:4; stroke-opacity:1; fill:none\" points=\"\n",
       "  112.177,766.846 139.064,766.846 \n",
       "  \"/>\n",
       "<polyline clip-path=\"url(#clip1900)\" style=\"stroke:#000000; stroke-width:4; stroke-opacity:1; fill:none\" points=\"\n",
       "  112.177,540.078 139.064,540.078 \n",
       "  \"/>\n",
       "<polyline clip-path=\"url(#clip1900)\" style=\"stroke:#000000; stroke-width:4; stroke-opacity:1; fill:none\" points=\"\n",
       "  112.177,313.311 139.064,313.311 \n",
       "  \"/>\n",
       "<polyline clip-path=\"url(#clip1900)\" style=\"stroke:#000000; stroke-width:4; stroke-opacity:1; fill:none\" points=\"\n",
       "  112.177,86.543 139.064,86.543 \n",
       "  \"/>\n",
       "<path clip-path=\"url(#clip1900)\" d=\"M 0 0 M175.59 1508.44 Q171.979 1508.44 170.15 1512 Q168.344 1515.55 168.344 1522.67 Q168.344 1529.78 170.15 1533.35 Q171.979 1536.89 175.59 1536.89 Q179.224 1536.89 181.03 1533.35 Q182.858 1529.78 182.858 1522.67 Q182.858 1515.55 181.03 1512 Q179.224 1508.44 175.59 1508.44 M175.59 1504.73 Q181.4 1504.73 184.455 1509.34 Q187.534 1513.92 187.534 1522.67 Q187.534 1531.4 184.455 1536.01 Q181.4 1540.59 175.59 1540.59 Q169.78 1540.59 166.701 1536.01 Q163.645 1531.4 163.645 1522.67 Q163.645 1513.92 166.701 1509.34 Q169.78 1504.73 175.59 1504.73 Z\" fill=\"#000000\" fill-rule=\"evenodd\" fill-opacity=\"1\" /><path clip-path=\"url(#clip1900)\" d=\"M 0 0 M502.386 1535.98 L510.025 1535.98 L510.025 1509.62 L501.715 1511.29 L501.715 1507.03 L509.979 1505.36 L514.655 1505.36 L514.655 1535.98 L522.293 1535.98 L522.293 1539.92 L502.386 1539.92 L502.386 1535.98 Z\" fill=\"#000000\" fill-rule=\"evenodd\" fill-opacity=\"1\" /><path clip-path=\"url(#clip1900)\" d=\"M 0 0 M843.071 1535.98 L859.391 1535.98 L859.391 1539.92 L837.446 1539.92 L837.446 1535.98 Q840.108 1533.23 844.692 1528.6 Q849.298 1523.95 850.479 1522.61 Q852.724 1520.08 853.604 1518.35 Q854.506 1516.59 854.506 1514.9 Q854.506 1512.14 852.562 1510.41 Q850.641 1508.67 847.539 1508.67 Q845.34 1508.67 842.886 1509.43 Q840.456 1510.2 837.678 1511.75 L837.678 1507.03 Q840.502 1505.89 842.955 1505.31 Q845.409 1504.73 847.446 1504.73 Q852.817 1504.73 856.011 1507.42 Q859.205 1510.11 859.205 1514.6 Q859.205 1516.73 858.395 1518.65 Q857.608 1520.54 855.502 1523.14 Q854.923 1523.81 851.821 1527.03 Q848.719 1530.22 843.071 1535.98 Z\" fill=\"#000000\" fill-rule=\"evenodd\" fill-opacity=\"1\" /><path clip-path=\"url(#clip1900)\" d=\"M 0 0 M1189.08 1521.29 Q1192.44 1522 1194.31 1524.27 Q1196.21 1526.54 1196.21 1529.87 Q1196.21 1534.99 1192.69 1537.79 Q1189.17 1540.59 1182.69 1540.59 Q1180.52 1540.59 1178.2 1540.15 Q1175.91 1539.73 1173.46 1538.88 L1173.46 1534.36 Q1175.4 1535.5 1177.71 1536.08 Q1180.03 1536.66 1182.55 1536.66 Q1186.95 1536.66 1189.24 1534.92 Q1191.56 1533.18 1191.56 1529.87 Q1191.56 1526.82 1189.4 1525.11 Q1187.27 1523.37 1183.46 1523.37 L1179.43 1523.37 L1179.43 1519.53 L1183.64 1519.53 Q1187.09 1519.53 1188.92 1518.16 Q1190.75 1516.77 1190.75 1514.18 Q1190.75 1511.52 1188.85 1510.11 Q1186.97 1508.67 1183.46 1508.67 Q1181.53 1508.67 1179.34 1509.09 Q1177.14 1509.5 1174.5 1510.38 L1174.5 1506.22 Q1177.16 1505.48 1179.47 1505.11 Q1181.81 1504.73 1183.87 1504.73 Q1189.2 1504.73 1192.3 1507.17 Q1195.4 1509.57 1195.4 1513.69 Q1195.4 1516.56 1193.76 1518.55 Q1192.11 1520.52 1189.08 1521.29 Z\" fill=\"#000000\" fill-rule=\"evenodd\" fill-opacity=\"1\" /><path clip-path=\"url(#clip1900)\" d=\"M 0 0 M1524.26 1509.43 L1512.45 1527.88 L1524.26 1527.88 L1524.26 1509.43 M1523.03 1505.36 L1528.91 1505.36 L1528.91 1527.88 L1533.84 1527.88 L1533.84 1531.77 L1528.91 1531.77 L1528.91 1539.92 L1524.26 1539.92 L1524.26 1531.77 L1508.65 1531.77 L1508.65 1527.26 L1523.03 1505.36 Z\" fill=\"#000000\" fill-rule=\"evenodd\" fill-opacity=\"1\" /><path clip-path=\"url(#clip1900)\" d=\"M 0 0 M1847.94 1505.36 L1866.3 1505.36 L1866.3 1509.3 L1852.22 1509.3 L1852.22 1517.77 Q1853.24 1517.42 1854.26 1517.26 Q1855.28 1517.07 1856.3 1517.07 Q1862.08 1517.07 1865.46 1520.24 Q1868.84 1523.42 1868.84 1528.83 Q1868.84 1534.41 1865.37 1537.51 Q1861.9 1540.59 1855.58 1540.59 Q1853.4 1540.59 1851.13 1540.22 Q1848.89 1539.85 1846.48 1539.11 L1846.48 1534.41 Q1848.56 1535.54 1850.79 1536.1 Q1853.01 1536.66 1855.49 1536.66 Q1859.49 1536.66 1861.83 1534.55 Q1864.17 1532.44 1864.17 1528.83 Q1864.17 1525.22 1861.83 1523.11 Q1859.49 1521.01 1855.49 1521.01 Q1853.61 1521.01 1851.74 1521.42 Q1849.88 1521.84 1847.94 1522.72 L1847.94 1505.36 Z\" fill=\"#000000\" fill-rule=\"evenodd\" fill-opacity=\"1\" /><path clip-path=\"url(#clip1900)\" d=\"M 0 0 M2194.48 1520.78 Q2191.33 1520.78 2189.48 1522.93 Q2187.65 1525.08 2187.65 1528.83 Q2187.65 1532.56 2189.48 1534.73 Q2191.33 1536.89 2194.48 1536.89 Q2197.63 1536.89 2199.46 1534.73 Q2201.31 1532.56 2201.31 1528.83 Q2201.31 1525.08 2199.46 1522.93 Q2197.63 1520.78 2194.48 1520.78 M2203.76 1506.12 L2203.76 1510.38 Q2202 1509.55 2200.2 1509.11 Q2198.42 1508.67 2196.66 1508.67 Q2192.03 1508.67 2189.57 1511.8 Q2187.14 1514.92 2186.8 1521.24 Q2188.16 1519.23 2190.22 1518.16 Q2192.28 1517.07 2194.76 1517.07 Q2199.97 1517.07 2202.98 1520.24 Q2206.01 1523.39 2206.01 1528.83 Q2206.01 1534.16 2202.86 1537.37 Q2199.71 1540.59 2194.48 1540.59 Q2188.49 1540.59 2185.31 1536.01 Q2182.14 1531.4 2182.14 1522.67 Q2182.14 1514.48 2186.03 1509.62 Q2189.92 1504.73 2196.47 1504.73 Q2198.23 1504.73 2200.01 1505.08 Q2201.82 1505.43 2203.76 1506.12 Z\" fill=\"#000000\" fill-rule=\"evenodd\" fill-opacity=\"1\" /><path clip-path=\"url(#clip1900)\" d=\"M 0 0 M68.2699 1460.49 L75.9087 1460.49 L75.9087 1434.13 L67.5986 1435.79 L67.5986 1431.54 L75.8624 1429.87 L80.5383 1429.87 L80.5383 1460.49 L88.1772 1460.49 L88.1772 1464.43 L68.2699 1464.43 L68.2699 1460.49 Z\" fill=\"#000000\" fill-rule=\"evenodd\" fill-opacity=\"1\" /><path clip-path=\"url(#clip1900)\" d=\"M 0 0 M71.8578 1233.73 L88.1772 1233.73 L88.1772 1237.66 L66.2328 1237.66 L66.2328 1233.73 Q68.8949 1230.97 73.4782 1226.34 Q78.0846 1221.69 79.2652 1220.35 Q81.5105 1217.82 82.3902 1216.09 Q83.2929 1214.33 83.2929 1212.64 Q83.2929 1209.88 81.3485 1208.15 Q79.4272 1206.41 76.3254 1206.41 Q74.1263 1206.41 71.6726 1207.18 Q69.2421 1207.94 66.4643 1209.49 L66.4643 1204.77 Q69.2884 1203.63 71.7421 1203.05 Q74.1958 1202.48 76.2328 1202.48 Q81.6031 1202.48 84.7976 1205.16 Q87.992 1207.85 87.992 1212.34 Q87.992 1214.47 87.1818 1216.39 Q86.3948 1218.29 84.2883 1220.88 Q83.7096 1221.55 80.6078 1224.77 Q77.5059 1227.96 71.8578 1233.73 Z\" fill=\"#000000\" fill-rule=\"evenodd\" fill-opacity=\"1\" /><path clip-path=\"url(#clip1900)\" d=\"M 0 0 M81.0476 992.259 Q84.404 992.977 86.279 995.246 Q88.1772 997.514 88.1772 1000.85 Q88.1772 1005.96 84.6587 1008.76 Q81.1402 1011.56 74.6587 1011.56 Q72.4828 1011.56 70.168 1011.13 Q67.8764 1010.71 65.4227 1009.85 L65.4227 1005.34 Q67.3671 1006.47 69.6819 1007.05 Q71.9967 1007.63 74.5198 1007.63 Q78.918 1007.63 81.2096 1005.89 Q83.5244 1004.16 83.5244 1000.85 Q83.5244 997.792 81.3717 996.079 Q79.242 994.343 75.4226 994.343 L71.3949 994.343 L71.3949 990.5 L75.6078 990.5 Q79.0569 990.5 80.8855 989.134 Q82.7142 987.746 82.7142 985.153 Q82.7142 982.491 80.8161 981.079 Q78.9411 979.644 75.4226 979.644 Q73.5013 979.644 71.3023 980.06 Q69.1032 980.477 66.4643 981.357 L66.4643 977.19 Q69.1264 976.449 71.4412 976.079 Q73.7791 975.709 75.8393 975.709 Q81.1633 975.709 84.2652 978.139 Q87.367 980.547 87.367 984.667 Q87.367 987.537 85.7235 989.528 Q84.08 991.496 81.0476 992.259 Z\" fill=\"#000000\" fill-rule=\"evenodd\" fill-opacity=\"1\" /><path clip-path=\"url(#clip1900)\" d=\"M 0 0 M78.5939 753.64 L66.7884 772.089 L78.5939 772.089 L78.5939 753.64 M77.367 749.566 L83.2466 749.566 L83.2466 772.089 L88.1772 772.089 L88.1772 775.978 L83.2466 775.978 L83.2466 784.126 L78.5939 784.126 L78.5939 775.978 L62.9921 775.978 L62.9921 771.464 L77.367 749.566 Z\" fill=\"#000000\" fill-rule=\"evenodd\" fill-opacity=\"1\" /><path clip-path=\"url(#clip1900)\" d=\"M 0 0 M67.2745 522.798 L85.6309 522.798 L85.6309 526.733 L71.5569 526.733 L71.5569 535.206 Q72.5754 534.858 73.5939 534.696 Q74.6124 534.511 75.6309 534.511 Q81.418 534.511 84.7976 537.683 Q88.1772 540.854 88.1772 546.27 Q88.1772 551.849 84.705 554.951 Q81.2328 558.03 74.9134 558.03 Q72.7374 558.03 70.4689 557.659 Q68.2236 557.289 65.8162 556.548 L65.8162 551.849 Q67.8995 552.983 70.1217 553.539 Q72.3439 554.094 74.8208 554.094 Q78.8254 554.094 81.1633 551.988 Q83.5013 549.882 83.5013 546.27 Q83.5013 542.659 81.1633 540.553 Q78.8254 538.446 74.8208 538.446 Q72.9458 538.446 71.0708 538.863 Q69.2189 539.28 67.2745 540.159 L67.2745 522.798 Z\" fill=\"#000000\" fill-rule=\"evenodd\" fill-opacity=\"1\" /><path clip-path=\"url(#clip1900)\" d=\"M 0 0 M76.6495 311.447 Q73.5013 311.447 71.6495 313.6 Q69.8208 315.753 69.8208 319.503 Q69.8208 323.23 71.6495 325.406 Q73.5013 327.558 76.6495 327.558 Q79.7976 327.558 81.6263 325.406 Q83.4781 323.23 83.4781 319.503 Q83.4781 315.753 81.6263 313.6 Q79.7976 311.447 76.6495 311.447 M85.9318 296.795 L85.9318 301.054 Q84.1726 300.22 82.367 299.781 Q80.5846 299.341 78.8254 299.341 Q74.1958 299.341 71.7421 302.466 Q69.3115 305.591 68.9643 311.91 Q70.33 309.896 72.3902 308.832 Q74.4504 307.744 76.9272 307.744 Q82.1355 307.744 85.1448 310.915 Q88.1772 314.063 88.1772 319.503 Q88.1772 324.827 85.029 328.044 Q81.8809 331.262 76.6495 331.262 Q70.6541 331.262 67.4828 326.679 Q64.3116 322.072 64.3116 313.345 Q64.3116 305.151 68.2004 300.29 Q72.0893 295.406 78.6402 295.406 Q80.3994 295.406 82.1818 295.753 Q83.9874 296.1 85.9318 296.795 Z\" fill=\"#000000\" fill-rule=\"evenodd\" fill-opacity=\"1\" /><path clip-path=\"url(#clip1900)\" d=\"M 0 0 M65.9551 69.263 L88.1772 69.263 L88.1772 71.2538 L75.6309 103.823 L70.7467 103.823 L82.5522 73.1982 L65.9551 73.1982 L65.9551 69.263 Z\" fill=\"#000000\" fill-rule=\"evenodd\" fill-opacity=\"1\" /><polyline clip-path=\"url(#clip1902)\" style=\"stroke:#009af9; stroke-width:4; stroke-opacity:1; fill:none\" points=\"\n",
       "  175.59,766.846 182.636,762.097 189.681,757.347 196.727,752.598 203.773,747.848 210.819,743.099 217.865,738.35 224.911,733.6 231.957,728.851 239.002,724.101 \n",
       "  246.048,719.352 253.094,714.602 260.14,709.853 267.186,705.104 274.232,700.354 281.277,695.605 288.323,690.855 295.369,686.106 302.415,681.357 309.461,676.607 \n",
       "  316.507,671.858 323.553,667.108 330.598,662.359 337.644,657.61 344.69,652.86 351.736,648.111 358.782,643.361 365.828,638.612 372.873,633.862 379.919,629.113 \n",
       "  386.965,624.364 394.011,619.614 401.057,614.865 408.103,610.115 415.149,605.366 422.194,600.617 429.24,595.867 436.286,591.118 443.332,586.368 450.378,581.619 \n",
       "  457.424,576.87 464.469,572.12 471.515,567.371 478.561,562.621 485.607,557.872 492.653,553.123 499.699,548.373 506.744,543.624 513.79,538.874 520.836,534.125 \n",
       "  527.882,529.375 534.928,524.626 541.974,519.877 549.02,515.127 556.065,510.378 563.111,505.628 570.157,500.879 577.203,496.13 584.249,491.38 591.295,486.631 \n",
       "  598.34,481.881 605.386,477.132 612.432,472.383 619.478,467.633 626.524,462.884 633.57,458.134 640.616,453.385 647.661,448.635 654.707,443.886 661.753,439.137 \n",
       "  668.799,434.387 675.845,429.638 682.891,424.888 689.936,420.139 696.982,415.39 704.028,410.64 711.074,405.891 718.12,401.141 725.166,396.392 732.212,391.643 \n",
       "  739.257,386.893 746.303,382.144 753.349,377.394 760.395,372.645 767.441,367.895 774.487,363.146 781.532,358.397 788.578,353.647 795.624,348.898 802.67,344.148 \n",
       "  809.716,339.399 816.762,334.65 823.808,329.9 830.853,325.151 837.899,320.401 844.945,315.652 851.991,310.903 859.037,306.153 866.083,301.404 873.128,296.654 \n",
       "  880.174,291.905 887.22,287.156 894.266,282.406 901.312,277.657 908.358,272.907 915.404,268.158 922.449,263.408 929.495,258.659 936.541,253.91 943.587,249.16 \n",
       "  950.633,244.411 957.679,239.661 964.724,234.912 971.77,230.163 978.816,225.413 985.862,220.664 992.908,215.914 999.954,211.165 1007,206.416 1014.05,201.666 \n",
       "  1021.09,196.917 1028.14,192.167 1035.18,187.418 1042.23,182.668 1049.27,177.919 1056.32,173.17 1063.37,168.42 1070.41,163.671 1077.46,158.921 1084.5,154.172 \n",
       "  1091.55,149.423 1098.6,144.673 1105.64,139.924 1112.69,135.175 1119.73,130.425 1126.78,125.677 1133.82,120.929 1140.87,116.184 1147.92,111.445 1154.96,106.724 \n",
       "  1162.01,102.046 1169.05,97.4809 1176.1,93.2019 1183.15,89.6555 1190.19,87.9763 1197.24,91.0262 1204.28,105.857 1211.33,148.842 1218.37,252.576 1225.42,459.428 \n",
       "  1232.47,766.846 1239.51,1074.26 1246.56,1281.12 1253.6,1384.85 1260.65,1427.83 1267.7,1442.67 1274.74,1445.72 1281.79,1444.04 1288.83,1440.49 1295.88,1436.21 \n",
       "  1302.92,1431.65 1309.97,1426.97 1317.02,1422.25 1324.06,1417.51 1331.11,1412.76 1338.15,1408.02 1345.2,1403.27 1352.25,1398.52 1359.29,1393.77 1366.34,1389.02 \n",
       "  1373.38,1384.27 1380.43,1379.52 1387.48,1374.77 1394.52,1370.02 1401.57,1365.27 1408.61,1360.52 1415.66,1355.77 1422.7,1351.02 1429.75,1346.27 1436.8,1341.52 \n",
       "  1443.84,1336.78 1450.89,1332.03 1457.93,1327.28 1464.98,1322.53 1472.03,1317.78 1479.07,1313.03 1486.12,1308.28 1493.16,1303.53 1500.21,1298.78 1507.25,1294.03 \n",
       "  1514.3,1289.28 1521.35,1284.53 1528.39,1279.78 1535.44,1275.03 1542.48,1270.28 1549.53,1265.53 1556.58,1260.78 1563.62,1256.04 1570.67,1251.29 1577.71,1246.54 \n",
       "  1584.76,1241.79 1591.8,1237.04 1598.85,1232.29 1605.9,1227.54 1612.94,1222.79 1619.99,1218.04 1627.03,1213.29 1634.08,1208.54 1641.13,1203.79 1648.17,1199.04 \n",
       "  1655.22,1194.29 1662.26,1189.54 1669.31,1184.79 1676.35,1180.04 1683.4,1175.3 1690.45,1170.55 1697.49,1165.8 1704.54,1161.05 1711.58,1156.3 1718.63,1151.55 \n",
       "  1725.68,1146.8 1732.72,1142.05 1739.77,1137.3 1746.81,1132.55 1753.86,1127.8 1760.9,1123.05 1767.95,1118.3 1775,1113.55 1782.04,1108.8 1789.09,1104.05 \n",
       "  1796.13,1099.3 1803.18,1094.56 1810.23,1089.81 1817.27,1085.06 1824.32,1080.31 1831.36,1075.56 1838.41,1070.81 1845.46,1066.06 1852.5,1061.31 1859.55,1056.56 \n",
       "  1866.59,1051.81 1873.64,1047.06 1880.68,1042.31 1887.73,1037.56 1894.78,1032.81 1901.82,1028.06 1908.87,1023.31 1915.91,1018.56 1922.96,1013.82 1930.01,1009.07 \n",
       "  1937.05,1004.32 1944.1,999.567 1951.14,994.818 1958.19,990.068 1965.23,985.319 1972.28,980.569 1979.33,975.82 1986.37,971.071 1993.42,966.321 2000.46,961.572 \n",
       "  2007.51,956.822 2014.56,952.073 2021.6,947.324 2028.65,942.574 2035.69,937.825 2042.74,933.075 2049.78,928.326 2056.83,923.577 2063.88,918.827 2070.92,914.078 \n",
       "  2077.97,909.328 2085.01,904.579 2092.06,899.829 2099.11,895.08 2106.15,890.331 2113.2,885.581 2120.24,880.832 2127.29,876.082 2134.33,871.333 2141.38,866.584 \n",
       "  2148.43,861.834 2155.47,857.085 2162.52,852.335 2169.56,847.586 2176.61,842.837 2183.66,838.087 2190.7,833.338 2197.75,828.588 2204.79,823.839 2211.84,819.09 \n",
       "  2218.88,814.34 2225.93,809.591 2232.98,804.841 2240.02,800.092 2247.07,795.342 2254.11,790.593 2261.16,785.844 2268.21,781.094 2275.25,776.345 2282.3,771.595 \n",
       "  2289.34,766.846 \n",
       "  \"/>\n",
       "<path clip-path=\"url(#clip1900)\" d=\"\n",
       "M1989.74 251.724 L2280.76 251.724 L2280.76 130.764 L1989.74 130.764  Z\n",
       "  \" fill=\"#ffffff\" fill-rule=\"evenodd\" fill-opacity=\"1\"/>\n",
       "<polyline clip-path=\"url(#clip1900)\" style=\"stroke:#000000; stroke-width:4; stroke-opacity:1; fill:none\" points=\"\n",
       "  1989.74,251.724 2280.76,251.724 2280.76,130.764 1989.74,130.764 1989.74,251.724 \n",
       "  \"/>\n",
       "<polyline clip-path=\"url(#clip1900)\" style=\"stroke:#009af9; stroke-width:4; stroke-opacity:1; fill:none\" points=\"\n",
       "  2013.74,191.244 2157.74,191.244 \n",
       "  \"/>\n",
       "<path clip-path=\"url(#clip1900)\" d=\"M 0 0 M2195.58 210.931 Q2193.77 215.561 2192.06 216.973 Q2190.35 218.385 2187.48 218.385 L2184.08 218.385 L2184.08 214.82 L2186.58 214.82 Q2188.33 214.82 2189.31 213.987 Q2190.28 213.154 2191.46 210.052 L2192.22 208.107 L2181.74 182.598 L2186.25 182.598 L2194.35 202.876 L2202.46 182.598 L2206.97 182.598 L2195.58 210.931 Z\" fill=\"#000000\" fill-rule=\"evenodd\" fill-opacity=\"1\" /><path clip-path=\"url(#clip1900)\" d=\"M 0 0 M2212.85 204.589 L2220.49 204.589 L2220.49 178.223 L2212.18 179.89 L2212.18 175.631 L2220.44 173.964 L2225.12 173.964 L2225.12 204.589 L2232.76 204.589 L2232.76 208.524 L2212.85 208.524 L2212.85 204.589 Z\" fill=\"#000000\" fill-rule=\"evenodd\" fill-opacity=\"1\" /></svg>\n"
      ]
     },
     "execution_count": 6,
     "metadata": {},
     "output_type": "execute_result"
    }
   ],
   "source": [
    "using Plots\n",
    "\n",
    "# Equation Constants\n",
    "ν = 0.07\n",
    "t₀ = 0\n",
    "\n",
    "# Spatial \n",
    "nx = 301\n",
    "Δx = 2π/(nx-1)\n",
    "x = range(0, stop=2*π, length=nx)\n",
    "\n",
    "# Time\n",
    "nt = 100 \n",
    "Δt = Δx*ν\n",
    "\n",
    "# Inital Conditions\n",
    "u₀ = [ufunc(t₀,x₀,ν) for x₀ in x]\n",
    "\n",
    "plot(x,u₀)\n",
    "    "
   ]
  },
  {
   "cell_type": "markdown",
   "metadata": {},
   "source": [
    "This is definitely not the hat function we've been dealing with until now. We call it a \"saw-tooth function\".  Let's proceed forward and see what happens.  "
   ]
  },
  {
   "cell_type": "markdown",
   "metadata": {},
   "source": [
    "### Periodic Boundary Conditions\n",
    "\n",
    "One of the big differences between Step 4 and the previous lessons is the use of *periodic* boundary conditions.  If you experiment with Steps 1 and 2 and make the simulation run longer (by increasing `nt`) you will notice that the wave will keep moving to the right until it no longer even shows up in the plot.  \n",
    "\n",
    "With periodic boundary conditions, when a point gets to the right-hand side of the frame, it *wraps around* back to the front of the frame.  \n",
    "\n",
    "Recall the discretization that we worked out at the beginning of this notebook:\n",
    "\n",
    "$$u_i^{n+1} = u_i^n - u_i^n \\frac{\\Delta t}{\\Delta x} (u_i^n - u_{i-1}^n) + \\nu \\frac{\\Delta t}{\\Delta x^2}(u_{i+1}^n - 2u_i^n + u_{i-1}^n)$$\n",
    "\n",
    "What does $u_{i+1}^n$ *mean* when $i$ is already at the end of the frame?\n",
    "\n",
    "Think about this for a minute before proceeding.  \n",
    "\n"
   ]
  },
  {
   "cell_type": "code",
   "execution_count": 8,
   "metadata": {},
   "outputs": [],
   "source": [
    "uⁿ⁺¹ = similar(u₀)\n",
    "uⁿ⁺¹ .= u₀\n",
    "\n",
    "uⁿ = similar(u₀)\n",
    "\n",
    "for n in 1:nt\n",
    "    uⁿ .= uⁿ⁺¹\n",
    "    for i in 2:nx-1\n",
    "        uⁿ⁺¹[i]  = uⁿ[i] - uⁿ[i]* Δt/Δx * (uⁿ[i] - uⁿ[i-1]) + ν * Δt/Δx^2 * (uⁿ[i+1] - 2*uⁿ[i] + uⁿ[i-1])\n",
    "    end\n",
    "    uⁿ⁺¹[1]  = uⁿ[1] - uⁿ[1]* Δt/Δx * (uⁿ[1] - uⁿ[end-1]) + ν * Δt/Δx^2 * (uⁿ[2] - 2*uⁿ[1] + uⁿ[end-1])\n",
    "    uⁿ⁺¹[end] = uⁿ⁺¹[1]\n",
    "\n",
    "end\n",
    "\n",
    "u_numerical  = uⁿ⁺¹\n",
    "u_analytical = [ufunc(nt*Δt, xᵢ, ν) for xᵢ in x];"
   ]
  },
  {
   "cell_type": "code",
   "execution_count": 9,
   "metadata": {},
   "outputs": [
    {
     "data": {
      "image/svg+xml": [
       "<?xml version=\"1.0\" encoding=\"utf-8\"?>\n",
       "<svg xmlns=\"http://www.w3.org/2000/svg\" xmlns:xlink=\"http://www.w3.org/1999/xlink\" width=\"600\" height=\"400\" viewBox=\"0 0 2400 1600\">\n",
       "<defs>\n",
       "  <clipPath id=\"clip2300\">\n",
       "    <rect x=\"0\" y=\"0\" width=\"2400\" height=\"1600\"/>\n",
       "  </clipPath>\n",
       "</defs>\n",
       "<path clip-path=\"url(#clip2300)\" d=\"\n",
       "M0 1600 L2400 1600 L2400 0 L0 0  Z\n",
       "  \" fill=\"#ffffff\" fill-rule=\"evenodd\" fill-opacity=\"1\"/>\n",
       "<defs>\n",
       "  <clipPath id=\"clip2301\">\n",
       "    <rect x=\"480\" y=\"0\" width=\"1681\" height=\"1600\"/>\n",
       "  </clipPath>\n",
       "</defs>\n",
       "<path clip-path=\"url(#clip2300)\" d=\"\n",
       "M112.177 1486.45 L2352.76 1486.45 L2352.76 47.2441 L112.177 47.2441  Z\n",
       "  \" fill=\"#ffffff\" fill-rule=\"evenodd\" fill-opacity=\"1\"/>\n",
       "<defs>\n",
       "  <clipPath id=\"clip2302\">\n",
       "    <rect x=\"112\" y=\"47\" width=\"2242\" height=\"1440\"/>\n",
       "  </clipPath>\n",
       "</defs>\n",
       "<polyline clip-path=\"url(#clip2302)\" style=\"stroke:#000000; stroke-width:2; stroke-opacity:0.1; fill:none\" points=\"\n",
       "  175.59,1486.45 175.59,47.2441 \n",
       "  \"/>\n",
       "<polyline clip-path=\"url(#clip2302)\" style=\"stroke:#000000; stroke-width:2; stroke-opacity:0.1; fill:none\" points=\"\n",
       "  512.004,1486.45 512.004,47.2441 \n",
       "  \"/>\n",
       "<polyline clip-path=\"url(#clip2302)\" style=\"stroke:#000000; stroke-width:2; stroke-opacity:0.1; fill:none\" points=\"\n",
       "  848.418,1486.45 848.418,47.2441 \n",
       "  \"/>\n",
       "<polyline clip-path=\"url(#clip2302)\" style=\"stroke:#000000; stroke-width:2; stroke-opacity:0.1; fill:none\" points=\"\n",
       "  1184.83,1486.45 1184.83,47.2441 \n",
       "  \"/>\n",
       "<polyline clip-path=\"url(#clip2302)\" style=\"stroke:#000000; stroke-width:2; stroke-opacity:0.1; fill:none\" points=\"\n",
       "  1521.25,1486.45 1521.25,47.2441 \n",
       "  \"/>\n",
       "<polyline clip-path=\"url(#clip2302)\" style=\"stroke:#000000; stroke-width:2; stroke-opacity:0.1; fill:none\" points=\"\n",
       "  1857.66,1486.45 1857.66,47.2441 \n",
       "  \"/>\n",
       "<polyline clip-path=\"url(#clip2302)\" style=\"stroke:#000000; stroke-width:2; stroke-opacity:0.1; fill:none\" points=\"\n",
       "  2194.08,1486.45 2194.08,47.2441 \n",
       "  \"/>\n",
       "<polyline clip-path=\"url(#clip2302)\" style=\"stroke:#000000; stroke-width:2; stroke-opacity:0.1; fill:none\" points=\"\n",
       "  112.177,1287.92 2352.76,1287.92 \n",
       "  \"/>\n",
       "<polyline clip-path=\"url(#clip2302)\" style=\"stroke:#000000; stroke-width:2; stroke-opacity:0.1; fill:none\" points=\"\n",
       "  112.177,1026.74 2352.76,1026.74 \n",
       "  \"/>\n",
       "<polyline clip-path=\"url(#clip2302)\" style=\"stroke:#000000; stroke-width:2; stroke-opacity:0.1; fill:none\" points=\"\n",
       "  112.177,765.573 2352.76,765.573 \n",
       "  \"/>\n",
       "<polyline clip-path=\"url(#clip2302)\" style=\"stroke:#000000; stroke-width:2; stroke-opacity:0.1; fill:none\" points=\"\n",
       "  112.177,504.402 2352.76,504.402 \n",
       "  \"/>\n",
       "<polyline clip-path=\"url(#clip2302)\" style=\"stroke:#000000; stroke-width:2; stroke-opacity:0.1; fill:none\" points=\"\n",
       "  112.177,243.23 2352.76,243.23 \n",
       "  \"/>\n",
       "<polyline clip-path=\"url(#clip2300)\" style=\"stroke:#000000; stroke-width:4; stroke-opacity:1; fill:none\" points=\"\n",
       "  112.177,1486.45 2352.76,1486.45 \n",
       "  \"/>\n",
       "<polyline clip-path=\"url(#clip2300)\" style=\"stroke:#000000; stroke-width:4; stroke-opacity:1; fill:none\" points=\"\n",
       "  112.177,1486.45 112.177,47.2441 \n",
       "  \"/>\n",
       "<polyline clip-path=\"url(#clip2300)\" style=\"stroke:#000000; stroke-width:4; stroke-opacity:1; fill:none\" points=\"\n",
       "  175.59,1486.45 175.59,1469.18 \n",
       "  \"/>\n",
       "<polyline clip-path=\"url(#clip2300)\" style=\"stroke:#000000; stroke-width:4; stroke-opacity:1; fill:none\" points=\"\n",
       "  512.004,1486.45 512.004,1469.18 \n",
       "  \"/>\n",
       "<polyline clip-path=\"url(#clip2300)\" style=\"stroke:#000000; stroke-width:4; stroke-opacity:1; fill:none\" points=\"\n",
       "  848.418,1486.45 848.418,1469.18 \n",
       "  \"/>\n",
       "<polyline clip-path=\"url(#clip2300)\" style=\"stroke:#000000; stroke-width:4; stroke-opacity:1; fill:none\" points=\"\n",
       "  1184.83,1486.45 1184.83,1469.18 \n",
       "  \"/>\n",
       "<polyline clip-path=\"url(#clip2300)\" style=\"stroke:#000000; stroke-width:4; stroke-opacity:1; fill:none\" points=\"\n",
       "  1521.25,1486.45 1521.25,1469.18 \n",
       "  \"/>\n",
       "<polyline clip-path=\"url(#clip2300)\" style=\"stroke:#000000; stroke-width:4; stroke-opacity:1; fill:none\" points=\"\n",
       "  1857.66,1486.45 1857.66,1469.18 \n",
       "  \"/>\n",
       "<polyline clip-path=\"url(#clip2300)\" style=\"stroke:#000000; stroke-width:4; stroke-opacity:1; fill:none\" points=\"\n",
       "  2194.08,1486.45 2194.08,1469.18 \n",
       "  \"/>\n",
       "<polyline clip-path=\"url(#clip2300)\" style=\"stroke:#000000; stroke-width:4; stroke-opacity:1; fill:none\" points=\"\n",
       "  112.177,1287.92 139.064,1287.92 \n",
       "  \"/>\n",
       "<polyline clip-path=\"url(#clip2300)\" style=\"stroke:#000000; stroke-width:4; stroke-opacity:1; fill:none\" points=\"\n",
       "  112.177,1026.74 139.064,1026.74 \n",
       "  \"/>\n",
       "<polyline clip-path=\"url(#clip2300)\" style=\"stroke:#000000; stroke-width:4; stroke-opacity:1; fill:none\" points=\"\n",
       "  112.177,765.573 139.064,765.573 \n",
       "  \"/>\n",
       "<polyline clip-path=\"url(#clip2300)\" style=\"stroke:#000000; stroke-width:4; stroke-opacity:1; fill:none\" points=\"\n",
       "  112.177,504.402 139.064,504.402 \n",
       "  \"/>\n",
       "<polyline clip-path=\"url(#clip2300)\" style=\"stroke:#000000; stroke-width:4; stroke-opacity:1; fill:none\" points=\"\n",
       "  112.177,243.23 139.064,243.23 \n",
       "  \"/>\n",
       "<path clip-path=\"url(#clip2300)\" d=\"M 0 0 M175.59 1508.44 Q171.979 1508.44 170.15 1512 Q168.344 1515.55 168.344 1522.67 Q168.344 1529.78 170.15 1533.35 Q171.979 1536.89 175.59 1536.89 Q179.224 1536.89 181.03 1533.35 Q182.858 1529.78 182.858 1522.67 Q182.858 1515.55 181.03 1512 Q179.224 1508.44 175.59 1508.44 M175.59 1504.73 Q181.4 1504.73 184.455 1509.34 Q187.534 1513.92 187.534 1522.67 Q187.534 1531.4 184.455 1536.01 Q181.4 1540.59 175.59 1540.59 Q169.78 1540.59 166.701 1536.01 Q163.645 1531.4 163.645 1522.67 Q163.645 1513.92 166.701 1509.34 Q169.78 1504.73 175.59 1504.73 Z\" fill=\"#000000\" fill-rule=\"evenodd\" fill-opacity=\"1\" /><path clip-path=\"url(#clip2300)\" d=\"M 0 0 M502.386 1535.98 L510.025 1535.98 L510.025 1509.62 L501.715 1511.29 L501.715 1507.03 L509.979 1505.36 L514.655 1505.36 L514.655 1535.98 L522.293 1535.98 L522.293 1539.92 L502.386 1539.92 L502.386 1535.98 Z\" fill=\"#000000\" fill-rule=\"evenodd\" fill-opacity=\"1\" /><path clip-path=\"url(#clip2300)\" d=\"M 0 0 M843.071 1535.98 L859.391 1535.98 L859.391 1539.92 L837.446 1539.92 L837.446 1535.98 Q840.108 1533.23 844.692 1528.6 Q849.298 1523.95 850.479 1522.61 Q852.724 1520.08 853.604 1518.35 Q854.506 1516.59 854.506 1514.9 Q854.506 1512.14 852.562 1510.41 Q850.641 1508.67 847.539 1508.67 Q845.34 1508.67 842.886 1509.43 Q840.456 1510.2 837.678 1511.75 L837.678 1507.03 Q840.502 1505.89 842.955 1505.31 Q845.409 1504.73 847.446 1504.73 Q852.817 1504.73 856.011 1507.42 Q859.205 1510.11 859.205 1514.6 Q859.205 1516.73 858.395 1518.65 Q857.608 1520.54 855.502 1523.14 Q854.923 1523.81 851.821 1527.03 Q848.719 1530.22 843.071 1535.98 Z\" fill=\"#000000\" fill-rule=\"evenodd\" fill-opacity=\"1\" /><path clip-path=\"url(#clip2300)\" d=\"M 0 0 M1189.08 1521.29 Q1192.44 1522 1194.31 1524.27 Q1196.21 1526.54 1196.21 1529.87 Q1196.21 1534.99 1192.69 1537.79 Q1189.17 1540.59 1182.69 1540.59 Q1180.52 1540.59 1178.2 1540.15 Q1175.91 1539.73 1173.46 1538.88 L1173.46 1534.36 Q1175.4 1535.5 1177.71 1536.08 Q1180.03 1536.66 1182.55 1536.66 Q1186.95 1536.66 1189.24 1534.92 Q1191.56 1533.18 1191.56 1529.87 Q1191.56 1526.82 1189.4 1525.11 Q1187.27 1523.37 1183.46 1523.37 L1179.43 1523.37 L1179.43 1519.53 L1183.64 1519.53 Q1187.09 1519.53 1188.92 1518.16 Q1190.75 1516.77 1190.75 1514.18 Q1190.75 1511.52 1188.85 1510.11 Q1186.97 1508.67 1183.46 1508.67 Q1181.53 1508.67 1179.34 1509.09 Q1177.14 1509.5 1174.5 1510.38 L1174.5 1506.22 Q1177.16 1505.48 1179.47 1505.11 Q1181.81 1504.73 1183.87 1504.73 Q1189.2 1504.73 1192.3 1507.17 Q1195.4 1509.57 1195.4 1513.69 Q1195.4 1516.56 1193.76 1518.55 Q1192.11 1520.52 1189.08 1521.29 Z\" fill=\"#000000\" fill-rule=\"evenodd\" fill-opacity=\"1\" /><path clip-path=\"url(#clip2300)\" d=\"M 0 0 M1524.26 1509.43 L1512.45 1527.88 L1524.26 1527.88 L1524.26 1509.43 M1523.03 1505.36 L1528.91 1505.36 L1528.91 1527.88 L1533.84 1527.88 L1533.84 1531.77 L1528.91 1531.77 L1528.91 1539.92 L1524.26 1539.92 L1524.26 1531.77 L1508.65 1531.77 L1508.65 1527.26 L1523.03 1505.36 Z\" fill=\"#000000\" fill-rule=\"evenodd\" fill-opacity=\"1\" /><path clip-path=\"url(#clip2300)\" d=\"M 0 0 M1847.94 1505.36 L1866.3 1505.36 L1866.3 1509.3 L1852.22 1509.3 L1852.22 1517.77 Q1853.24 1517.42 1854.26 1517.26 Q1855.28 1517.07 1856.3 1517.07 Q1862.08 1517.07 1865.46 1520.24 Q1868.84 1523.42 1868.84 1528.83 Q1868.84 1534.41 1865.37 1537.51 Q1861.9 1540.59 1855.58 1540.59 Q1853.4 1540.59 1851.13 1540.22 Q1848.89 1539.85 1846.48 1539.11 L1846.48 1534.41 Q1848.56 1535.54 1850.79 1536.1 Q1853.01 1536.66 1855.49 1536.66 Q1859.49 1536.66 1861.83 1534.55 Q1864.17 1532.44 1864.17 1528.83 Q1864.17 1525.22 1861.83 1523.11 Q1859.49 1521.01 1855.49 1521.01 Q1853.61 1521.01 1851.74 1521.42 Q1849.88 1521.84 1847.94 1522.72 L1847.94 1505.36 Z\" fill=\"#000000\" fill-rule=\"evenodd\" fill-opacity=\"1\" /><path clip-path=\"url(#clip2300)\" d=\"M 0 0 M2194.48 1520.78 Q2191.33 1520.78 2189.48 1522.93 Q2187.65 1525.08 2187.65 1528.83 Q2187.65 1532.56 2189.48 1534.73 Q2191.33 1536.89 2194.48 1536.89 Q2197.63 1536.89 2199.46 1534.73 Q2201.31 1532.56 2201.31 1528.83 Q2201.31 1525.08 2199.46 1522.93 Q2197.63 1520.78 2194.48 1520.78 M2203.76 1506.12 L2203.76 1510.38 Q2202 1509.55 2200.2 1509.11 Q2198.42 1508.67 2196.66 1508.67 Q2192.03 1508.67 2189.57 1511.8 Q2187.14 1514.92 2186.8 1521.24 Q2188.16 1519.23 2190.22 1518.16 Q2192.28 1517.07 2194.76 1517.07 Q2199.97 1517.07 2202.98 1520.24 Q2206.01 1523.39 2206.01 1528.83 Q2206.01 1534.16 2202.86 1537.37 Q2199.71 1540.59 2194.48 1540.59 Q2188.49 1540.59 2185.31 1536.01 Q2182.14 1531.4 2182.14 1522.67 Q2182.14 1514.48 2186.03 1509.62 Q2189.92 1504.73 2196.47 1504.73 Q2198.23 1504.73 2200.01 1505.08 Q2201.82 1505.43 2203.76 1506.12 Z\" fill=\"#000000\" fill-rule=\"evenodd\" fill-opacity=\"1\" /><path clip-path=\"url(#clip2300)\" d=\"M 0 0 M71.8578 1301.26 L88.1772 1301.26 L88.1772 1305.2 L66.2328 1305.2 L66.2328 1301.26 Q68.8949 1298.51 73.4782 1293.88 Q78.0846 1289.22 79.2652 1287.88 Q81.5105 1285.36 82.3902 1283.62 Q83.2929 1281.86 83.2929 1280.17 Q83.2929 1277.42 81.3485 1275.68 Q79.4272 1273.95 76.3254 1273.95 Q74.1263 1273.95 71.6726 1274.71 Q69.2421 1275.47 66.4643 1277.02 L66.4643 1272.3 Q69.2884 1271.17 71.7421 1270.59 Q74.1958 1270.01 76.2328 1270.01 Q81.6031 1270.01 84.7976 1272.7 Q87.992 1275.38 87.992 1279.87 Q87.992 1282 87.1818 1283.92 Q86.3948 1285.82 84.2883 1288.41 Q83.7096 1289.09 80.6078 1292.3 Q77.5059 1295.5 71.8578 1301.26 Z\" fill=\"#000000\" fill-rule=\"evenodd\" fill-opacity=\"1\" /><path clip-path=\"url(#clip2300)\" d=\"M 0 0 M81.0476 1025.39 Q84.404 1026.11 86.279 1028.38 Q88.1772 1030.65 88.1772 1033.98 Q88.1772 1039.09 84.6587 1041.9 Q81.1402 1044.7 74.6587 1044.7 Q72.4828 1044.7 70.168 1044.26 Q67.8764 1043.84 65.4227 1042.98 L65.4227 1038.47 Q67.3671 1039.6 69.6819 1040.18 Q71.9967 1040.76 74.5198 1040.76 Q78.918 1040.76 81.2096 1039.02 Q83.5244 1037.29 83.5244 1033.98 Q83.5244 1030.92 81.3717 1029.21 Q79.242 1027.47 75.4226 1027.47 L71.3949 1027.47 L71.3949 1023.63 L75.6078 1023.63 Q79.0569 1023.63 80.8855 1022.27 Q82.7142 1020.88 82.7142 1018.28 Q82.7142 1015.62 80.8161 1014.21 Q78.9411 1012.77 75.4226 1012.77 Q73.5013 1012.77 71.3023 1013.19 Q69.1032 1013.61 66.4643 1014.49 L66.4643 1010.32 Q69.1264 1009.58 71.4412 1009.21 Q73.7791 1008.84 75.8393 1008.84 Q81.1633 1008.84 84.2652 1011.27 Q87.367 1013.68 87.367 1017.8 Q87.367 1020.67 85.7235 1022.66 Q84.08 1024.63 81.0476 1025.39 Z\" fill=\"#000000\" fill-rule=\"evenodd\" fill-opacity=\"1\" /><path clip-path=\"url(#clip2300)\" d=\"M 0 0 M78.5939 752.367 L66.7884 770.816 L78.5939 770.816 L78.5939 752.367 M77.367 748.293 L83.2466 748.293 L83.2466 770.816 L88.1772 770.816 L88.1772 774.705 L83.2466 774.705 L83.2466 782.853 L78.5939 782.853 L78.5939 774.705 L62.9921 774.705 L62.9921 770.191 L77.367 748.293 Z\" fill=\"#000000\" fill-rule=\"evenodd\" fill-opacity=\"1\" /><path clip-path=\"url(#clip2300)\" d=\"M 0 0 M67.2745 487.122 L85.6309 487.122 L85.6309 491.057 L71.5569 491.057 L71.5569 499.529 Q72.5754 499.182 73.5939 499.02 Q74.6124 498.835 75.6309 498.835 Q81.418 498.835 84.7976 502.006 Q88.1772 505.177 88.1772 510.594 Q88.1772 516.173 84.705 519.274 Q81.2328 522.353 74.9134 522.353 Q72.7374 522.353 70.4689 521.983 Q68.2236 521.612 65.8162 520.872 L65.8162 516.173 Q67.8995 517.307 70.1217 517.862 Q72.3439 518.418 74.8208 518.418 Q78.8254 518.418 81.1633 516.311 Q83.5013 514.205 83.5013 510.594 Q83.5013 506.983 81.1633 504.876 Q78.8254 502.77 74.8208 502.77 Q72.9458 502.77 71.0708 503.187 Q69.2189 503.603 67.2745 504.483 L67.2745 487.122 Z\" fill=\"#000000\" fill-rule=\"evenodd\" fill-opacity=\"1\" /><path clip-path=\"url(#clip2300)\" d=\"M 0 0 M76.6495 241.367 Q73.5013 241.367 71.6495 243.52 Q69.8208 245.672 69.8208 249.422 Q69.8208 253.149 71.6495 255.325 Q73.5013 257.478 76.6495 257.478 Q79.7976 257.478 81.6263 255.325 Q83.4781 253.149 83.4781 249.422 Q83.4781 245.672 81.6263 243.52 Q79.7976 241.367 76.6495 241.367 M85.9318 226.714 L85.9318 230.973 Q84.1726 230.14 82.367 229.7 Q80.5846 229.261 78.8254 229.261 Q74.1958 229.261 71.7421 232.385 Q69.3115 235.51 68.9643 241.83 Q70.33 239.816 72.3902 238.751 Q74.4504 237.663 76.9272 237.663 Q82.1355 237.663 85.1448 240.835 Q88.1772 243.983 88.1772 249.422 Q88.1772 254.746 85.029 257.964 Q81.8809 261.182 76.6495 261.182 Q70.6541 261.182 67.4828 256.598 Q64.3116 251.992 64.3116 243.265 Q64.3116 235.071 68.2004 230.21 Q72.0893 225.325 78.6402 225.325 Q80.3994 225.325 82.1818 225.673 Q83.9874 226.02 85.9318 226.714 Z\" fill=\"#000000\" fill-rule=\"evenodd\" fill-opacity=\"1\" /><polyline clip-path=\"url(#clip2302)\" style=\"stroke:#009af9; stroke-width:4; stroke-opacity:1; fill:none\" points=\"\n",
       "  175.59,899.309 182.636,894.539 189.681,889.769 196.727,884.999 203.773,880.23 210.819,875.46 217.865,870.69 224.911,865.921 231.957,861.151 239.002,856.381 \n",
       "  246.048,851.611 253.094,846.842 260.14,842.072 267.186,837.302 274.232,832.532 281.277,827.763 288.323,822.993 295.369,818.223 302.415,813.454 309.461,808.684 \n",
       "  316.507,803.914 323.553,799.144 330.598,794.375 337.644,789.605 344.69,784.835 351.736,780.065 358.782,775.296 365.828,770.526 372.873,765.756 379.919,760.987 \n",
       "  386.965,756.217 394.011,751.447 401.057,746.677 408.103,741.908 415.149,737.138 422.194,732.368 429.24,727.598 436.286,722.829 443.332,718.059 450.378,713.289 \n",
       "  457.424,708.52 464.469,703.75 471.515,698.98 478.561,694.21 485.607,689.441 492.653,684.671 499.699,679.901 506.744,675.132 513.79,670.362 520.836,665.592 \n",
       "  527.882,660.822 534.928,656.053 541.974,651.283 549.02,646.513 556.065,641.743 563.111,636.974 570.157,632.204 577.203,627.434 584.249,622.665 591.295,617.895 \n",
       "  598.34,613.125 605.386,608.355 612.432,603.586 619.478,598.816 626.524,594.046 633.57,589.276 640.616,584.507 647.661,579.737 654.707,574.967 661.753,570.198 \n",
       "  668.799,565.428 675.845,560.658 682.891,555.888 689.936,551.119 696.982,546.349 704.028,541.579 711.074,536.809 718.12,532.04 725.166,527.27 732.212,522.5 \n",
       "  739.257,517.731 746.303,512.961 753.349,508.191 760.395,503.421 767.441,498.652 774.487,493.882 781.532,489.112 788.578,484.343 795.624,479.573 802.67,474.803 \n",
       "  809.716,470.033 816.762,465.264 823.808,460.494 830.853,455.724 837.899,450.954 844.945,446.185 851.991,441.415 859.037,436.645 866.083,431.876 873.128,427.106 \n",
       "  880.174,422.336 887.22,417.566 894.266,412.797 901.312,408.027 908.358,403.257 915.404,398.487 922.449,393.718 929.495,388.948 936.541,384.178 943.587,379.409 \n",
       "  950.633,374.639 957.679,369.869 964.724,365.099 971.77,360.33 978.816,355.56 985.862,350.79 992.908,346.02 999.954,341.251 1007,336.481 1014.05,331.711 \n",
       "  1021.09,326.942 1028.14,322.172 1035.18,317.402 1042.23,312.632 1049.27,307.863 1056.32,303.093 1063.37,298.323 1070.41,293.554 1077.46,288.784 1084.5,284.014 \n",
       "  1091.55,279.244 1098.6,274.475 1105.64,269.705 1112.69,264.935 1119.73,260.165 1126.78,255.396 1133.82,250.626 1140.87,245.856 1147.92,241.087 1154.96,236.317 \n",
       "  1162.01,231.547 1169.05,226.777 1176.1,222.008 1183.15,217.238 1190.19,212.468 1197.24,207.699 1204.28,202.929 1211.33,198.159 1218.37,193.39 1225.42,188.62 \n",
       "  1232.47,183.851 1239.51,179.082 1246.56,174.314 1253.6,169.547 1260.65,164.782 1267.7,160.021 1274.74,155.265 1281.79,150.52 1288.83,145.793 1295.88,141.096 \n",
       "  1302.92,136.451 1309.97,131.893 1317.02,127.485 1324.06,123.329 1331.11,119.6 1338.15,116.59 1345.2,114.79 1352.25,115.02 1359.29,118.631 1366.34,127.834 \n",
       "  1373.38,146.156 1380.43,179.016 1387.48,234.196 1394.52,321.509 1401.57,450.237 1408.61,622.665 1415.66,825.21 1422.7,1026.6 1429.75,1193.14 1436.8,1309.13 \n",
       "  1443.84,1379.45 1450.89,1417.68 1457.93,1436.34 1464.98,1444 1472.03,1445.72 1479.07,1444.3 1486.12,1441.26 1493.16,1437.37 1500.21,1433.05 1507.25,1428.51 \n",
       "  1514.3,1423.86 1521.35,1419.15 1528.39,1414.41 1535.44,1409.65 1542.48,1404.89 1549.53,1400.13 1556.58,1395.36 1563.62,1390.59 1570.67,1385.82 1577.71,1381.05 \n",
       "  1584.76,1376.28 1591.8,1371.51 1598.85,1366.74 1605.9,1361.97 1612.94,1357.2 1619.99,1352.43 1627.03,1347.66 1634.08,1342.89 1641.13,1338.12 1648.17,1333.35 \n",
       "  1655.22,1328.58 1662.26,1323.81 1669.31,1319.04 1676.35,1314.27 1683.4,1309.5 1690.45,1304.74 1697.49,1299.97 1704.54,1295.2 1711.58,1290.43 1718.63,1285.66 \n",
       "  1725.68,1280.89 1732.72,1276.12 1739.77,1271.35 1746.81,1266.58 1753.86,1261.81 1760.9,1257.04 1767.95,1252.27 1775,1247.5 1782.04,1242.73 1789.09,1237.96 \n",
       "  1796.13,1233.19 1803.18,1228.42 1810.23,1223.65 1817.27,1218.88 1824.32,1214.11 1831.36,1209.34 1838.41,1204.57 1845.46,1199.8 1852.5,1195.03 1859.55,1190.26 \n",
       "  1866.59,1185.49 1873.64,1180.72 1880.68,1175.95 1887.73,1171.18 1894.78,1166.41 1901.82,1161.64 1908.87,1156.87 1915.91,1152.1 1922.96,1147.33 1930.01,1142.56 \n",
       "  1937.05,1137.79 1944.1,1133.03 1951.14,1128.26 1958.19,1123.49 1965.23,1118.72 1972.28,1113.95 1979.33,1109.18 1986.37,1104.41 1993.42,1099.64 2000.46,1094.87 \n",
       "  2007.51,1090.1 2014.56,1085.33 2021.6,1080.56 2028.65,1075.79 2035.69,1071.02 2042.74,1066.25 2049.78,1061.48 2056.83,1056.71 2063.88,1051.94 2070.92,1047.17 \n",
       "  2077.97,1042.4 2085.01,1037.63 2092.06,1032.86 2099.11,1028.09 2106.15,1023.32 2113.2,1018.55 2120.24,1013.78 2127.29,1009.01 2134.33,1004.24 2141.38,999.473 \n",
       "  2148.43,994.703 2155.47,989.933 2162.52,985.164 2169.56,980.394 2176.61,975.624 2183.66,970.854 2190.7,966.085 2197.75,961.315 2204.79,956.545 2211.84,951.776 \n",
       "  2218.88,947.006 2225.93,942.236 2232.98,937.466 2240.02,932.697 2247.07,927.927 2254.11,923.157 2261.16,918.387 2268.21,913.618 2275.25,908.848 2282.3,904.078 \n",
       "  2289.34,899.309 \n",
       "  \"/>\n",
       "<polyline clip-path=\"url(#clip2302)\" style=\"stroke:#e26f46; stroke-width:4; stroke-opacity:1; fill:none\" points=\"\n",
       "  175.59,899.149 182.636,894.378 189.681,889.608 196.727,884.837 203.773,880.067 210.819,875.296 217.865,870.526 224.911,865.755 231.957,860.984 239.002,856.214 \n",
       "  246.048,851.443 253.094,846.673 260.14,841.902 267.186,837.132 274.232,832.361 281.277,827.591 288.323,822.82 295.369,818.049 302.415,813.279 309.461,808.508 \n",
       "  316.507,803.738 323.553,798.967 330.598,794.197 337.644,789.426 344.69,784.655 351.736,779.885 358.782,775.114 365.828,770.344 372.873,765.573 379.919,760.803 \n",
       "  386.965,756.032 394.011,751.262 401.057,746.491 408.103,741.72 415.149,736.95 422.194,732.179 429.24,727.409 436.286,722.638 443.332,717.868 450.378,713.097 \n",
       "  457.424,708.326 464.469,703.556 471.515,698.785 478.561,694.015 485.607,689.244 492.653,684.474 499.699,679.703 506.744,674.933 513.79,670.162 520.836,665.391 \n",
       "  527.882,660.621 534.928,655.85 541.974,651.08 549.02,646.309 556.065,641.539 563.111,636.768 570.157,631.998 577.203,627.227 584.249,622.456 591.295,617.686 \n",
       "  598.34,612.915 605.386,608.145 612.432,603.374 619.478,598.604 626.524,593.833 633.57,589.062 640.616,584.292 647.661,579.521 654.707,574.751 661.753,569.98 \n",
       "  668.799,565.21 675.845,560.439 682.891,555.669 689.936,550.898 696.982,546.127 704.028,541.357 711.074,536.586 718.12,531.816 725.166,527.045 732.212,522.275 \n",
       "  739.257,517.504 746.303,512.733 753.349,507.963 760.395,503.192 767.441,498.422 774.487,493.651 781.532,488.881 788.578,484.11 795.624,479.34 802.67,474.569 \n",
       "  809.716,469.798 816.762,465.028 823.808,460.257 830.853,455.487 837.899,450.716 844.945,445.946 851.991,441.175 859.037,436.405 866.083,431.634 873.128,426.863 \n",
       "  880.174,422.093 887.22,417.322 894.266,412.552 901.312,407.781 908.358,403.011 915.404,398.24 922.449,393.469 929.495,388.699 936.541,383.928 943.587,379.158 \n",
       "  950.633,374.387 957.679,369.617 964.724,364.846 971.77,360.076 978.816,355.305 985.862,350.534 992.908,345.764 999.954,340.993 1007,336.223 1014.05,331.452 \n",
       "  1021.09,326.682 1028.14,321.911 1035.18,317.14 1042.23,312.37 1049.27,307.599 1056.32,302.829 1063.37,298.058 1070.41,293.288 1077.46,288.517 1084.5,283.747 \n",
       "  1091.55,278.976 1098.6,274.205 1105.64,269.435 1112.69,264.664 1119.73,259.894 1126.78,255.123 1133.82,250.353 1140.87,245.582 1147.92,240.812 1154.96,236.041 \n",
       "  1162.01,231.27 1169.05,226.5 1176.1,221.729 1183.15,216.959 1190.19,212.188 1197.24,207.418 1204.28,202.647 1211.33,197.876 1218.37,193.106 1225.42,188.335 \n",
       "  1232.47,183.565 1239.51,178.794 1246.56,174.024 1253.6,169.253 1260.65,164.483 1267.7,159.712 1274.74,154.941 1281.79,150.171 1288.83,145.4 1295.88,140.63 \n",
       "  1302.92,135.86 1309.97,131.09 1317.02,126.321 1324.06,121.554 1331.11,116.792 1338.15,112.04 1345.2,107.312 1352.25,102.639 1359.29,98.0885 1366.34,93.8178 \n",
       "  1373.38,90.1807 1380.43,87.9763 1387.48,88.9968 1394.52,97.1991 1401.57,121.015 1408.61,177.018 1415.66,292.132 1422.7,492.427 1429.75,765.573 1436.8,1038.72 \n",
       "  1443.84,1239.01 1450.89,1354.13 1457.93,1410.13 1464.98,1433.95 1472.03,1442.15 1479.07,1443.17 1486.12,1440.97 1493.16,1437.33 1500.21,1433.06 1507.25,1428.51 \n",
       "  1514.3,1423.83 1521.35,1419.11 1528.39,1414.35 1535.44,1409.59 1542.48,1404.83 1549.53,1400.06 1556.58,1395.29 1563.62,1390.52 1570.67,1385.75 1577.71,1380.98 \n",
       "  1584.76,1376.21 1591.8,1371.43 1598.85,1366.66 1605.9,1361.89 1612.94,1357.12 1619.99,1352.35 1627.03,1347.58 1634.08,1342.81 1641.13,1338.04 1648.17,1333.27 \n",
       "  1655.22,1328.5 1662.26,1323.73 1669.31,1318.96 1676.35,1314.19 1683.4,1309.42 1690.45,1304.65 1697.49,1299.88 1704.54,1295.11 1711.58,1290.33 1718.63,1285.56 \n",
       "  1725.68,1280.79 1732.72,1276.02 1739.77,1271.25 1746.81,1266.48 1753.86,1261.71 1760.9,1256.94 1767.95,1252.17 1775,1247.4 1782.04,1242.63 1789.09,1237.86 \n",
       "  1796.13,1233.09 1803.18,1228.32 1810.23,1223.55 1817.27,1218.78 1824.32,1214.01 1831.36,1209.24 1838.41,1204.46 1845.46,1199.69 1852.5,1194.92 1859.55,1190.15 \n",
       "  1866.59,1185.38 1873.64,1180.61 1880.68,1175.84 1887.73,1171.07 1894.78,1166.3 1901.82,1161.53 1908.87,1156.76 1915.91,1151.99 1922.96,1147.22 1930.01,1142.45 \n",
       "  1937.05,1137.68 1944.1,1132.91 1951.14,1128.14 1958.19,1123.37 1965.23,1118.59 1972.28,1113.82 1979.33,1109.05 1986.37,1104.28 1993.42,1099.51 2000.46,1094.74 \n",
       "  2007.51,1089.97 2014.56,1085.2 2021.6,1080.43 2028.65,1075.66 2035.69,1070.89 2042.74,1066.12 2049.78,1061.35 2056.83,1056.58 2063.88,1051.81 2070.92,1047.04 \n",
       "  2077.97,1042.27 2085.01,1037.5 2092.06,1032.72 2099.11,1027.95 2106.15,1023.18 2113.2,1018.41 2120.24,1013.64 2127.29,1008.87 2134.33,1004.1 2141.38,999.331 \n",
       "  2148.43,994.56 2155.47,989.79 2162.52,985.019 2169.56,980.248 2176.61,975.478 2183.66,970.707 2190.7,965.937 2197.75,961.166 2204.79,956.396 2211.84,951.625 \n",
       "  2218.88,946.855 2225.93,942.084 2232.98,937.313 2240.02,932.543 2247.07,927.772 2254.11,923.002 2261.16,918.231 2268.21,913.461 2275.25,908.69 2282.3,903.919 \n",
       "  2289.34,899.149 \n",
       "  \"/>\n",
       "<path clip-path=\"url(#clip2300)\" d=\"\n",
       "M1835.25 312.204 L2280.76 312.204 L2280.76 130.764 L1835.25 130.764  Z\n",
       "  \" fill=\"#ffffff\" fill-rule=\"evenodd\" fill-opacity=\"1\"/>\n",
       "<polyline clip-path=\"url(#clip2300)\" style=\"stroke:#000000; stroke-width:4; stroke-opacity:1; fill:none\" points=\"\n",
       "  1835.25,312.204 2280.76,312.204 2280.76,130.764 1835.25,130.764 1835.25,312.204 \n",
       "  \"/>\n",
       "<polyline clip-path=\"url(#clip2300)\" style=\"stroke:#009af9; stroke-width:4; stroke-opacity:1; fill:none\" points=\"\n",
       "  1859.25,191.244 2003.25,191.244 \n",
       "  \"/>\n",
       "<path clip-path=\"url(#clip2300)\" d=\"M 0 0 M2027.25 173.964 L2033.54 173.964 L2048.87 202.876 L2048.87 173.964 L2053.41 173.964 L2053.41 208.524 L2047.11 208.524 L2031.78 179.612 L2031.78 208.524 L2027.25 208.524 L2027.25 173.964 Z\" fill=\"#000000\" fill-rule=\"evenodd\" fill-opacity=\"1\" /><path clip-path=\"url(#clip2300)\" d=\"M 0 0 M2057.43 198.293 L2057.43 182.598 L2061.69 182.598 L2061.69 198.131 Q2061.69 201.811 2063.13 203.663 Q2064.56 205.492 2067.43 205.492 Q2070.88 205.492 2072.87 203.293 Q2074.89 201.094 2074.89 197.297 L2074.89 182.598 L2079.15 182.598 L2079.15 208.524 L2074.89 208.524 L2074.89 204.543 Q2073.34 206.904 2071.28 208.061 Q2069.24 209.195 2066.53 209.195 Q2062.06 209.195 2059.75 206.418 Q2057.43 203.64 2057.43 198.293 M2068.15 181.973 L2068.15 181.973 Z\" fill=\"#000000\" fill-rule=\"evenodd\" fill-opacity=\"1\" /><path clip-path=\"url(#clip2300)\" d=\"M 0 0 M2103.8 187.575 Q2105.4 184.705 2107.62 183.339 Q2109.84 181.973 2112.85 181.973 Q2116.9 181.973 2119.1 184.821 Q2121.3 187.645 2121.3 192.876 L2121.3 208.524 L2117.02 208.524 L2117.02 193.015 Q2117.02 189.288 2115.7 187.483 Q2114.38 185.677 2111.67 185.677 Q2108.36 185.677 2106.44 187.876 Q2104.52 190.075 2104.52 193.871 L2104.52 208.524 L2100.23 208.524 L2100.23 193.015 Q2100.23 189.265 2098.91 187.483 Q2097.59 185.677 2094.84 185.677 Q2091.58 185.677 2089.65 187.899 Q2087.73 190.098 2087.73 193.871 L2087.73 208.524 L2083.45 208.524 L2083.45 182.598 L2087.73 182.598 L2087.73 186.626 Q2089.19 184.242 2091.23 183.108 Q2093.27 181.973 2096.07 181.973 Q2098.89 181.973 2100.86 183.408 Q2102.85 184.844 2103.8 187.575 Z\" fill=\"#000000\" fill-rule=\"evenodd\" fill-opacity=\"1\" /><path clip-path=\"url(#clip2300)\" d=\"M 0 0 M2147.94 194.496 L2147.94 196.58 L2128.36 196.58 Q2128.64 200.978 2131 203.293 Q2133.38 205.584 2137.62 205.584 Q2140.07 205.584 2142.36 204.982 Q2144.68 204.381 2146.95 203.177 L2146.95 207.205 Q2144.65 208.177 2142.25 208.686 Q2139.84 209.195 2137.36 209.195 Q2131.16 209.195 2127.52 205.584 Q2123.91 201.973 2123.91 195.816 Q2123.91 189.45 2127.34 185.723 Q2130.79 181.973 2136.62 181.973 Q2141.85 181.973 2144.89 185.353 Q2147.94 188.709 2147.94 194.496 M2143.68 193.246 Q2143.64 189.751 2141.71 187.668 Q2139.82 185.584 2136.67 185.584 Q2133.1 185.584 2130.95 187.598 Q2128.82 189.612 2128.5 193.27 L2143.68 193.246 Z\" fill=\"#000000\" fill-rule=\"evenodd\" fill-opacity=\"1\" /><path clip-path=\"url(#clip2300)\" d=\"M 0 0 M2167.43 186.58 Q2166.71 186.163 2165.86 185.978 Q2165.02 185.77 2164.01 185.77 Q2160.4 185.77 2158.45 188.131 Q2156.53 190.469 2156.53 194.867 L2156.53 208.524 L2152.25 208.524 L2152.25 182.598 L2156.53 182.598 L2156.53 186.626 Q2157.87 184.265 2160.02 183.131 Q2162.18 181.973 2165.26 181.973 Q2165.7 181.973 2166.23 182.043 Q2166.76 182.089 2167.41 182.205 L2167.43 186.58 Z\" fill=\"#000000\" fill-rule=\"evenodd\" fill-opacity=\"1\" /><path clip-path=\"url(#clip2300)\" d=\"M 0 0 M2171.9 182.598 L2176.16 182.598 L2176.16 208.524 L2171.9 208.524 L2171.9 182.598 M2171.9 172.506 L2176.16 172.506 L2176.16 177.899 L2171.9 177.899 L2171.9 172.506 Z\" fill=\"#000000\" fill-rule=\"evenodd\" fill-opacity=\"1\" /><path clip-path=\"url(#clip2300)\" d=\"M 0 0 M2199.28 183.594 L2199.28 187.575 Q2197.48 186.58 2195.65 186.094 Q2193.84 185.584 2191.99 185.584 Q2187.85 185.584 2185.56 188.223 Q2183.27 190.839 2183.27 195.584 Q2183.27 200.33 2185.56 202.969 Q2187.85 205.584 2191.99 205.584 Q2193.84 205.584 2195.65 205.098 Q2197.48 204.589 2199.28 203.594 L2199.28 207.529 Q2197.5 208.362 2195.58 208.779 Q2193.68 209.195 2191.53 209.195 Q2185.67 209.195 2182.22 205.515 Q2178.77 201.834 2178.77 195.584 Q2178.77 189.242 2182.25 185.608 Q2185.74 181.973 2191.81 181.973 Q2193.77 181.973 2195.65 182.39 Q2197.52 182.783 2199.28 183.594 Z\" fill=\"#000000\" fill-rule=\"evenodd\" fill-opacity=\"1\" /><path clip-path=\"url(#clip2300)\" d=\"M 0 0 M2215.53 195.492 Q2210.37 195.492 2208.38 196.672 Q2206.39 197.853 2206.39 200.7 Q2206.39 202.969 2207.87 204.311 Q2209.38 205.631 2211.95 205.631 Q2215.49 205.631 2217.62 203.131 Q2219.77 200.607 2219.77 196.441 L2219.77 195.492 L2215.53 195.492 M2224.03 193.733 L2224.03 208.524 L2219.77 208.524 L2219.77 204.589 Q2218.31 206.95 2216.14 208.084 Q2213.96 209.195 2210.81 209.195 Q2206.83 209.195 2204.47 206.973 Q2202.13 204.728 2202.13 200.978 Q2202.13 196.603 2205.05 194.381 Q2207.99 192.158 2213.8 192.158 L2219.77 192.158 L2219.77 191.742 Q2219.77 188.802 2217.83 187.205 Q2215.9 185.584 2212.41 185.584 Q2210.19 185.584 2208.08 186.117 Q2205.97 186.649 2204.03 187.714 L2204.03 183.779 Q2206.37 182.876 2208.57 182.436 Q2210.77 181.973 2212.85 181.973 Q2218.47 181.973 2221.25 184.89 Q2224.03 187.807 2224.03 193.733 Z\" fill=\"#000000\" fill-rule=\"evenodd\" fill-opacity=\"1\" /><path clip-path=\"url(#clip2300)\" d=\"M 0 0 M2228.5 172.506 L2232.76 172.506 L2232.76 208.524 L2228.5 208.524 L2228.5 172.506 Z\" fill=\"#000000\" fill-rule=\"evenodd\" fill-opacity=\"1\" /><polyline clip-path=\"url(#clip2300)\" style=\"stroke:#e26f46; stroke-width:4; stroke-opacity:1; fill:none\" points=\"\n",
       "  1859.25,251.724 2003.25,251.724 \n",
       "  \"/>\n",
       "<path clip-path=\"url(#clip2300)\" d=\"M 0 0 M2043.08 239.051 L2036.74 256.25 L2049.45 256.25 L2043.08 239.051 M2040.44 234.444 L2045.74 234.444 L2058.91 269.004 L2054.05 269.004 L2050.91 260.138 L2035.33 260.138 L2032.18 269.004 L2027.25 269.004 L2040.44 234.444 Z\" fill=\"#000000\" fill-rule=\"evenodd\" fill-opacity=\"1\" /><path clip-path=\"url(#clip2300)\" d=\"M 0 0 M2084.93 253.356 L2084.93 269.004 L2080.67 269.004 L2080.67 253.495 Q2080.67 249.814 2079.24 247.986 Q2077.8 246.157 2074.93 246.157 Q2071.48 246.157 2069.49 248.356 Q2067.5 250.555 2067.5 254.351 L2067.5 269.004 L2063.22 269.004 L2063.22 243.078 L2067.5 243.078 L2067.5 247.106 Q2069.03 244.768 2071.09 243.611 Q2073.17 242.453 2075.88 242.453 Q2080.35 242.453 2082.64 245.231 Q2084.93 247.986 2084.93 253.356 Z\" fill=\"#000000\" fill-rule=\"evenodd\" fill-opacity=\"1\" /><path clip-path=\"url(#clip2300)\" d=\"M 0 0 M2101.18 255.972 Q2096.02 255.972 2094.03 257.152 Q2092.04 258.333 2092.04 261.18 Q2092.04 263.449 2093.52 264.791 Q2095.03 266.111 2097.59 266.111 Q2101.14 266.111 2103.27 263.611 Q2105.42 261.087 2105.42 256.921 L2105.42 255.972 L2101.18 255.972 M2109.68 254.213 L2109.68 269.004 L2105.42 269.004 L2105.42 265.069 Q2103.96 267.43 2101.78 268.564 Q2099.61 269.675 2096.46 269.675 Q2092.48 269.675 2090.12 267.453 Q2087.78 265.208 2087.78 261.458 Q2087.78 257.083 2090.7 254.861 Q2093.64 252.638 2099.45 252.638 L2105.42 252.638 L2105.42 252.222 Q2105.42 249.282 2103.47 247.685 Q2101.55 246.064 2098.06 246.064 Q2095.84 246.064 2093.73 246.597 Q2091.62 247.129 2089.68 248.194 L2089.68 244.259 Q2092.02 243.356 2094.21 242.916 Q2096.41 242.453 2098.5 242.453 Q2104.12 242.453 2106.9 245.37 Q2109.68 248.287 2109.68 254.213 Z\" fill=\"#000000\" fill-rule=\"evenodd\" fill-opacity=\"1\" /><path clip-path=\"url(#clip2300)\" d=\"M 0 0 M2114.15 232.986 L2118.4 232.986 L2118.4 269.004 L2114.15 269.004 L2114.15 232.986 Z\" fill=\"#000000\" fill-rule=\"evenodd\" fill-opacity=\"1\" /><path clip-path=\"url(#clip2300)\" d=\"M 0 0 M2133.66 271.411 Q2131.85 276.041 2130.14 277.453 Q2128.43 278.865 2125.56 278.865 L2122.15 278.865 L2122.15 275.3 L2124.65 275.3 Q2126.41 275.3 2127.39 274.467 Q2128.36 273.634 2129.54 270.532 L2130.3 268.587 L2119.82 243.078 L2124.33 243.078 L2132.43 263.356 L2140.53 243.078 L2145.05 243.078 L2133.66 271.411 Z\" fill=\"#000000\" fill-rule=\"evenodd\" fill-opacity=\"1\" /><path clip-path=\"url(#clip2300)\" d=\"M 0 0 M2153.73 235.717 L2153.73 243.078 L2162.5 243.078 L2162.5 246.388 L2153.73 246.388 L2153.73 260.462 Q2153.73 263.634 2154.59 264.537 Q2155.46 265.439 2158.13 265.439 L2162.5 265.439 L2162.5 269.004 L2158.13 269.004 Q2153.2 269.004 2151.32 267.175 Q2149.45 265.324 2149.45 260.462 L2149.45 246.388 L2146.32 246.388 L2146.32 243.078 L2149.45 243.078 L2149.45 235.717 L2153.73 235.717 Z\" fill=\"#000000\" fill-rule=\"evenodd\" fill-opacity=\"1\" /><path clip-path=\"url(#clip2300)\" d=\"M 0 0 M2166.97 243.078 L2171.23 243.078 L2171.23 269.004 L2166.97 269.004 L2166.97 243.078 M2166.97 232.986 L2171.23 232.986 L2171.23 238.379 L2166.97 238.379 L2166.97 232.986 Z\" fill=\"#000000\" fill-rule=\"evenodd\" fill-opacity=\"1\" /><path clip-path=\"url(#clip2300)\" d=\"M 0 0 M2194.35 244.074 L2194.35 248.055 Q2192.55 247.06 2190.72 246.574 Q2188.91 246.064 2187.06 246.064 Q2182.92 246.064 2180.63 248.703 Q2178.33 251.319 2178.33 256.064 Q2178.33 260.81 2180.63 263.449 Q2182.92 266.064 2187.06 266.064 Q2188.91 266.064 2190.72 265.578 Q2192.55 265.069 2194.35 264.074 L2194.35 268.009 Q2192.57 268.842 2190.65 269.259 Q2188.75 269.675 2186.6 269.675 Q2180.74 269.675 2177.29 265.995 Q2173.84 262.314 2173.84 256.064 Q2173.84 249.722 2177.32 246.088 Q2180.81 242.453 2186.88 242.453 Q2188.84 242.453 2190.72 242.87 Q2192.59 243.263 2194.35 244.074 Z\" fill=\"#000000\" fill-rule=\"evenodd\" fill-opacity=\"1\" /><path clip-path=\"url(#clip2300)\" d=\"M 0 0 M2210.6 255.972 Q2205.44 255.972 2203.45 257.152 Q2201.46 258.333 2201.46 261.18 Q2201.46 263.449 2202.94 264.791 Q2204.45 266.111 2207.02 266.111 Q2210.56 266.111 2212.69 263.611 Q2214.84 261.087 2214.84 256.921 L2214.84 255.972 L2210.6 255.972 M2219.1 254.213 L2219.1 269.004 L2214.84 269.004 L2214.84 265.069 Q2213.38 267.43 2211.21 268.564 Q2209.03 269.675 2205.88 269.675 Q2201.9 269.675 2199.54 267.453 Q2197.2 265.208 2197.2 261.458 Q2197.2 257.083 2200.12 254.861 Q2203.06 252.638 2208.87 252.638 L2214.84 252.638 L2214.84 252.222 Q2214.84 249.282 2212.89 247.685 Q2210.97 246.064 2207.48 246.064 Q2205.26 246.064 2203.15 246.597 Q2201.04 247.129 2199.1 248.194 L2199.1 244.259 Q2201.44 243.356 2203.64 242.916 Q2205.83 242.453 2207.92 242.453 Q2213.54 242.453 2216.32 245.37 Q2219.1 248.287 2219.1 254.213 Z\" fill=\"#000000\" fill-rule=\"evenodd\" fill-opacity=\"1\" /><path clip-path=\"url(#clip2300)\" d=\"M 0 0 M2223.57 232.986 L2227.83 232.986 L2227.83 269.004 L2223.57 269.004 L2223.57 232.986 Z\" fill=\"#000000\" fill-rule=\"evenodd\" fill-opacity=\"1\" /></svg>\n"
      ]
     },
     "execution_count": 9,
     "metadata": {},
     "output_type": "execute_result"
    }
   ],
   "source": [
    "plot(x,u_numerical, label=\"Numerical\")\n",
    "plot!(x,u_analytical, label=\"Analytical\")"
   ]
  },
  {
   "cell_type": "markdown",
   "metadata": {},
   "source": [
    "***\n",
    "\n",
    "What next?\n",
    "----\n",
    "\n",
    "The subsequent steps, from 5 to 12, will be in two dimensions. But it is easy to extend the 1D finite-difference formulas to the partial derivatives in 2D or 3D. Just apply the definition — a partial derivative with respect to $x$ is the variation in the $x$ direction *while keeping $y$ constant*.\n",
    "\n",
    "Before moving on to Step 5, make sure you have completed your own code for steps 1 through 4 and you have experimented with the parameters and thought about what is happening. "
   ]
  },
  {
   "cell_type": "code",
   "execution_count": null,
   "metadata": {},
   "outputs": [],
   "source": []
  }
 ],
 "metadata": {
  "anaconda-cloud": {},
  "kernelspec": {
   "display_name": "Julia 1.4.0",
   "language": "julia",
   "name": "julia-1.4"
  },
  "language_info": {
   "file_extension": ".jl",
   "mimetype": "application/julia",
   "name": "julia",
   "version": "1.4.0"
  }
 },
 "nbformat": 4,
 "nbformat_minor": 1
}
